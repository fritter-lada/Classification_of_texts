{
 "cells": [
  {
   "cell_type": "markdown",
   "metadata": {
    "toc": true
   },
   "source": [
    "<h1>Содержание<span class=\"tocSkip\"></span></h1>\n",
    "</font></a></span></li></ul></li><li><span><a href=\"#Предобработка-данных\" data-toc-modified-id=\"Предобработка-данных-1\"><span class=\"toc-item-num\">1&nbsp;&nbsp;</span>Предобработка данных</a></span><ul class=\"toc-item\"><li><span><a href=\"#Загрузка-и-изучение-данных\" data-toc-modified-id=\"Загрузка-и-изучение-данных-1.1\"><span class=\"toc-item-num\">1.1&nbsp;&nbsp;</span>Загрузка и изучение данных</a></span></li><li><span><a href=\"#Формирование-выборок\" data-toc-modified-id=\"Формирование-выборок-1.2\"><span class=\"toc-item-num\">1.2&nbsp;&nbsp;</span>Формирование выборок</a></span><ul class=\"toc-item\"><li><span><a href=\"#Разбиение-данных-на-выборки\" data-toc-modified-id=\"Разбиение-данных-на-выборки-1.2.1\"><span class=\"toc-item-num\">1.2.1&nbsp;&nbsp;</span>Разбиение данных на выборки</a></span></li><li><span><a href=\"#Очистка-и-токенизация\" data-toc-modified-id=\"Очистка-и-токенизация-1.2.2\"><span class=\"toc-item-num\">1.2.2&nbsp;&nbsp;</span>Очистка и токенизация</a></span></li><li><span><a href=\"#Лемматизация\" data-toc-modified-id=\"Лемматизация-1.2.3\"><span class=\"toc-item-num\">1.2.3&nbsp;&nbsp;</span>Лемматизация</a></span></li><li><span><a href=\"#TF-IDF-для-корпуса-текстов\" data-toc-modified-id=\"TF-IDF-для-корпуса-текстов-1.2.4\"><span class=\"toc-item-num\">1.2.4&nbsp;&nbsp;</span>TF-IDF для корпуса текстов</a></span></li></ul></li></ul></li><li><span><a href=\"#Обучение-и-анализ-моделей\" data-toc-modified-id=\"Обучение-и-анализ-моделей-2\"><span class=\"toc-item-num\">2&nbsp;&nbsp;</span>Обучение и анализ моделей</a></span><ul class=\"toc-item\"><li><span><a href=\"#Модель-логистической-регрессии\" data-toc-modified-id=\"Модель-логистической-регрессии-2.1\"><span class=\"toc-item-num\">2.1&nbsp;&nbsp;</span>Модель логистической регрессии</a></span></li><li><span><a href=\"#Модель-случайного-леса\" data-toc-modified-id=\"Модель-случайного-леса-2.2\"><span class=\"toc-item-num\">2.2&nbsp;&nbsp;</span>Модель случайного леса</a></span></li><li><span><a href=\"#CatBoost\" data-toc-modified-id=\"CatBoost-2.3\"><span class=\"toc-item-num\">2.3&nbsp;&nbsp;</span>CatBoost</a></span></li><li><span><a href=\"#LightGBM\" data-toc-modified-id=\"LightGBM-2.4\"><span class=\"toc-item-num\">2.4&nbsp;&nbsp;</span>LightGBM</a></span></li><li><span><a href=\"#Выбор-и-проверка-лучшей-модели\" data-toc-modified-id=\"Выбор-и-проверка-лучшей-модели-2.5\"><span class=\"toc-item-num\">2.5&nbsp;&nbsp;</span>Выбор и проверка лучшей модели</a></span></li></ul></li><li><span><a href=\"#Выводы\" data-toc-modified-id=\"Выводы-3\"><span class=\"toc-item-num\">3&nbsp;&nbsp;</span>Выводы</a></span></li><li><span><a href=\"#Чек-лист-проверки\" data-toc-modified-id=\"Чек-лист-проверки-4\"><span class=\"toc-item-num\">4&nbsp;&nbsp;</span>Чек-лист проверки</a></span></li></ul></div>"
   ]
  },
  {
   "cell_type": "markdown",
   "metadata": {},
   "source": [
    "# Проект для «Викишоп»"
   ]
  },
  {
   "cell_type": "markdown",
   "metadata": {},
   "source": [
    "В рамках проекта необходимо построить модель для задачи классификации.\n",
    "\n",
    "Интернет-магазин «Викишоп» запускает новый сервис, в рамках которого пользователи могут редактировать и дополнять описания товаров, как в вики-сообществах. То есть клиенты предлагают свои правки и комментируют изменения других. Магазину нужна модель для поиска токсичных комментариев, чтобы отправлять их на модерацию. \n",
    "\n",
    "Модель должна классифицировать комментарии на позитивные и негативные. Для построения модели используется набор данных с разметкой о токсичности правок.\n",
    "\n",
    "Значение метрики *F1* должно быть не меньше 0.75. \n",
    "\n",
    "Этапы решения задачи:\n",
    "\n",
    "1. Загрузка и подготовка данных.\n",
    "2. Анализ данных.\n",
    "3. Обучение и анализ моделей.\n",
    "4. Выбор наилучшей модели и проверка ее качества на тестовой выборке."
   ]
  },
  {
   "cell_type": "markdown",
   "metadata": {},
   "source": [
    "## Предобработка данных"
   ]
  },
  {
   "cell_type": "markdown",
   "metadata": {},
   "source": [
    "### Загрузка и изучение данных"
   ]
  },
  {
   "cell_type": "markdown",
   "metadata": {},
   "source": [
    "Импортирт библиотек:"
   ]
  },
  {
   "cell_type": "code",
   "execution_count": 1,
   "metadata": {},
   "outputs": [],
   "source": [
    "import pandas as pd\n",
    "import matplotlib.pyplot as plt\n",
    "import numpy as np\n",
    "import catboost as cb\n",
    "import lightgbm as lgb\n",
    "import nltk\n",
    "import re\n",
    "import seaborn as sb\n",
    "\n",
    "from joblib import dump, load\n",
    "from nltk.corpus import stopwords as nltk_stopwords\n",
    "from nltk.corpus import wordnet\n",
    "from nltk.stem import WordNetLemmatizer \n",
    "from numpy.random import randint\n",
    "from sklearn.ensemble import RandomForestClassifier\n",
    "from sklearn.feature_extraction.text import TfidfVectorizer\n",
    "from sklearn.linear_model import LogisticRegression\n",
    "from sklearn.metrics import mean_squared_error,f1_score\n",
    "from sklearn.model_selection import train_test_split, TimeSeriesSplit, cross_val_score, GridSearchCV\n",
    "from sklearn.preprocessing import OneHotEncoder\n",
    "from sklearn.tree import DecisionTreeRegressor\n",
    "from tqdm import notebook"
   ]
  },
  {
   "cell_type": "code",
   "execution_count": 2,
   "metadata": {},
   "outputs": [
    {
     "name": "stderr",
     "output_type": "stream",
     "text": [
      "[nltk_data] Downloading package wordnet to /home/jovyan/nltk_data...\n",
      "[nltk_data]   Package wordnet is already up-to-date!\n",
      "[nltk_data] Downloading package averaged_perceptron_tagger to\n",
      "[nltk_data]     /home/jovyan/nltk_data...\n",
      "[nltk_data]   Package averaged_perceptron_tagger is already up-to-\n",
      "[nltk_data]       date!\n"
     ]
    },
    {
     "data": {
      "text/plain": [
       "True"
      ]
     },
     "execution_count": 2,
     "metadata": {},
     "output_type": "execute_result"
    }
   ],
   "source": [
    "nltk.download('wordnet')\n",
    "nltk.download('averaged_perceptron_tagger')"
   ]
  },
  {
   "cell_type": "markdown",
   "metadata": {},
   "source": [
    "Чтение файла:"
   ]
  },
  {
   "cell_type": "code",
   "execution_count": 3,
   "metadata": {},
   "outputs": [],
   "source": [
    "try:\n",
    "    data = pd.read_csv('/datasets/toxic_comments.csv')\n",
    "except:\n",
    "    print('Ошибка!')"
   ]
  },
  {
   "cell_type": "markdown",
   "metadata": {},
   "source": [
    "Целевой признак находится в столбце `'toxic'`.\n",
    "\n",
    "Выведем основную информацию о данных методом `info()`."
   ]
  },
  {
   "cell_type": "code",
   "execution_count": 4,
   "metadata": {},
   "outputs": [
    {
     "name": "stdout",
     "output_type": "stream",
     "text": [
      "<class 'pandas.core.frame.DataFrame'>\n",
      "RangeIndex: 159292 entries, 0 to 159291\n",
      "Data columns (total 3 columns):\n",
      " #   Column      Non-Null Count   Dtype \n",
      "---  ------      --------------   ----- \n",
      " 0   Unnamed: 0  159292 non-null  int64 \n",
      " 1   text        159292 non-null  object\n",
      " 2   toxic       159292 non-null  int64 \n",
      "dtypes: int64(2), object(1)\n",
      "memory usage: 3.6+ MB\n"
     ]
    }
   ],
   "source": [
    "data.info()"
   ]
  },
  {
   "cell_type": "markdown",
   "metadata": {},
   "source": [
    "В таблице 159 292 строк, 3 столбца. Пропусков нет."
   ]
  },
  {
   "cell_type": "markdown",
   "metadata": {},
   "source": [
    "Выведем первые 5 строк таблицы."
   ]
  },
  {
   "cell_type": "code",
   "execution_count": 5,
   "metadata": {},
   "outputs": [
    {
     "data": {
      "text/html": [
       "<div>\n",
       "<style scoped>\n",
       "    .dataframe tbody tr th:only-of-type {\n",
       "        vertical-align: middle;\n",
       "    }\n",
       "\n",
       "    .dataframe tbody tr th {\n",
       "        vertical-align: top;\n",
       "    }\n",
       "\n",
       "    .dataframe thead th {\n",
       "        text-align: right;\n",
       "    }\n",
       "</style>\n",
       "<table border=\"1\" class=\"dataframe\">\n",
       "  <thead>\n",
       "    <tr style=\"text-align: right;\">\n",
       "      <th></th>\n",
       "      <th>Unnamed: 0</th>\n",
       "      <th>text</th>\n",
       "      <th>toxic</th>\n",
       "    </tr>\n",
       "  </thead>\n",
       "  <tbody>\n",
       "    <tr>\n",
       "      <th>0</th>\n",
       "      <td>0</td>\n",
       "      <td>Explanation\\nWhy the edits made under my usern...</td>\n",
       "      <td>0</td>\n",
       "    </tr>\n",
       "    <tr>\n",
       "      <th>1</th>\n",
       "      <td>1</td>\n",
       "      <td>D'aww! He matches this background colour I'm s...</td>\n",
       "      <td>0</td>\n",
       "    </tr>\n",
       "    <tr>\n",
       "      <th>2</th>\n",
       "      <td>2</td>\n",
       "      <td>Hey man, I'm really not trying to edit war. It...</td>\n",
       "      <td>0</td>\n",
       "    </tr>\n",
       "    <tr>\n",
       "      <th>3</th>\n",
       "      <td>3</td>\n",
       "      <td>\"\\nMore\\nI can't make any real suggestions on ...</td>\n",
       "      <td>0</td>\n",
       "    </tr>\n",
       "    <tr>\n",
       "      <th>4</th>\n",
       "      <td>4</td>\n",
       "      <td>You, sir, are my hero. Any chance you remember...</td>\n",
       "      <td>0</td>\n",
       "    </tr>\n",
       "  </tbody>\n",
       "</table>\n",
       "</div>"
      ],
      "text/plain": [
       "   Unnamed: 0                                               text  toxic\n",
       "0           0  Explanation\\nWhy the edits made under my usern...      0\n",
       "1           1  D'aww! He matches this background colour I'm s...      0\n",
       "2           2  Hey man, I'm really not trying to edit war. It...      0\n",
       "3           3  \"\\nMore\\nI can't make any real suggestions on ...      0\n",
       "4           4  You, sir, are my hero. Any chance you remember...      0"
      ]
     },
     "execution_count": 5,
     "metadata": {},
     "output_type": "execute_result"
    }
   ],
   "source": [
    "data.head()"
   ]
  },
  {
   "cell_type": "markdown",
   "metadata": {},
   "source": [
    "Столбец `'text'` содержит текст комментария. Столбец `'Unnamed: 0'` дублирует номера строк, его можно удалить."
   ]
  },
  {
   "cell_type": "code",
   "execution_count": 6,
   "metadata": {},
   "outputs": [],
   "source": [
    "data = data.drop(columns = ['Unnamed: 0'])"
   ]
  },
  {
   "cell_type": "markdown",
   "metadata": {},
   "source": [
    "Проверим данные на наличие дубликатов."
   ]
  },
  {
   "cell_type": "code",
   "execution_count": 7,
   "metadata": {},
   "outputs": [
    {
     "data": {
      "text/plain": [
       "0"
      ]
     },
     "execution_count": 7,
     "metadata": {},
     "output_type": "execute_result"
    }
   ],
   "source": [
    "data.duplicated().sum()"
   ]
  },
  {
   "cell_type": "markdown",
   "metadata": {},
   "source": [
    "Дубликатов нет."
   ]
  },
  {
   "cell_type": "markdown",
   "metadata": {},
   "source": [
    "Выведем основные характеристики данных."
   ]
  },
  {
   "cell_type": "code",
   "execution_count": 8,
   "metadata": {},
   "outputs": [
    {
     "data": {
      "text/html": [
       "<div>\n",
       "<style scoped>\n",
       "    .dataframe tbody tr th:only-of-type {\n",
       "        vertical-align: middle;\n",
       "    }\n",
       "\n",
       "    .dataframe tbody tr th {\n",
       "        vertical-align: top;\n",
       "    }\n",
       "\n",
       "    .dataframe thead th {\n",
       "        text-align: right;\n",
       "    }\n",
       "</style>\n",
       "<table border=\"1\" class=\"dataframe\">\n",
       "  <thead>\n",
       "    <tr style=\"text-align: right;\">\n",
       "      <th></th>\n",
       "      <th>toxic</th>\n",
       "    </tr>\n",
       "  </thead>\n",
       "  <tbody>\n",
       "    <tr>\n",
       "      <th>count</th>\n",
       "      <td>159292.000000</td>\n",
       "    </tr>\n",
       "    <tr>\n",
       "      <th>mean</th>\n",
       "      <td>0.101612</td>\n",
       "    </tr>\n",
       "    <tr>\n",
       "      <th>std</th>\n",
       "      <td>0.302139</td>\n",
       "    </tr>\n",
       "    <tr>\n",
       "      <th>min</th>\n",
       "      <td>0.000000</td>\n",
       "    </tr>\n",
       "    <tr>\n",
       "      <th>25%</th>\n",
       "      <td>0.000000</td>\n",
       "    </tr>\n",
       "    <tr>\n",
       "      <th>50%</th>\n",
       "      <td>0.000000</td>\n",
       "    </tr>\n",
       "    <tr>\n",
       "      <th>75%</th>\n",
       "      <td>0.000000</td>\n",
       "    </tr>\n",
       "    <tr>\n",
       "      <th>max</th>\n",
       "      <td>1.000000</td>\n",
       "    </tr>\n",
       "  </tbody>\n",
       "</table>\n",
       "</div>"
      ],
      "text/plain": [
       "               toxic\n",
       "count  159292.000000\n",
       "mean        0.101612\n",
       "std         0.302139\n",
       "min         0.000000\n",
       "25%         0.000000\n",
       "50%         0.000000\n",
       "75%         0.000000\n",
       "max         1.000000"
      ]
     },
     "execution_count": 8,
     "metadata": {},
     "output_type": "execute_result"
    }
   ],
   "source": [
    "data.describe()"
   ]
  },
  {
   "cell_type": "markdown",
   "metadata": {},
   "source": [
    "Значения в целевом столбце адекватные. Среднее значение близко к нулю, это может свидетельствовать о дисбалансе классов."
   ]
  },
  {
   "cell_type": "markdown",
   "metadata": {},
   "source": [
    "Выведем количество токсичных и нейтральных комментариев."
   ]
  },
  {
   "cell_type": "code",
   "execution_count": 9,
   "metadata": {},
   "outputs": [
    {
     "data": {
      "text/plain": [
       "toxic\n",
       "0    143106\n",
       "1     16186\n",
       "Name: text, dtype: int64"
      ]
     },
     "execution_count": 9,
     "metadata": {},
     "output_type": "execute_result"
    }
   ],
   "source": [
    "data.groupby('toxic')['text'].count()"
   ]
  },
  {
   "cell_type": "markdown",
   "metadata": {},
   "source": [
    "Построим столбчатую диаграмму с количеством комментариев, определенных как токсичные или нет."
   ]
  },
  {
   "cell_type": "code",
   "execution_count": 10,
   "metadata": {
    "scrolled": false
   },
   "outputs": [
    {
     "data": {
      "image/png": "[encoded data removed]",
      "text/plain": [
       "<Figure size 432x288 with 1 Axes>"
      ]
     },
     "metadata": {
      "needs_background": "light"
     },
     "output_type": "display_data"
    }
   ],
   "source": [
    "sb.barplot(x = data.groupby('toxic')['text'].count().index,\n",
    "           y = data.groupby('toxic')['text'].count())\n",
    "\n",
    "plt.title('Количество комментариев\\n',\n",
    "          fontsize = 16, \n",
    "          color = 'SteelBlue')\n",
    "\n",
    "plt.ylabel('Количество',\n",
    "          fontsize = 14)\n",
    "\n",
    "plt.show()"
   ]
  },
  {
   "cell_type": "markdown",
   "metadata": {},
   "source": [
    "Наблюдается дисбаланс классов."
   ]
  },
  {
   "cell_type": "markdown",
   "metadata": {},
   "source": [
    "### Формирование выборок"
   ]
  },
  {
   "cell_type": "markdown",
   "metadata": {},
   "source": [
    "#### Разбиение данных на выборки"
   ]
  },
  {
   "cell_type": "markdown",
   "metadata": {},
   "source": [
    "Отделим признаки и целевой признак."
   ]
  },
  {
   "cell_type": "code",
   "execution_count": 11,
   "metadata": {},
   "outputs": [],
   "source": [
    "features = data['text']\n",
    "target = data['toxic']"
   ]
  },
  {
   "cell_type": "markdown",
   "metadata": {},
   "source": [
    "Обучающая, валидационная и тестовая выборки будут относиться как 8:1:1, так как данных очень много. Сформируем тестовую выборку. Для этого зафиксируем параметр `random_state`."
   ]
  },
  {
   "cell_type": "code",
   "execution_count": 12,
   "metadata": {},
   "outputs": [],
   "source": [
    "state = np.random.RandomState(12345)"
   ]
  },
  {
   "cell_type": "markdown",
   "metadata": {},
   "source": [
    "В данных есть дисбаланс классов, поэтому нужно использовать стратифицированные выборки. Для этого функции `train_test_split()` передадим гиперпараметр `stratify = target`."
   ]
  },
  {
   "cell_type": "code",
   "execution_count": 13,
   "metadata": {},
   "outputs": [],
   "source": [
    "features_train_valid,features_test,target_train_valid,target_test = train_test_split(features,\n",
    "                                                                                     target,\n",
    "                                                                                     test_size=0.1,\n",
    "                                                                                     random_state=state,\n",
    "                                                                                     stratify=target)"
   ]
  },
  {
   "cell_type": "markdown",
   "metadata": {},
   "source": [
    "Сформируем обучающую и валидационную выборки."
   ]
  },
  {
   "cell_type": "code",
   "execution_count": 14,
   "metadata": {},
   "outputs": [],
   "source": [
    "features_train,features_valid,target_train,target_valid = train_test_split(features_train_valid,\n",
    "                                                                           target_train_valid,\n",
    "                                                                           test_size=0.11,\n",
    "                                                                           random_state=state,\n",
    "                                                                           stratify=target_train_valid)"
   ]
  },
  {
   "cell_type": "markdown",
   "metadata": {},
   "source": [
    "#### Очистка и токенизация"
   ]
  },
  {
   "cell_type": "markdown",
   "metadata": {},
   "source": [
    "Удалим из текстов слова, которые содержат какие-либо символы, кроме буквенных. Напишем функцию для очистки одного текста от таких слов, в которой заменим их одним пробелом с помощью функциии `re.sub()`, приведем тексты к нижнему регистру методом `lower()` и преобразуем в списки методом `split()`."
   ]
  },
  {
   "cell_type": "code",
   "execution_count": 15,
   "metadata": {},
   "outputs": [],
   "source": [
    "def clear_text(text):\n",
    "    return re.sub(r'[^a-zA-Z]',' ',text).lower().split()"
   ]
  },
  {
   "cell_type": "markdown",
   "metadata": {},
   "source": [
    "Применим функцию к каждому тексту валидационной выборки."
   ]
  },
  {
   "cell_type": "code",
   "execution_count": 16,
   "metadata": {},
   "outputs": [
    {
     "name": "stdout",
     "output_type": "stream",
     "text": [
      "CPU times: user 377 ms, sys: 43.1 ms, total: 420 ms\n",
      "Wall time: 423 ms\n"
     ]
    }
   ],
   "source": [
    "%%time\n",
    "\n",
    "features_valid_clean = features_valid.apply(lambda x: clear_text(x))"
   ]
  },
  {
   "cell_type": "markdown",
   "metadata": {},
   "source": [
    "Проверим результат очистки."
   ]
  },
  {
   "cell_type": "code",
   "execution_count": 17,
   "metadata": {},
   "outputs": [
    {
     "data": {
      "text/plain": [
       "63922     [christopher, richard, barker, what, is, your,...\n",
       "87079      [i, thought, he, looked, like, pee, wee, herman]\n",
       "134449    [nipple, nipple, nipple, nipple, nipple, nippl...\n",
       "133547    [mcdonalds, them, selves, do, not, target, the...\n",
       "92694     [capitalization, you, are, misspelling, the, w...\n",
       "Name: text, dtype: object"
      ]
     },
     "execution_count": 17,
     "metadata": {},
     "output_type": "execute_result"
    }
   ],
   "source": [
    "features_valid_clean.head()"
   ]
  },
  {
   "cell_type": "markdown",
   "metadata": {},
   "source": [
    "Проведем очистку тестовой и обучающей выборок."
   ]
  },
  {
   "cell_type": "raw",
   "metadata": {},
   "source": [
    "%%time\n",
    "\n",
    "features_test_clean = features_test.apply(lambda x: clear_text(x))"
   ]
  },
  {
   "cell_type": "raw",
   "metadata": {},
   "source": [
    "%%time\n",
    "\n",
    "features_train_clean = features_train.apply(lambda x: clear_text(x))"
   ]
  },
  {
   "cell_type": "markdown",
   "metadata": {},
   "source": [
    "#### Лемматизация"
   ]
  },
  {
   "cell_type": "markdown",
   "metadata": {},
   "source": [
    "Проведем лемматизацию слов, то есть приведем слова к начальной форме — лемме. Воспользуемся классом `WordNetLemmatizer()`. Для корректной лемматизации ему необходимо передавать вместе со словом его часть речи. Напишем функцию для поиска части речи, внутри которой функция `pos_tag()` возвращает форму части речи, где первая буква определяет часть речи. Написанная функция возвращает соответствующий ей тег для `wordnet`."
   ]
  },
  {
   "cell_type": "raw",
   "metadata": {},
   "source": [
    "def get_wordnet_pos(word):\n",
    "    \n",
    "    #Часть речи слова\n",
    "    \n",
    "    tag = nltk.pos_tag([word])[0][1][0].upper()\n",
    "    \n",
    "    tag_dict = {'J': wordnet.ADJ,\n",
    "                'N': wordnet.NOUN,\n",
    "                'V': wordnet.VERB,\n",
    "                'R': wordnet.ADV}\n",
    "    \n",
    "    return tag_dict.get(tag, wordnet.NOUN)"
   ]
  },
  {
   "cell_type": "markdown",
   "metadata": {},
   "source": [
    "Функция ниже лемматизирует список слов с помощью `WordNetLemmatizer()`, используя тег с частью речи слова из функции `get_wordnet_pos()`."
   ]
  },
  {
   "cell_type": "raw",
   "metadata": {},
   "source": [
    "def lemmatize(text):\n",
    "    \n",
    "    lemmatizer = WordNetLemmatizer()   \n",
    "    \n",
    "    return ' '.join([lemmatizer.lemmatize(word, get_wordnet_pos(word)) for word in (text)])"
   ]
  },
  {
   "cell_type": "markdown",
   "metadata": {},
   "source": [
    "Применим функцию `get_wordnet_pos()` для лемматизации всех текстов валидационной выборки."
   ]
  },
  {
   "cell_type": "raw",
   "metadata": {},
   "source": [
    "%%time\n",
    "\n",
    "features_valid_lemmatized = features_valid_clean.apply(lambda x: lemmatize(x))"
   ]
  },
  {
   "cell_type": "markdown",
   "metadata": {},
   "source": [
    "Лемматизация занимает 1 мин 53 c."
   ]
  },
  {
   "cell_type": "markdown",
   "metadata": {},
   "source": [
    "Сохраним полученный датафрейм с лемматизированной валидационной выборкой в файл `'features_valid_lemmatized_toxic_comments.csv'`."
   ]
  },
  {
   "cell_type": "raw",
   "metadata": {},
   "source": [
    "features_valid_lemmatized.to_csv('features_valid_lemmatized_toxic_comments.csv')"
   ]
  },
  {
   "cell_type": "markdown",
   "metadata": {},
   "source": [
    "Аналогично лемматизируем и сохраним тестовую и обучающую выборки."
   ]
  },
  {
   "cell_type": "raw",
   "metadata": {},
   "source": [
    "%%time\n",
    "\n",
    "features_test_lemmatized = features_test_clean.apply(lambda x: lemmatize(x))"
   ]
  },
  {
   "cell_type": "markdown",
   "metadata": {},
   "source": [
    "Лемматизация занимает 1 мин 49 c."
   ]
  },
  {
   "cell_type": "raw",
   "metadata": {},
   "source": [
    "features_test_lemmatized.to_csv('features_test_lemmatized_toxic_comments.csv')"
   ]
  },
  {
   "cell_type": "raw",
   "metadata": {
    "scrolled": true
   },
   "source": [
    "%%time\n",
    "\n",
    "features_train_lemmatized = features_train_clean.apply(lambda x: lemmatize(x))"
   ]
  },
  {
   "cell_type": "markdown",
   "metadata": {},
   "source": [
    "Лемматизация занимает 15 мин 8 c."
   ]
  },
  {
   "cell_type": "raw",
   "metadata": {},
   "source": [
    "features_train_lemmatized.to_csv('features_train_lemmatized_toxic_comments.csv')"
   ]
  },
  {
   "cell_type": "markdown",
   "metadata": {},
   "source": [
    "Загрузим лемматизированные выборки."
   ]
  },
  {
   "cell_type": "raw",
   "metadata": {},
   "source": [
    "features_valid_lemmatized = pd.read_csv('features_valid_lemmatized_toxic_comments.csv')['text']\n",
    "corpus_valid = features_valid_lemmatized.values.astype('U')"
   ]
  },
  {
   "cell_type": "code",
   "execution_count": 18,
   "metadata": {},
   "outputs": [],
   "source": [
    "features_valid_lemmatized = pd.read_csv('features_valid_lemmatized_toxic_comments.csv')['text']"
   ]
  },
  {
   "cell_type": "markdown",
   "metadata": {},
   "source": [
    "После очистки текстов могли появиться пропуски. Найдем количество пропусков."
   ]
  },
  {
   "cell_type": "code",
   "execution_count": 19,
   "metadata": {},
   "outputs": [
    {
     "data": {
      "text/plain": [
       "1"
      ]
     },
     "execution_count": 19,
     "metadata": {},
     "output_type": "execute_result"
    }
   ],
   "source": [
    "features_valid_lemmatized.isna().sum()"
   ]
  },
  {
   "cell_type": "markdown",
   "metadata": {},
   "source": [
    "Удалим объекты из целевого признака и пропуски из признаков."
   ]
  },
  {
   "cell_type": "code",
   "execution_count": 20,
   "metadata": {},
   "outputs": [],
   "source": [
    "target_valid = (target_valid.reset_index(drop = True)\n",
    "                            .drop(index = features_valid_lemmatized[features_valid_lemmatized.isna()].index.to_list()))"
   ]
  },
  {
   "cell_type": "code",
   "execution_count": 21,
   "metadata": {},
   "outputs": [],
   "source": [
    "features_valid_lemmatized = features_valid_lemmatized.dropna()"
   ]
  },
  {
   "cell_type": "markdown",
   "metadata": {},
   "source": [
    "Создадим из выборки массив - корпус текстов."
   ]
  },
  {
   "cell_type": "code",
   "execution_count": 22,
   "metadata": {},
   "outputs": [],
   "source": [
    "corpus_valid = features_valid_lemmatized.values"
   ]
  },
  {
   "cell_type": "markdown",
   "metadata": {},
   "source": [
    "Проверим корректность лемматизации."
   ]
  },
  {
   "cell_type": "code",
   "execution_count": 23,
   "metadata": {},
   "outputs": [
    {
     "data": {
      "text/plain": [
       "0    christopher richard barker what be your proble...\n",
       "1                i thought he look like pee wee herman\n",
       "2    nipple nipple nipple nipple nipple nipple nipp...\n",
       "3    mcdonalds them self do not target the food at ...\n",
       "4    capitalization you be misspell the word idiot ...\n",
       "Name: text, dtype: object"
      ]
     },
     "execution_count": 23,
     "metadata": {},
     "output_type": "execute_result"
    }
   ],
   "source": [
    "features_valid_lemmatized.head()"
   ]
  },
  {
   "cell_type": "markdown",
   "metadata": {},
   "source": [
    "Лемматизация проведена корректно."
   ]
  },
  {
   "cell_type": "markdown",
   "metadata": {},
   "source": [
    "Аналогично обработаем тестовую и обучающую выборки."
   ]
  },
  {
   "cell_type": "code",
   "execution_count": 24,
   "metadata": {},
   "outputs": [],
   "source": [
    "features_test_lemmatized = pd.read_csv('features_test_lemmatized_toxic_comments.csv')['text']"
   ]
  },
  {
   "cell_type": "markdown",
   "metadata": {},
   "source": [
    "Найдем количество пропусков."
   ]
  },
  {
   "cell_type": "code",
   "execution_count": 25,
   "metadata": {
    "scrolled": true
   },
   "outputs": [
    {
     "data": {
      "text/plain": [
       "1"
      ]
     },
     "execution_count": 25,
     "metadata": {},
     "output_type": "execute_result"
    }
   ],
   "source": [
    "features_test_lemmatized.isna().sum()"
   ]
  },
  {
   "cell_type": "markdown",
   "metadata": {},
   "source": [
    "Удалим объекты из целевого признака и пропуски из признаков."
   ]
  },
  {
   "cell_type": "code",
   "execution_count": 26,
   "metadata": {},
   "outputs": [],
   "source": [
    "target_test = (target_test.reset_index(drop = True)\n",
    "                          .drop(index = features_test_lemmatized[features_test_lemmatized.isna()].index.to_list()))"
   ]
  },
  {
   "cell_type": "code",
   "execution_count": 27,
   "metadata": {},
   "outputs": [],
   "source": [
    "features_test_lemmatized = features_test_lemmatized.dropna()"
   ]
  },
  {
   "cell_type": "markdown",
   "metadata": {},
   "source": [
    "Создадим из выборки массив - корпус текстов."
   ]
  },
  {
   "cell_type": "code",
   "execution_count": 28,
   "metadata": {},
   "outputs": [],
   "source": [
    "corpus_test = features_test_lemmatized.values"
   ]
  },
  {
   "cell_type": "markdown",
   "metadata": {},
   "source": [
    "Загрузим обучающую выборку."
   ]
  },
  {
   "cell_type": "code",
   "execution_count": 29,
   "metadata": {},
   "outputs": [],
   "source": [
    "features_train_lemmatized = pd.read_csv('features_train_lemmatized_toxic_comments.csv')['text']"
   ]
  },
  {
   "cell_type": "markdown",
   "metadata": {},
   "source": [
    "Найдем количество пропусков."
   ]
  },
  {
   "cell_type": "code",
   "execution_count": 30,
   "metadata": {},
   "outputs": [
    {
     "data": {
      "text/plain": [
       "9"
      ]
     },
     "execution_count": 30,
     "metadata": {},
     "output_type": "execute_result"
    }
   ],
   "source": [
    "features_train_lemmatized.isna().sum()"
   ]
  },
  {
   "cell_type": "markdown",
   "metadata": {},
   "source": [
    "Удалим объекты из целевого признака и пропуски из признаков."
   ]
  },
  {
   "cell_type": "code",
   "execution_count": 31,
   "metadata": {},
   "outputs": [],
   "source": [
    "target_train = (target_train.reset_index(drop = True)\n",
    "                            .drop(index = features_train_lemmatized[features_train_lemmatized.isna()].index.to_list()))"
   ]
  },
  {
   "cell_type": "code",
   "execution_count": 32,
   "metadata": {},
   "outputs": [
    {
     "data": {
      "text/plain": [
       "(127583,)"
      ]
     },
     "execution_count": 32,
     "metadata": {},
     "output_type": "execute_result"
    }
   ],
   "source": [
    "target_train.shape"
   ]
  },
  {
   "cell_type": "code",
   "execution_count": 33,
   "metadata": {},
   "outputs": [],
   "source": [
    "features_train_lemmatized = features_train_lemmatized.dropna()"
   ]
  },
  {
   "cell_type": "code",
   "execution_count": 34,
   "metadata": {},
   "outputs": [
    {
     "data": {
      "text/plain": [
       "(127583,)"
      ]
     },
     "execution_count": 34,
     "metadata": {},
     "output_type": "execute_result"
    }
   ],
   "source": [
    "features_train_lemmatized.shape"
   ]
  },
  {
   "cell_type": "markdown",
   "metadata": {},
   "source": [
    "Создадим из выборки массив - корпус текстов."
   ]
  },
  {
   "cell_type": "code",
   "execution_count": 35,
   "metadata": {},
   "outputs": [],
   "source": [
    "corpus_train = features_train_lemmatized.values"
   ]
  },
  {
   "cell_type": "markdown",
   "metadata": {},
   "source": [
    "#### TF-IDF для корпуса текстов"
   ]
  },
  {
   "cell_type": "markdown",
   "metadata": {},
   "source": [
    "Для применения моделей машинного обучения нужно преобразовать тексты в векторы. Векторизацию текстов проведем с помощью модели TF-IDF, которая учитывает количество упоминаний слова в отдельном тексте и частоту его употребления во всём наборе текстов.\n",
    "\n",
    "Уберем из корпуса стоп-слова, то есть слова без смысловой нагрузки. Сформируем список англоязычных стоп-слов из пакета `stopwords` библиотеки `nltk`."
   ]
  },
  {
   "cell_type": "code",
   "execution_count": 36,
   "metadata": {},
   "outputs": [],
   "source": [
    "stopwords = set(nltk_stopwords.words('english'))"
   ]
  },
  {
   "cell_type": "markdown",
   "metadata": {},
   "source": [
    "Создадим счётчик `TfidfVectorizer()`, указав в нём стоп-слова и следующие параметры преобразования текстов в векторы:\n",
    "\n",
    "- `max_features = 10 000` - ограничивает количество самых популярных слов, которые преобразуются в признаки, при меньшем значении качество моделей получается неудовлетворительным, а при большем - модели слишком долго обучаются (больше часа);\n",
    "\n",
    "- `min_df = 5` - минимальное количество текстов, которые должны содержать заданное слово;\n",
    "\n",
    "- `max_df = 0,7` - максимальная доля текстов, содержащих данное слово, так как слова, которые встречаются почти в каждом тексте,  не предоставляют какой-либо уникальной информации о нем.\n",
    "\n",
    "Обучим векторизатор на обучающем корпусе и преобразуем его, выведем размер полученной матрицы."
   ]
  },
  {
   "cell_type": "code",
   "execution_count": 37,
   "metadata": {},
   "outputs": [
    {
     "name": "stdout",
     "output_type": "stream",
     "text": [
      "(127583, 10000)\n",
      "CPU times: user 5.27 s, sys: 66.2 ms, total: 5.34 s\n",
      "Wall time: 5.34 s\n"
     ]
    }
   ],
   "source": [
    "%%time\n",
    "\n",
    "count_tf_idf = TfidfVectorizer(stop_words=stopwords, max_features=10000, min_df=5, max_df=0.7)\n",
    "features_train_tf_idf = count_tf_idf.fit_transform(corpus_train)\n",
    "\n",
    "print(features_train_tf_idf.shape)"
   ]
  },
  {
   "cell_type": "code",
   "execution_count": 38,
   "metadata": {
    "scrolled": true
   },
   "outputs": [
    {
     "name": "stdout",
     "output_type": "stream",
     "text": [
      "CPU times: user 597 ms, sys: 0 ns, total: 597 ms\n",
      "Wall time: 604 ms\n"
     ]
    }
   ],
   "source": [
    "%%time\n",
    "\n",
    "features_valid_tf_idf = count_tf_idf.transform(corpus_valid)"
   ]
  },
  {
   "cell_type": "code",
   "execution_count": 39,
   "metadata": {},
   "outputs": [
    {
     "name": "stdout",
     "output_type": "stream",
     "text": [
      "CPU times: user 618 ms, sys: 7.73 ms, total: 626 ms\n",
      "Wall time: 632 ms\n"
     ]
    }
   ],
   "source": [
    "%%time\n",
    "\n",
    "features_test_tf_idf = count_tf_idf.transform(corpus_test)"
   ]
  },
  {
   "cell_type": "markdown",
   "metadata": {},
   "source": [
    "## Обучение и анализ моделей"
   ]
  },
  {
   "cell_type": "markdown",
   "metadata": {},
   "source": [
    "### Модель логистической регрессии"
   ]
  },
  {
   "cell_type": "markdown",
   "metadata": {},
   "source": [
    "Создадим и обучим модель логистической регрессии."
   ]
  },
  {
   "cell_type": "code",
   "execution_count": 40,
   "metadata": {},
   "outputs": [],
   "source": [
    "model_lr = LogisticRegression(random_state=state)"
   ]
  },
  {
   "cell_type": "code",
   "execution_count": 41,
   "metadata": {},
   "outputs": [
    {
     "name": "stdout",
     "output_type": "stream",
     "text": [
      "CPU times: user 4.97 s, sys: 10.4 s, total: 15.4 s\n",
      "Wall time: 15.4 s\n"
     ]
    },
    {
     "name": "stderr",
     "output_type": "stream",
     "text": [
      "/opt/conda/lib/python3.9/site-packages/sklearn/linear_model/_logistic.py:763: ConvergenceWarning: lbfgs failed to converge (status=1):\n",
      "STOP: TOTAL NO. of ITERATIONS REACHED LIMIT.\n",
      "\n",
      "Increase the number of iterations (max_iter) or scale the data as shown in:\n",
      "    https://scikit-learn.org/stable/modules/preprocessing.html\n",
      "Please also refer to the documentation for alternative solver options:\n",
      "    https://scikit-learn.org/stable/modules/linear_model.html#logistic-regression\n",
      "  n_iter_i = _check_optimize_result(\n"
     ]
    },
    {
     "data": {
      "text/plain": [
       "LogisticRegression(random_state=RandomState(MT19937) at 0x7F3D4357E140)"
      ]
     },
     "execution_count": 41,
     "metadata": {},
     "output_type": "execute_result"
    }
   ],
   "source": [
    "%%time\n",
    "\n",
    "model_lr.fit(features_train_tf_idf,target_train)"
   ]
  },
  {
   "cell_type": "markdown",
   "metadata": {},
   "source": [
    "Сформируем предсказания на обучающей выборке и найдем метрику F1."
   ]
  },
  {
   "cell_type": "code",
   "execution_count": 42,
   "metadata": {},
   "outputs": [],
   "source": [
    "predictions_train = model_lr.predict(features_train_tf_idf)"
   ]
  },
  {
   "cell_type": "code",
   "execution_count": 43,
   "metadata": {},
   "outputs": [
    {
     "data": {
      "text/plain": [
       "0.772"
      ]
     },
     "execution_count": 43,
     "metadata": {},
     "output_type": "execute_result"
    }
   ],
   "source": [
    "f1_train_lr = round(f1_score(target_train,predictions_train),3)\n",
    "f1_train_lr"
   ]
  },
  {
   "cell_type": "markdown",
   "metadata": {},
   "source": [
    "Значение выше заданного порога в 0,75. Найдем значение метрики на валидационной выборке."
   ]
  },
  {
   "cell_type": "code",
   "execution_count": 44,
   "metadata": {},
   "outputs": [
    {
     "data": {
      "text/plain": [
       "0.74"
      ]
     },
     "execution_count": 44,
     "metadata": {},
     "output_type": "execute_result"
    }
   ],
   "source": [
    "predictions_valid = model_lr.predict(features_valid_tf_idf)\n",
    "f1_valid_lr = round(f1_score(target_valid,predictions_valid),3)\n",
    "f1_valid_lr"
   ]
  },
  {
   "cell_type": "markdown",
   "metadata": {},
   "source": [
    "Значение ниже заданного порога. Качество модели не удовлетворяет требованиям. \n",
    "\n",
    "Сохраним значения метрики для логистической регрессии в датафрейм для дальнейшего сравнения."
   ]
  },
  {
   "cell_type": "code",
   "execution_count": 79,
   "metadata": {},
   "outputs": [],
   "source": [
    "metrics = pd.DataFrame(columns=['f1_train','f1_valid'],index=['LogisticRegression'])\n",
    "metrics.loc['LogisticRegression'] = [f1_train_lr,f1_valid_lr]"
   ]
  },
  {
   "cell_type": "markdown",
   "metadata": {},
   "source": [
    "### Модель случайного леса"
   ]
  },
  {
   "cell_type": "markdown",
   "metadata": {},
   "source": [
    "Создадим модель случайного леса. Ограничим количество деревьев, задав гиперпараметр `n_estimators = 200`."
   ]
  },
  {
   "cell_type": "code",
   "execution_count": 46,
   "metadata": {},
   "outputs": [],
   "source": [
    "model_rf = RandomForestClassifier(n_estimators=200, random_state=state)"
   ]
  },
  {
   "cell_type": "code",
   "execution_count": 47,
   "metadata": {},
   "outputs": [
    {
     "name": "stdout",
     "output_type": "stream",
     "text": [
      "CPU times: user 8min 55s, sys: 1.27 s, total: 8min 56s\n",
      "Wall time: 8min 57s\n"
     ]
    },
    {
     "data": {
      "text/plain": [
       "RandomForestClassifier(n_estimators=200,\n",
       "                       random_state=RandomState(MT19937) at 0x7F3D4357E140)"
      ]
     },
     "execution_count": 47,
     "metadata": {},
     "output_type": "execute_result"
    }
   ],
   "source": [
    "%%time\n",
    "\n",
    "model_rf.fit(features_train_tf_idf,target_train)"
   ]
  },
  {
   "cell_type": "markdown",
   "metadata": {},
   "source": [
    "Время обучения 8 мин 51 с."
   ]
  },
  {
   "cell_type": "markdown",
   "metadata": {},
   "source": [
    "Сохраним обученную модель в файл в текущей директории."
   ]
  },
  {
   "cell_type": "code",
   "execution_count": 48,
   "metadata": {},
   "outputs": [
    {
     "data": {
      "text/plain": [
       "['model_rf.joblib']"
      ]
     },
     "execution_count": 48,
     "metadata": {},
     "output_type": "execute_result"
    }
   ],
   "source": [
    "dump(model_rf,'model_rf.joblib')"
   ]
  },
  {
   "cell_type": "markdown",
   "metadata": {},
   "source": [
    "Загрузим обученную модель случайного леса."
   ]
  },
  {
   "cell_type": "code",
   "execution_count": 49,
   "metadata": {},
   "outputs": [],
   "source": [
    "model_rf = load('model_rf.joblib')"
   ]
  },
  {
   "cell_type": "markdown",
   "metadata": {},
   "source": [
    "Найдем значение метрики F1 на обучающей и валидационной выборках."
   ]
  },
  {
   "cell_type": "code",
   "execution_count": 50,
   "metadata": {},
   "outputs": [
    {
     "data": {
      "text/plain": [
       "0.995"
      ]
     },
     "execution_count": 50,
     "metadata": {},
     "output_type": "execute_result"
    }
   ],
   "source": [
    "predictions_train_rf = model_rf.predict(features_train_tf_idf)\n",
    "f1_train_rf = round(f1_score(target_train,predictions_train_rf),3)\n",
    "f1_train_rf"
   ]
  },
  {
   "cell_type": "code",
   "execution_count": 51,
   "metadata": {},
   "outputs": [
    {
     "data": {
      "text/plain": [
       "0.744"
      ]
     },
     "execution_count": 51,
     "metadata": {},
     "output_type": "execute_result"
    }
   ],
   "source": [
    "predictions_valid_rf = model_rf.predict(features_valid_tf_idf)\n",
    "f1_valid_rf = round(f1_score(target_valid,predictions_valid_rf),3)\n",
    "f1_valid_rf"
   ]
  },
  {
   "cell_type": "markdown",
   "metadata": {},
   "source": [
    "Значение F1 на валидационной выборке меньше заданного порога в 0,75, модель не подходит по качеству.\n",
    "\n",
    "Сохраним метрики в датафрейм."
   ]
  },
  {
   "cell_type": "code",
   "execution_count": 80,
   "metadata": {},
   "outputs": [],
   "source": [
    "metrics = metrics.append(pd.Series(data={'f1_train':f1_train_rf, \n",
    "                                         'f1_valid':f1_valid_rf}, \n",
    "                                   name='RandomForestClassifier'),\n",
    "                         ignore_index=False)"
   ]
  },
  {
   "cell_type": "markdown",
   "metadata": {},
   "source": [
    "### CatBoost"
   ]
  },
  {
   "cell_type": "markdown",
   "metadata": {},
   "source": [
    "Обучим модель градиентного бустинга из библиотеки CatBoost. В параметрах модели `CatBoostRegressor` укажем количество деревьев `iterations = 200` и `iterations` скорость обучения `learning_rate = 0.1`."
   ]
  },
  {
   "cell_type": "code",
   "execution_count": 53,
   "metadata": {},
   "outputs": [],
   "source": [
    "model_cb = cb.CatBoostClassifier(verbose = 0,\n",
    "                                 iterations = 200,\n",
    "                                 learning_rate = 0.1)"
   ]
  },
  {
   "cell_type": "code",
   "execution_count": 54,
   "metadata": {},
   "outputs": [
    {
     "name": "stdout",
     "output_type": "stream",
     "text": [
      "CPU times: user 1min 2s, sys: 338 ms, total: 1min 2s\n",
      "Wall time: 1min 3s\n"
     ]
    },
    {
     "data": {
      "text/plain": [
       "<catboost.core.CatBoostClassifier at 0x7f3d3526ddf0>"
      ]
     },
     "execution_count": 54,
     "metadata": {},
     "output_type": "execute_result"
    }
   ],
   "source": [
    "%%time\n",
    "\n",
    "model_cb.fit(features_valid_tf_idf,target_valid)"
   ]
  },
  {
   "cell_type": "markdown",
   "metadata": {},
   "source": [
    "Найдем значение метрики F1 на обучающей и валидационной выборках."
   ]
  },
  {
   "cell_type": "code",
   "execution_count": 55,
   "metadata": {},
   "outputs": [
    {
     "data": {
      "text/plain": [
       "0.673"
      ]
     },
     "execution_count": 55,
     "metadata": {},
     "output_type": "execute_result"
    }
   ],
   "source": [
    "predictions_train_cb = model_cb.predict(features_train_tf_idf)\n",
    "f1_train_cb = round(f1_score(target_train,predictions_train_cb),3)\n",
    "f1_train_cb"
   ]
  },
  {
   "cell_type": "code",
   "execution_count": 56,
   "metadata": {},
   "outputs": [
    {
     "data": {
      "text/plain": [
       "0.747"
      ]
     },
     "execution_count": 56,
     "metadata": {},
     "output_type": "execute_result"
    }
   ],
   "source": [
    "predictions_valid_cb = model_cb.predict(features_valid_tf_idf)\n",
    "f1_valid_cb = round(f1_score(target_valid,predictions_valid_cb),3)\n",
    "f1_valid_cb"
   ]
  },
  {
   "cell_type": "markdown",
   "metadata": {},
   "source": [
    "Метрика на обучающей выборке значительно ниже заданного порога в 0,75, а на валидационной почти равна 0,75. Модель не подходит по качеству.\n",
    "\n",
    "Сохраним значение метрик в датафрейм."
   ]
  },
  {
   "cell_type": "code",
   "execution_count": 81,
   "metadata": {},
   "outputs": [],
   "source": [
    "metrics = metrics.append(pd.Series(data={'f1_train':f1_train_cb, \n",
    "                                         'f1_valid':f1_valid_cb}, \n",
    "                                   name='CatBoost'),\n",
    "                         ignore_index=False)"
   ]
  },
  {
   "cell_type": "markdown",
   "metadata": {},
   "source": [
    "Сохраним обученную модель в файл."
   ]
  },
  {
   "cell_type": "code",
   "execution_count": 58,
   "metadata": {},
   "outputs": [
    {
     "data": {
      "text/plain": [
       "['model_cb.joblib']"
      ]
     },
     "execution_count": 58,
     "metadata": {},
     "output_type": "execute_result"
    }
   ],
   "source": [
    "dump(model_cb,'model_cb.joblib')"
   ]
  },
  {
   "cell_type": "markdown",
   "metadata": {},
   "source": [
    "### LightGBM"
   ]
  },
  {
   "cell_type": "markdown",
   "metadata": {},
   "source": [
    "Обучим модель градиентного бустинга из библиотеки LightGBM. Модели `LGBMRegressor` передадим следующие гиперпараметры:\n",
    "\n",
    "- количество деревьев `num_iterations = 200`;\n",
    "- скорость обучения `learning_rate = 0.1`."
   ]
  },
  {
   "cell_type": "code",
   "execution_count": 59,
   "metadata": {},
   "outputs": [],
   "source": [
    "model_gbm = lgb.LGBMClassifier(random_state = state, \n",
    "                               verbose = 0,\n",
    "                               num_iterations=200,\n",
    "                               learning_rate=0.1)"
   ]
  },
  {
   "cell_type": "code",
   "execution_count": null,
   "metadata": {},
   "outputs": [],
   "source": [
    "%%time\n",
    "\n",
    "model_gbm.fit(features_train_tf_idf,target_train)"
   ]
  },
  {
   "cell_type": "markdown",
   "metadata": {},
   "source": [
    "Время обучения 5 мин 16 с."
   ]
  },
  {
   "cell_type": "markdown",
   "metadata": {},
   "source": [
    "Сохраним модель в файл."
   ]
  },
  {
   "cell_type": "code",
   "execution_count": 61,
   "metadata": {},
   "outputs": [
    {
     "data": {
      "text/plain": [
       "['model_gbm.joblib']"
      ]
     },
     "execution_count": 61,
     "metadata": {},
     "output_type": "execute_result"
    }
   ],
   "source": [
    "dump(model_gbm,'model_gbm.joblib')"
   ]
  },
  {
   "cell_type": "markdown",
   "metadata": {},
   "source": [
    "Загрузим обученную модель `LGBMRegressor`."
   ]
  },
  {
   "cell_type": "code",
   "execution_count": 72,
   "metadata": {},
   "outputs": [],
   "source": [
    "model_gbm = load('model_gbm.joblib')"
   ]
  },
  {
   "cell_type": "markdown",
   "metadata": {},
   "source": [
    "Найдем значение метрики F1 на обучающей и валидационной выборках."
   ]
  },
  {
   "cell_type": "code",
   "execution_count": 73,
   "metadata": {},
   "outputs": [
    {
     "data": {
      "text/plain": [
       "0.823"
      ]
     },
     "execution_count": 73,
     "metadata": {},
     "output_type": "execute_result"
    }
   ],
   "source": [
    "predictions_train_gbm = model_gbm.predict(features_train_tf_idf)\n",
    "f1_train_lgbm = round(f1_score(target_train,predictions_train_gbm),3)\n",
    "f1_train_lgbm"
   ]
  },
  {
   "cell_type": "code",
   "execution_count": 74,
   "metadata": {},
   "outputs": [
    {
     "data": {
      "text/plain": [
       "0.762"
      ]
     },
     "execution_count": 74,
     "metadata": {},
     "output_type": "execute_result"
    }
   ],
   "source": [
    "predictions_valid_gbm = model_gbm.predict(features_valid_tf_idf)\n",
    "f1_valid_lgbm = round(f1_score(target_valid,predictions_valid_gbm),3)\n",
    "f1_valid_lgbm"
   ]
  },
  {
   "cell_type": "markdown",
   "metadata": {},
   "source": [
    "Метрики F1 на обучающей и валидационной выборках больше заданного порога в 0,75. Качество модели удовлетворяет требованиям. Сохраним метрики в датафрейм."
   ]
  },
  {
   "cell_type": "code",
   "execution_count": 82,
   "metadata": {},
   "outputs": [],
   "source": [
    "metrics = metrics.append(pd.Series(data={'f1_train':f1_train_lgbm, \n",
    "                                         'f1_valid':f1_valid_lgbm}, \n",
    "                                   name='LightGBM'),\n",
    "                         ignore_index=False)"
   ]
  },
  {
   "cell_type": "markdown",
   "metadata": {},
   "source": [
    "Сохраним датафрейм с метриками в файл."
   ]
  },
  {
   "cell_type": "code",
   "execution_count": 83,
   "metadata": {},
   "outputs": [],
   "source": [
    "metrics.to_csv('metrics.csv')"
   ]
  },
  {
   "cell_type": "markdown",
   "metadata": {},
   "source": [
    "### Выбор и проверка лучшей модели"
   ]
  },
  {
   "cell_type": "markdown",
   "metadata": {},
   "source": [
    "Загрузим файл с метриками."
   ]
  },
  {
   "cell_type": "code",
   "execution_count": 84,
   "metadata": {},
   "outputs": [],
   "source": [
    "metrics = pd.read_csv('metrics.csv')"
   ]
  },
  {
   "cell_type": "markdown",
   "metadata": {},
   "source": [
    "Выведем таблицу с метриками всех рассмотренных моделей."
   ]
  },
  {
   "cell_type": "code",
   "execution_count": 85,
   "metadata": {
    "scrolled": true
   },
   "outputs": [
    {
     "data": {
      "text/html": [
       "<div>\n",
       "<style scoped>\n",
       "    .dataframe tbody tr th:only-of-type {\n",
       "        vertical-align: middle;\n",
       "    }\n",
       "\n",
       "    .dataframe tbody tr th {\n",
       "        vertical-align: top;\n",
       "    }\n",
       "\n",
       "    .dataframe thead th {\n",
       "        text-align: right;\n",
       "    }\n",
       "</style>\n",
       "<table border=\"1\" class=\"dataframe\">\n",
       "  <thead>\n",
       "    <tr style=\"text-align: right;\">\n",
       "      <th></th>\n",
       "      <th>Unnamed: 0</th>\n",
       "      <th>f1_train</th>\n",
       "      <th>f1_valid</th>\n",
       "    </tr>\n",
       "  </thead>\n",
       "  <tbody>\n",
       "    <tr>\n",
       "      <th>0</th>\n",
       "      <td>LogisticRegression</td>\n",
       "      <td>0.772</td>\n",
       "      <td>0.740</td>\n",
       "    </tr>\n",
       "    <tr>\n",
       "      <th>1</th>\n",
       "      <td>RandomForestClassifier</td>\n",
       "      <td>0.995</td>\n",
       "      <td>0.744</td>\n",
       "    </tr>\n",
       "    <tr>\n",
       "      <th>2</th>\n",
       "      <td>CatBoost</td>\n",
       "      <td>0.673</td>\n",
       "      <td>0.747</td>\n",
       "    </tr>\n",
       "    <tr>\n",
       "      <th>3</th>\n",
       "      <td>LightGBM</td>\n",
       "      <td>0.823</td>\n",
       "      <td>0.762</td>\n",
       "    </tr>\n",
       "  </tbody>\n",
       "</table>\n",
       "</div>"
      ],
      "text/plain": [
       "               Unnamed: 0  f1_train  f1_valid\n",
       "0      LogisticRegression     0.772     0.740\n",
       "1  RandomForestClassifier     0.995     0.744\n",
       "2                CatBoost     0.673     0.747\n",
       "3                LightGBM     0.823     0.762"
      ]
     },
     "execution_count": 85,
     "metadata": {},
     "output_type": "execute_result"
    }
   ],
   "source": [
    "metrics"
   ]
  },
  {
   "cell_type": "markdown",
   "metadata": {},
   "source": [
    "Метрика F1 на валидационной выборке больше заданного порога только у модели `LightGBM`. Остановим свой выбор на этой модели в качестве конечной и проверим ее на тестовой выборке.\n",
    "\n",
    "Загрузим обученную модель `LightGBM`."
   ]
  },
  {
   "cell_type": "code",
   "execution_count": 86,
   "metadata": {},
   "outputs": [],
   "source": [
    "best_model = load('model_gbm.joblib')"
   ]
  },
  {
   "cell_type": "markdown",
   "metadata": {},
   "source": [
    "Найдем значение F1 на тестовой выборке."
   ]
  },
  {
   "cell_type": "code",
   "execution_count": 87,
   "metadata": {},
   "outputs": [
    {
     "data": {
      "text/plain": [
       "0.763"
      ]
     },
     "execution_count": 87,
     "metadata": {},
     "output_type": "execute_result"
    }
   ],
   "source": [
    "predictions_test_gbm = best_model.predict(features_test_tf_idf)\n",
    "f1_test = round(f1_score(target_test,predictions_test_gbm),3)\n",
    "f1_test"
   ]
  },
  {
   "cell_type": "markdown",
   "metadata": {},
   "source": [
    "Метрика выше заданного порога."
   ]
  },
  {
   "cell_type": "markdown",
   "metadata": {},
   "source": [
    "## Выводы"
   ]
  },
  {
   "cell_type": "markdown",
   "metadata": {},
   "source": [
    "Для решения задачи классификации текстов были рассмотрены четыре модели: модель логистической регрессии, случайного леса и две модели градиентого бустинга CatBoost и LightGBM. Для работы с моделями была проведена предобработка данных, включающая очистку и токенизацию текстов, лемматизацию с помощью `WordNetLemmatizer()` и векторизацию счетчиком `TfidfVectorizer()` с учетом стоп-слов.\n",
    "\n",
    "Модели были обучены на обучающей выборке. Выбор наилучшей модели основывался на значених метрики F1 на валидационной выборке. Значения метрик показаны в таблице ниже."
   ]
  },
  {
   "cell_type": "code",
   "execution_count": 88,
   "metadata": {},
   "outputs": [
    {
     "data": {
      "text/html": [
       "<div>\n",
       "<style scoped>\n",
       "    .dataframe tbody tr th:only-of-type {\n",
       "        vertical-align: middle;\n",
       "    }\n",
       "\n",
       "    .dataframe tbody tr th {\n",
       "        vertical-align: top;\n",
       "    }\n",
       "\n",
       "    .dataframe thead th {\n",
       "        text-align: right;\n",
       "    }\n",
       "</style>\n",
       "<table border=\"1\" class=\"dataframe\">\n",
       "  <thead>\n",
       "    <tr style=\"text-align: right;\">\n",
       "      <th></th>\n",
       "      <th>Unnamed: 0</th>\n",
       "      <th>f1_train</th>\n",
       "      <th>f1_valid</th>\n",
       "    </tr>\n",
       "  </thead>\n",
       "  <tbody>\n",
       "    <tr>\n",
       "      <th>0</th>\n",
       "      <td>LogisticRegression</td>\n",
       "      <td>0.772</td>\n",
       "      <td>0.740</td>\n",
       "    </tr>\n",
       "    <tr>\n",
       "      <th>1</th>\n",
       "      <td>RandomForestClassifier</td>\n",
       "      <td>0.995</td>\n",
       "      <td>0.744</td>\n",
       "    </tr>\n",
       "    <tr>\n",
       "      <th>2</th>\n",
       "      <td>CatBoost</td>\n",
       "      <td>0.673</td>\n",
       "      <td>0.747</td>\n",
       "    </tr>\n",
       "    <tr>\n",
       "      <th>3</th>\n",
       "      <td>LightGBM</td>\n",
       "      <td>0.823</td>\n",
       "      <td>0.762</td>\n",
       "    </tr>\n",
       "  </tbody>\n",
       "</table>\n",
       "</div>"
      ],
      "text/plain": [
       "               Unnamed: 0  f1_train  f1_valid\n",
       "0      LogisticRegression     0.772     0.740\n",
       "1  RandomForestClassifier     0.995     0.744\n",
       "2                CatBoost     0.673     0.747\n",
       "3                LightGBM     0.823     0.762"
      ]
     },
     "execution_count": 88,
     "metadata": {},
     "output_type": "execute_result"
    }
   ],
   "source": [
    "metrics"
   ]
  },
  {
   "cell_type": "markdown",
   "metadata": {},
   "source": [
    "Метрика F1 на валидационной выборке больше заданного порога только у модели `LightGBM`. Обучение модели заняло 5 мин 16 с. Эта модель была выбрана в качестве итоговой и проверена на тестовой выборке. Метрика F1 на тестовой выборке составила 0,763. Это удовлетворяет заданному порогу в 0,75."
   ]
  }
 ],
 "metadata": {
  "ExecuteTimeLog": [
   {
    "duration": 1631,
    "start_time": "2022-12-15T14:23:19.112Z"
   },
   {
    "duration": 3727,
    "start_time": "2022-12-15T14:24:46.551Z"
   },
   {
    "duration": 33,
    "start_time": "2022-12-15T14:25:05.344Z"
   },
   {
    "duration": 14,
    "start_time": "2022-12-15T14:27:07.429Z"
   },
   {
    "duration": 10,
    "start_time": "2022-12-15T14:29:38.005Z"
   },
   {
    "duration": 218,
    "start_time": "2022-12-15T14:29:59.420Z"
   },
   {
    "duration": 15,
    "start_time": "2022-12-15T14:30:47.476Z"
   },
   {
    "duration": 1136,
    "start_time": "2022-12-15T14:32:37.252Z"
   },
   {
    "duration": 1576,
    "start_time": "2022-12-15T18:08:02.629Z"
   },
   {
    "duration": 13,
    "start_time": "2022-12-15T18:08:15.948Z"
   },
   {
    "duration": 4161,
    "start_time": "2022-12-15T18:17:52.200Z"
   },
   {
    "duration": 1078,
    "start_time": "2022-12-15T18:17:56.363Z"
   },
   {
    "duration": 31,
    "start_time": "2022-12-15T18:17:57.443Z"
   },
   {
    "duration": 8,
    "start_time": "2022-12-15T18:17:57.475Z"
   },
   {
    "duration": 12,
    "start_time": "2022-12-15T18:17:57.485Z"
   },
   {
    "duration": 214,
    "start_time": "2022-12-15T18:17:57.499Z"
   },
   {
    "duration": 16,
    "start_time": "2022-12-15T18:17:57.715Z"
   },
   {
    "duration": 5,
    "start_time": "2022-12-15T18:18:17.407Z"
   },
   {
    "duration": 163,
    "start_time": "2022-12-15T18:21:40.118Z"
   },
   {
    "duration": 4,
    "start_time": "2022-12-15T18:21:46.269Z"
   },
   {
    "duration": 7,
    "start_time": "2022-12-15T18:26:36.454Z"
   },
   {
    "duration": 8,
    "start_time": "2022-12-15T18:26:57.648Z"
   },
   {
    "duration": 7,
    "start_time": "2022-12-15T18:29:27.571Z"
   },
   {
    "duration": 14,
    "start_time": "2022-12-15T18:30:55.334Z"
   },
   {
    "duration": 15137,
    "start_time": "2022-12-15T18:32:26.300Z"
   },
   {
    "duration": 2288,
    "start_time": "2022-12-15T18:33:14.896Z"
   },
   {
    "duration": 748,
    "start_time": "2022-12-15T18:33:17.187Z"
   },
   {
    "duration": 28,
    "start_time": "2022-12-15T18:33:17.937Z"
   },
   {
    "duration": 24,
    "start_time": "2022-12-15T18:33:17.967Z"
   },
   {
    "duration": 11,
    "start_time": "2022-12-15T18:33:17.993Z"
   },
   {
    "duration": 216,
    "start_time": "2022-12-15T18:33:18.006Z"
   },
   {
    "duration": 13,
    "start_time": "2022-12-15T18:33:18.224Z"
   },
   {
    "duration": 163,
    "start_time": "2022-12-15T18:33:18.239Z"
   },
   {
    "duration": 653,
    "start_time": "2022-12-15T18:33:21.537Z"
   },
   {
    "duration": 9,
    "start_time": "2022-12-15T18:33:29.716Z"
   },
   {
    "duration": 2,
    "start_time": "2022-12-15T18:38:19.210Z"
   },
   {
    "duration": 5,
    "start_time": "2022-12-15T18:38:20.866Z"
   },
   {
    "duration": 5,
    "start_time": "2022-12-15T18:38:28.383Z"
   },
   {
    "duration": 5,
    "start_time": "2022-12-15T18:39:12.800Z"
   },
   {
    "duration": 4,
    "start_time": "2022-12-15T18:39:13.618Z"
   },
   {
    "duration": 4,
    "start_time": "2022-12-15T18:39:35.746Z"
   },
   {
    "duration": 6,
    "start_time": "2022-12-15T18:39:36.377Z"
   },
   {
    "duration": 652,
    "start_time": "2022-12-15T18:40:07.426Z"
   },
   {
    "duration": 8,
    "start_time": "2022-12-15T18:40:13.906Z"
   },
   {
    "duration": 4,
    "start_time": "2022-12-15T18:41:26.808Z"
   },
   {
    "duration": 6566,
    "start_time": "2022-12-15T18:41:27.415Z"
   },
   {
    "duration": 5,
    "start_time": "2022-12-15T18:41:35.501Z"
   },
   {
    "duration": 6542,
    "start_time": "2022-12-15T18:42:59.325Z"
   },
   {
    "duration": 4,
    "start_time": "2022-12-15T18:43:05.869Z"
   },
   {
    "duration": 211,
    "start_time": "2022-12-15T18:45:13.547Z"
   },
   {
    "duration": 5,
    "start_time": "2022-12-15T18:45:41.776Z"
   },
   {
    "duration": 8,
    "start_time": "2022-12-15T18:46:12.417Z"
   },
   {
    "duration": 4,
    "start_time": "2022-12-15T18:46:29.705Z"
   },
   {
    "duration": 4,
    "start_time": "2022-12-15T18:47:58.865Z"
   },
   {
    "duration": 2,
    "start_time": "2022-12-15T18:48:17.980Z"
   },
   {
    "duration": 174,
    "start_time": "2022-12-15T18:48:58.546Z"
   },
   {
    "duration": 11,
    "start_time": "2022-12-15T18:49:26.511Z"
   },
   {
    "duration": 4,
    "start_time": "2022-12-15T18:49:44.051Z"
   },
   {
    "duration": 5,
    "start_time": "2022-12-15T18:49:49.783Z"
   },
   {
    "duration": 6,
    "start_time": "2022-12-15T18:51:22.035Z"
   },
   {
    "duration": 3723,
    "start_time": "2022-12-15T18:51:31.097Z"
   },
   {
    "duration": 2793463,
    "start_time": "2022-12-15T18:51:45.450Z"
   },
   {
    "duration": 4,
    "start_time": "2022-12-15T19:38:35.083Z"
   },
   {
    "duration": 822,
    "start_time": "2022-12-15T19:38:35.089Z"
   },
   {
    "duration": 30,
    "start_time": "2022-12-15T19:38:35.913Z"
   },
   {
    "duration": 8,
    "start_time": "2022-12-15T19:38:35.945Z"
   },
   {
    "duration": 14,
    "start_time": "2022-12-15T19:38:35.955Z"
   },
   {
    "duration": 226,
    "start_time": "2022-12-15T19:38:35.971Z"
   },
   {
    "duration": 13,
    "start_time": "2022-12-15T19:38:36.199Z"
   },
   {
    "duration": 2,
    "start_time": "2022-12-15T19:38:36.220Z"
   },
   {
    "duration": 9,
    "start_time": "2022-12-15T19:38:36.224Z"
   },
   {
    "duration": 69124,
    "start_time": "2022-12-15T19:38:41.414Z"
   },
   {
    "duration": 2811,
    "start_time": "2022-12-16T07:50:08.010Z"
   },
   {
    "duration": 3766,
    "start_time": "2022-12-16T07:50:10.823Z"
   },
   {
    "duration": 31,
    "start_time": "2022-12-16T07:50:14.591Z"
   },
   {
    "duration": 42,
    "start_time": "2022-12-16T07:50:14.624Z"
   },
   {
    "duration": 13,
    "start_time": "2022-12-16T07:50:14.668Z"
   },
   {
    "duration": 244,
    "start_time": "2022-12-16T07:50:14.682Z"
   },
   {
    "duration": 23,
    "start_time": "2022-12-16T07:50:14.928Z"
   },
   {
    "duration": 26,
    "start_time": "2022-12-16T07:50:16.997Z"
   },
   {
    "duration": 2668,
    "start_time": "2022-12-16T07:50:39.961Z"
   },
   {
    "duration": 856,
    "start_time": "2022-12-16T07:50:42.632Z"
   },
   {
    "duration": 40,
    "start_time": "2022-12-16T07:50:43.490Z"
   },
   {
    "duration": 26,
    "start_time": "2022-12-16T07:50:43.532Z"
   },
   {
    "duration": 49,
    "start_time": "2022-12-16T07:50:43.560Z"
   },
   {
    "duration": 286,
    "start_time": "2022-12-16T07:50:43.611Z"
   },
   {
    "duration": 24,
    "start_time": "2022-12-16T07:50:43.899Z"
   },
   {
    "duration": 41,
    "start_time": "2022-12-16T07:50:43.924Z"
   },
   {
    "duration": 35,
    "start_time": "2022-12-16T07:51:15.074Z"
   },
   {
    "duration": 530,
    "start_time": "2022-12-16T07:53:13.163Z"
   },
   {
    "duration": 3,
    "start_time": "2022-12-16T07:53:14.339Z"
   },
   {
    "duration": 3836,
    "start_time": "2022-12-16T07:53:15.531Z"
   },
   {
    "duration": 3,
    "start_time": "2022-12-16T07:53:46.963Z"
   },
   {
    "duration": 2688,
    "start_time": "2022-12-16T09:05:24.869Z"
   },
   {
    "duration": 757,
    "start_time": "2022-12-16T09:05:27.559Z"
   },
   {
    "duration": 33,
    "start_time": "2022-12-16T09:05:28.317Z"
   },
   {
    "duration": 48,
    "start_time": "2022-12-16T09:05:28.352Z"
   },
   {
    "duration": 47,
    "start_time": "2022-12-16T09:05:28.401Z"
   },
   {
    "duration": 248,
    "start_time": "2022-12-16T09:05:28.450Z"
   },
   {
    "duration": 33,
    "start_time": "2022-12-16T09:05:28.700Z"
   },
   {
    "duration": 33,
    "start_time": "2022-12-16T09:05:28.735Z"
   },
   {
    "duration": 70,
    "start_time": "2022-12-16T09:05:28.770Z"
   },
   {
    "duration": 297,
    "start_time": "2022-12-16T09:05:28.843Z"
   },
   {
    "duration": 3,
    "start_time": "2022-12-16T09:05:29.141Z"
   },
   {
    "duration": 830,
    "start_time": "2022-12-16T09:05:31.737Z"
   },
   {
    "duration": 3,
    "start_time": "2022-12-16T09:05:37.347Z"
   },
   {
    "duration": 2727,
    "start_time": "2022-12-16T21:21:03.193Z"
   },
   {
    "duration": 1165,
    "start_time": "2022-12-16T21:21:05.922Z"
   },
   {
    "duration": 32,
    "start_time": "2022-12-16T21:21:07.088Z"
   },
   {
    "duration": 11,
    "start_time": "2022-12-16T21:21:07.122Z"
   },
   {
    "duration": 10,
    "start_time": "2022-12-16T21:21:07.136Z"
   },
   {
    "duration": 224,
    "start_time": "2022-12-16T21:21:07.147Z"
   },
   {
    "duration": 14,
    "start_time": "2022-12-16T21:21:07.373Z"
   },
   {
    "duration": 23,
    "start_time": "2022-12-16T21:21:07.389Z"
   },
   {
    "duration": 37,
    "start_time": "2022-12-16T21:21:07.414Z"
   },
   {
    "duration": 254,
    "start_time": "2022-12-16T21:21:07.453Z"
   },
   {
    "duration": 3,
    "start_time": "2022-12-16T21:21:07.709Z"
   },
   {
    "duration": 868,
    "start_time": "2022-12-16T21:21:07.713Z"
   },
   {
    "duration": 4,
    "start_time": "2022-12-16T21:21:08.583Z"
   },
   {
    "duration": 70602,
    "start_time": "2022-12-16T21:21:18.185Z"
   },
   {
    "duration": 13058,
    "start_time": "2022-12-16T21:28:20.958Z"
   },
   {
    "duration": 6916,
    "start_time": "2022-12-16T21:28:54.944Z"
   },
   {
    "duration": 6934,
    "start_time": "2022-12-16T21:29:53.990Z"
   },
   {
    "duration": 7176,
    "start_time": "2022-12-16T21:30:14.224Z"
   },
   {
    "duration": 5,
    "start_time": "2022-12-16T21:30:24.629Z"
   },
   {
    "duration": 5,
    "start_time": "2022-12-16T21:30:39.070Z"
   },
   {
    "duration": 5,
    "start_time": "2022-12-16T21:38:38.660Z"
   },
   {
    "duration": 19,
    "start_time": "2022-12-16T21:38:46.060Z"
   },
   {
    "duration": 16,
    "start_time": "2022-12-16T21:38:49.425Z"
   },
   {
    "duration": 5,
    "start_time": "2022-12-16T21:38:53.030Z"
   },
   {
    "duration": 4,
    "start_time": "2022-12-16T21:39:35.593Z"
   },
   {
    "duration": 6,
    "start_time": "2022-12-16T21:39:43.364Z"
   },
   {
    "duration": 2362,
    "start_time": "2022-12-16T21:41:23.173Z"
   },
   {
    "duration": 806,
    "start_time": "2022-12-16T21:41:25.537Z"
   },
   {
    "duration": 27,
    "start_time": "2022-12-16T21:41:26.344Z"
   },
   {
    "duration": 27,
    "start_time": "2022-12-16T21:41:26.373Z"
   },
   {
    "duration": 35,
    "start_time": "2022-12-16T21:41:26.402Z"
   },
   {
    "duration": 233,
    "start_time": "2022-12-16T21:41:26.439Z"
   },
   {
    "duration": 18,
    "start_time": "2022-12-16T21:41:26.673Z"
   },
   {
    "duration": 58,
    "start_time": "2022-12-16T21:41:26.693Z"
   },
   {
    "duration": 40,
    "start_time": "2022-12-16T21:41:26.753Z"
   },
   {
    "duration": 164,
    "start_time": "2022-12-16T21:41:26.795Z"
   },
   {
    "duration": 3,
    "start_time": "2022-12-16T21:41:26.961Z"
   },
   {
    "duration": 853,
    "start_time": "2022-12-16T21:41:26.966Z"
   },
   {
    "duration": 3,
    "start_time": "2022-12-16T21:41:27.821Z"
   },
   {
    "duration": 7038,
    "start_time": "2022-12-16T21:41:27.836Z"
   },
   {
    "duration": 6,
    "start_time": "2022-12-16T21:41:34.877Z"
   },
   {
    "duration": 16,
    "start_time": "2022-12-16T21:41:34.884Z"
   },
   {
    "duration": 7446,
    "start_time": "2022-12-16T21:41:41.581Z"
   },
   {
    "duration": 14,
    "start_time": "2022-12-16T21:43:14.810Z"
   },
   {
    "duration": 5,
    "start_time": "2022-12-16T21:43:23.773Z"
   },
   {
    "duration": 16,
    "start_time": "2022-12-16T21:43:35.829Z"
   },
   {
    "duration": 5,
    "start_time": "2022-12-16T21:43:41.677Z"
   },
   {
    "duration": 14,
    "start_time": "2022-12-16T21:43:50.305Z"
   },
   {
    "duration": 6,
    "start_time": "2022-12-16T21:44:21.665Z"
   },
   {
    "duration": 71530,
    "start_time": "2022-12-16T21:44:51.852Z"
   },
   {
    "duration": 6,
    "start_time": "2022-12-16T21:46:09.843Z"
   },
   {
    "duration": 5,
    "start_time": "2022-12-16T21:46:35.088Z"
   },
   {
    "duration": 5,
    "start_time": "2022-12-16T21:46:43.178Z"
   },
   {
    "duration": 6,
    "start_time": "2022-12-16T21:46:52.220Z"
   },
   {
    "duration": 2544,
    "start_time": "2022-12-16T21:48:35.736Z"
   },
   {
    "duration": 815,
    "start_time": "2022-12-16T21:48:38.282Z"
   },
   {
    "duration": 36,
    "start_time": "2022-12-16T21:48:39.099Z"
   },
   {
    "duration": 12,
    "start_time": "2022-12-16T21:48:39.137Z"
   },
   {
    "duration": 15,
    "start_time": "2022-12-16T21:48:39.150Z"
   },
   {
    "duration": 244,
    "start_time": "2022-12-16T21:48:39.168Z"
   },
   {
    "duration": 24,
    "start_time": "2022-12-16T21:48:39.414Z"
   },
   {
    "duration": 28,
    "start_time": "2022-12-16T21:48:39.439Z"
   },
   {
    "duration": 18,
    "start_time": "2022-12-16T21:48:39.469Z"
   },
   {
    "duration": 181,
    "start_time": "2022-12-16T21:48:39.489Z"
   },
   {
    "duration": 3,
    "start_time": "2022-12-16T21:48:39.672Z"
   },
   {
    "duration": 846,
    "start_time": "2022-12-16T21:48:39.678Z"
   },
   {
    "duration": 3,
    "start_time": "2022-12-16T21:48:40.525Z"
   },
   {
    "duration": 70606,
    "start_time": "2022-12-16T21:48:43.438Z"
   },
   {
    "duration": 7,
    "start_time": "2022-12-16T21:50:09.569Z"
   },
   {
    "duration": 23557274,
    "start_time": "2022-12-16T21:51:45.598Z"
   },
   {
    "duration": 237,
    "start_time": "2022-12-17T04:24:22.874Z"
   },
   {
    "duration": 1391,
    "start_time": "2022-12-17T05:33:25.896Z"
   },
   {
    "duration": 1890,
    "start_time": "2022-12-17T10:03:29.312Z"
   },
   {
    "duration": 3796,
    "start_time": "2022-12-17T10:03:31.204Z"
   },
   {
    "duration": 35,
    "start_time": "2022-12-17T10:03:35.002Z"
   },
   {
    "duration": 15,
    "start_time": "2022-12-17T10:03:35.040Z"
   },
   {
    "duration": 12,
    "start_time": "2022-12-17T10:03:35.057Z"
   },
   {
    "duration": 232,
    "start_time": "2022-12-17T10:03:35.079Z"
   },
   {
    "duration": 17,
    "start_time": "2022-12-17T10:03:35.313Z"
   },
   {
    "duration": 46,
    "start_time": "2022-12-17T10:03:35.332Z"
   },
   {
    "duration": 22,
    "start_time": "2022-12-17T10:03:35.380Z"
   },
   {
    "duration": 3,
    "start_time": "2022-12-17T10:04:08.635Z"
   },
   {
    "duration": 2,
    "start_time": "2022-12-17T10:04:10.193Z"
   },
   {
    "duration": 804,
    "start_time": "2022-12-17T10:04:16.286Z"
   },
   {
    "duration": 354,
    "start_time": "2022-12-17T10:04:23.437Z"
   },
   {
    "duration": 3,
    "start_time": "2022-12-17T10:04:40.552Z"
   },
   {
    "duration": 3,
    "start_time": "2022-12-17T10:05:46.472Z"
   },
   {
    "duration": 4,
    "start_time": "2022-12-17T10:05:48.014Z"
   },
   {
    "duration": 1250,
    "start_time": "2022-12-17T10:07:18.605Z"
   },
   {
    "duration": 7,
    "start_time": "2022-12-17T10:07:37.453Z"
   },
   {
    "duration": 307,
    "start_time": "2022-12-17T10:08:34.240Z"
   },
   {
    "duration": 10,
    "start_time": "2022-12-17T10:08:41.963Z"
   },
   {
    "duration": 1230,
    "start_time": "2022-12-17T10:10:36.207Z"
   },
   {
    "duration": 1171,
    "start_time": "2022-12-17T10:10:51.273Z"
   },
   {
    "duration": 1214,
    "start_time": "2022-12-17T10:11:03.887Z"
   },
   {
    "duration": 1079,
    "start_time": "2022-12-17T10:11:25.306Z"
   },
   {
    "duration": 5,
    "start_time": "2022-12-17T10:11:42.085Z"
   },
   {
    "duration": 4,
    "start_time": "2022-12-17T10:12:31.799Z"
   },
   {
    "duration": 742,
    "start_time": "2022-12-17T10:12:32.276Z"
   },
   {
    "duration": 30,
    "start_time": "2022-12-17T10:12:33.020Z"
   },
   {
    "duration": 11,
    "start_time": "2022-12-17T10:12:33.052Z"
   },
   {
    "duration": 13,
    "start_time": "2022-12-17T10:12:33.410Z"
   },
   {
    "duration": 230,
    "start_time": "2022-12-17T10:12:33.762Z"
   },
   {
    "duration": 22,
    "start_time": "2022-12-17T10:12:34.030Z"
   },
   {
    "duration": 40,
    "start_time": "2022-12-17T10:12:34.368Z"
   },
   {
    "duration": 24,
    "start_time": "2022-12-17T10:12:34.720Z"
   },
   {
    "duration": 3,
    "start_time": "2022-12-17T10:12:47.515Z"
   },
   {
    "duration": 3,
    "start_time": "2022-12-17T10:12:47.881Z"
   },
   {
    "duration": 740,
    "start_time": "2022-12-17T10:12:49.085Z"
   },
   {
    "duration": 6,
    "start_time": "2022-12-17T10:12:53.558Z"
   },
   {
    "duration": 3,
    "start_time": "2022-12-17T10:12:54.501Z"
   },
   {
    "duration": 3,
    "start_time": "2022-12-17T10:12:57.049Z"
   },
   {
    "duration": 270,
    "start_time": "2022-12-17T10:13:01.005Z"
   },
   {
    "duration": 7,
    "start_time": "2022-12-17T10:13:13.617Z"
   },
   {
    "duration": 11,
    "start_time": "2022-12-17T10:15:02.165Z"
   },
   {
    "duration": 1119,
    "start_time": "2022-12-17T10:15:18.721Z"
   },
   {
    "duration": 1097,
    "start_time": "2022-12-17T10:15:26.976Z"
   },
   {
    "duration": 1175,
    "start_time": "2022-12-17T10:15:32.682Z"
   },
   {
    "duration": 8,
    "start_time": "2022-12-17T10:16:00.284Z"
   },
   {
    "duration": 1168,
    "start_time": "2022-12-17T10:16:28.689Z"
   },
   {
    "duration": 1129,
    "start_time": "2022-12-17T10:16:38.082Z"
   },
   {
    "duration": 5,
    "start_time": "2022-12-17T10:16:45.840Z"
   },
   {
    "duration": 9,
    "start_time": "2022-12-17T10:17:15.752Z"
   },
   {
    "duration": 1784,
    "start_time": "2022-12-17T11:27:24.233Z"
   },
   {
    "duration": 1101,
    "start_time": "2022-12-17T11:27:26.020Z"
   },
   {
    "duration": 29,
    "start_time": "2022-12-17T11:27:27.122Z"
   },
   {
    "duration": 11,
    "start_time": "2022-12-17T11:27:27.153Z"
   },
   {
    "duration": 15,
    "start_time": "2022-12-17T11:27:27.166Z"
   },
   {
    "duration": 226,
    "start_time": "2022-12-17T11:27:27.183Z"
   },
   {
    "duration": 19,
    "start_time": "2022-12-17T11:27:27.411Z"
   },
   {
    "duration": 20,
    "start_time": "2022-12-17T11:27:27.432Z"
   },
   {
    "duration": 15,
    "start_time": "2022-12-17T11:27:27.454Z"
   },
   {
    "duration": 2,
    "start_time": "2022-12-17T11:27:27.472Z"
   },
   {
    "duration": 6,
    "start_time": "2022-12-17T11:27:27.475Z"
   },
   {
    "duration": 774,
    "start_time": "2022-12-17T11:27:27.482Z"
   },
   {
    "duration": 238,
    "start_time": "2022-12-17T11:27:28.258Z"
   },
   {
    "duration": 2,
    "start_time": "2022-12-17T11:27:28.498Z"
   },
   {
    "duration": 3,
    "start_time": "2022-12-17T11:27:32.807Z"
   },
   {
    "duration": 2,
    "start_time": "2022-12-17T11:27:49.033Z"
   },
   {
    "duration": 1135,
    "start_time": "2022-12-17T11:28:20.026Z"
   },
   {
    "duration": 4,
    "start_time": "2022-12-17T11:28:29.200Z"
   },
   {
    "duration": 4,
    "start_time": "2022-12-17T11:29:16.864Z"
   },
   {
    "duration": 149,
    "start_time": "2022-12-17T11:30:32.669Z"
   },
   {
    "duration": 12,
    "start_time": "2022-12-17T11:30:52.366Z"
   },
   {
    "duration": 720,
    "start_time": "2022-12-17T11:32:34.916Z"
   },
   {
    "duration": 658,
    "start_time": "2022-12-17T11:32:42.712Z"
   },
   {
    "duration": 33,
    "start_time": "2022-12-17T11:33:16.725Z"
   },
   {
    "duration": 654,
    "start_time": "2022-12-17T11:33:27.154Z"
   },
   {
    "duration": 4,
    "start_time": "2022-12-17T11:53:12.809Z"
   },
   {
    "duration": 1574,
    "start_time": "2022-12-17T11:55:53.206Z"
   },
   {
    "duration": 781,
    "start_time": "2022-12-17T11:55:54.781Z"
   },
   {
    "duration": 28,
    "start_time": "2022-12-17T11:55:55.564Z"
   },
   {
    "duration": 10,
    "start_time": "2022-12-17T11:55:55.594Z"
   },
   {
    "duration": 10,
    "start_time": "2022-12-17T11:55:55.621Z"
   },
   {
    "duration": 216,
    "start_time": "2022-12-17T11:55:55.633Z"
   },
   {
    "duration": 14,
    "start_time": "2022-12-17T11:55:55.851Z"
   },
   {
    "duration": 21,
    "start_time": "2022-12-17T11:55:55.867Z"
   },
   {
    "duration": 37,
    "start_time": "2022-12-17T11:55:55.890Z"
   },
   {
    "duration": 3,
    "start_time": "2022-12-17T11:55:59.510Z"
   },
   {
    "duration": 3,
    "start_time": "2022-12-17T11:56:09.267Z"
   },
   {
    "duration": 763,
    "start_time": "2022-12-17T11:56:20.070Z"
   },
   {
    "duration": 6,
    "start_time": "2022-12-17T11:56:27.305Z"
   },
   {
    "duration": 2,
    "start_time": "2022-12-17T11:57:03.981Z"
   },
   {
    "duration": 833,
    "start_time": "2022-12-17T11:57:06.459Z"
   },
   {
    "duration": 9,
    "start_time": "2022-12-17T11:57:09.059Z"
   },
   {
    "duration": 234,
    "start_time": "2022-12-17T11:58:54.320Z"
   },
   {
    "duration": 3,
    "start_time": "2022-12-17T11:58:56.218Z"
   },
   {
    "duration": 161,
    "start_time": "2022-12-17T12:02:35.309Z"
   },
   {
    "duration": 4,
    "start_time": "2022-12-17T12:02:40.831Z"
   },
   {
    "duration": 1361,
    "start_time": "2022-12-17T12:02:41.936Z"
   },
   {
    "duration": 15,
    "start_time": "2022-12-17T12:03:57.019Z"
   },
   {
    "duration": 1608,
    "start_time": "2022-12-17T12:06:03.911Z"
   },
   {
    "duration": 764,
    "start_time": "2022-12-17T12:06:05.522Z"
   },
   {
    "duration": 34,
    "start_time": "2022-12-17T12:06:06.287Z"
   },
   {
    "duration": 10,
    "start_time": "2022-12-17T12:06:06.323Z"
   },
   {
    "duration": 17,
    "start_time": "2022-12-17T12:06:06.335Z"
   },
   {
    "duration": 237,
    "start_time": "2022-12-17T12:06:06.353Z"
   },
   {
    "duration": 19,
    "start_time": "2022-12-17T12:06:06.592Z"
   },
   {
    "duration": 30,
    "start_time": "2022-12-17T12:06:06.612Z"
   },
   {
    "duration": 17,
    "start_time": "2022-12-17T12:06:06.644Z"
   },
   {
    "duration": 3,
    "start_time": "2022-12-17T12:06:06.663Z"
   },
   {
    "duration": 5,
    "start_time": "2022-12-17T12:06:06.667Z"
   },
   {
    "duration": 7,
    "start_time": "2022-12-17T12:06:06.674Z"
   },
   {
    "duration": 859,
    "start_time": "2022-12-17T12:06:06.682Z"
   },
   {
    "duration": 8,
    "start_time": "2022-12-17T12:06:07.544Z"
   },
   {
    "duration": 244,
    "start_time": "2022-12-17T12:06:07.554Z"
   },
   {
    "duration": 3,
    "start_time": "2022-12-17T12:06:07.800Z"
   },
   {
    "duration": 6,
    "start_time": "2022-12-17T12:06:07.804Z"
   },
   {
    "duration": 1332,
    "start_time": "2022-12-17T12:06:07.812Z"
   },
   {
    "duration": 129,
    "start_time": "2022-12-17T12:06:09.146Z"
   },
   {
    "duration": 436,
    "start_time": "2022-12-17T12:06:43.253Z"
   },
   {
    "duration": 97,
    "start_time": "2022-12-17T12:06:47.959Z"
   },
   {
    "duration": 4,
    "start_time": "2022-12-17T12:10:03.063Z"
   },
   {
    "duration": 4,
    "start_time": "2022-12-17T12:10:37.986Z"
   },
   {
    "duration": 15,
    "start_time": "2022-12-17T12:11:00.076Z"
   },
   {
    "duration": 8,
    "start_time": "2022-12-17T12:11:32.761Z"
   },
   {
    "duration": 16,
    "start_time": "2022-12-17T12:11:40.179Z"
   },
   {
    "duration": 3,
    "start_time": "2022-12-17T12:13:21.436Z"
   },
   {
    "duration": 5,
    "start_time": "2022-12-17T12:13:39.536Z"
   },
   {
    "duration": 45,
    "start_time": "2022-12-17T12:15:49.553Z"
   },
   {
    "duration": 10,
    "start_time": "2022-12-17T12:16:08.312Z"
   },
   {
    "duration": 14,
    "start_time": "2022-12-17T12:16:27.281Z"
   },
   {
    "duration": 4,
    "start_time": "2022-12-17T12:16:46.196Z"
   },
   {
    "duration": 5,
    "start_time": "2022-12-17T12:17:14.068Z"
   },
   {
    "duration": 858,
    "start_time": "2022-12-17T12:17:54.520Z"
   },
   {
    "duration": 8,
    "start_time": "2022-12-17T12:17:56.594Z"
   },
   {
    "duration": 3,
    "start_time": "2022-12-17T12:18:46.319Z"
   },
   {
    "duration": 4,
    "start_time": "2022-12-17T12:19:19.961Z"
   },
   {
    "duration": 5,
    "start_time": "2022-12-17T12:19:20.632Z"
   },
   {
    "duration": 1157,
    "start_time": "2022-12-17T12:19:26.560Z"
   },
   {
    "duration": 7,
    "start_time": "2022-12-17T12:19:28.879Z"
   },
   {
    "duration": 72,
    "start_time": "2022-12-17T12:20:59.394Z"
   },
   {
    "duration": 1509,
    "start_time": "2022-12-17T12:21:11.557Z"
   },
   {
    "duration": 757,
    "start_time": "2022-12-17T12:21:13.068Z"
   },
   {
    "duration": 24,
    "start_time": "2022-12-17T12:21:13.827Z"
   },
   {
    "duration": 11,
    "start_time": "2022-12-17T12:21:13.853Z"
   },
   {
    "duration": 10,
    "start_time": "2022-12-17T12:21:13.865Z"
   },
   {
    "duration": 232,
    "start_time": "2022-12-17T12:21:13.877Z"
   },
   {
    "duration": 20,
    "start_time": "2022-12-17T12:21:14.111Z"
   },
   {
    "duration": 21,
    "start_time": "2022-12-17T12:21:14.133Z"
   },
   {
    "duration": 17,
    "start_time": "2022-12-17T12:21:14.156Z"
   },
   {
    "duration": 3,
    "start_time": "2022-12-17T12:21:14.176Z"
   },
   {
    "duration": 5,
    "start_time": "2022-12-17T12:21:14.181Z"
   },
   {
    "duration": 910,
    "start_time": "2022-12-17T12:21:14.188Z"
   },
   {
    "duration": 8,
    "start_time": "2022-12-17T12:21:15.099Z"
   },
   {
    "duration": 239,
    "start_time": "2022-12-17T12:21:15.109Z"
   },
   {
    "duration": 9,
    "start_time": "2022-12-17T12:21:15.350Z"
   },
   {
    "duration": 10,
    "start_time": "2022-12-17T12:21:15.361Z"
   },
   {
    "duration": 12,
    "start_time": "2022-12-17T12:21:15.373Z"
   },
   {
    "duration": 1665,
    "start_time": "2022-12-17T12:21:15.388Z"
   },
   {
    "duration": 6,
    "start_time": "2022-12-17T12:21:19.707Z"
   },
   {
    "duration": 160,
    "start_time": "2022-12-17T12:23:04.735Z"
   },
   {
    "duration": 18,
    "start_time": "2022-12-17T12:23:50.115Z"
   },
   {
    "duration": 202749,
    "start_time": "2022-12-17T12:23:51.264Z"
   },
   {
    "duration": 8,
    "start_time": "2022-12-17T12:27:27.369Z"
   },
   {
    "duration": 12,
    "start_time": "2022-12-17T12:28:32.949Z"
   },
   {
    "duration": 3,
    "start_time": "2022-12-17T12:31:20.228Z"
   },
   {
    "duration": 54,
    "start_time": "2022-12-17T12:31:22.030Z"
   },
   {
    "duration": 2,
    "start_time": "2022-12-17T12:31:22.415Z"
   },
   {
    "duration": 204755,
    "start_time": "2022-12-17T12:31:22.951Z"
   },
   {
    "duration": 7,
    "start_time": "2022-12-17T12:34:52.044Z"
   },
   {
    "duration": 4,
    "start_time": "2022-12-17T12:34:55.408Z"
   },
   {
    "duration": 1885,
    "start_time": "2022-12-19T06:25:35.848Z"
   },
   {
    "duration": 3681,
    "start_time": "2022-12-19T06:25:37.735Z"
   },
   {
    "duration": 35,
    "start_time": "2022-12-19T06:25:41.418Z"
   },
   {
    "duration": 13,
    "start_time": "2022-12-19T06:25:41.455Z"
   },
   {
    "duration": 15,
    "start_time": "2022-12-19T06:25:41.470Z"
   },
   {
    "duration": 251,
    "start_time": "2022-12-19T06:25:41.486Z"
   },
   {
    "duration": 20,
    "start_time": "2022-12-19T06:25:41.738Z"
   },
   {
    "duration": 7,
    "start_time": "2022-12-19T06:25:54.589Z"
   },
   {
    "duration": 11,
    "start_time": "2022-12-19T06:26:06.889Z"
   },
   {
    "duration": 24,
    "start_time": "2022-12-19T06:27:03.143Z"
   },
   {
    "duration": 121,
    "start_time": "2022-12-19T06:29:26.253Z"
   },
   {
    "duration": 24,
    "start_time": "2022-12-19T06:29:48.173Z"
   },
   {
    "duration": 4,
    "start_time": "2022-12-19T06:30:15.397Z"
   },
   {
    "duration": 3,
    "start_time": "2022-12-19T06:30:25.125Z"
   },
   {
    "duration": 4,
    "start_time": "2022-12-19T06:30:34.732Z"
   },
   {
    "duration": 4,
    "start_time": "2022-12-19T06:30:45.804Z"
   },
   {
    "duration": 4,
    "start_time": "2022-12-19T06:30:54.291Z"
   },
   {
    "duration": 1654,
    "start_time": "2022-12-19T06:36:34.624Z"
   },
   {
    "duration": 532,
    "start_time": "2022-12-19T06:36:38.541Z"
   },
   {
    "duration": 7,
    "start_time": "2022-12-19T06:38:33.773Z"
   },
   {
    "duration": 18,
    "start_time": "2022-12-19T06:38:33.782Z"
   },
   {
    "duration": 767,
    "start_time": "2022-12-19T06:38:33.801Z"
   },
   {
    "duration": 30,
    "start_time": "2022-12-19T06:38:34.570Z"
   },
   {
    "duration": 8,
    "start_time": "2022-12-19T06:38:34.601Z"
   },
   {
    "duration": 11,
    "start_time": "2022-12-19T06:38:34.611Z"
   },
   {
    "duration": 237,
    "start_time": "2022-12-19T06:38:34.624Z"
   },
   {
    "duration": 21,
    "start_time": "2022-12-19T06:38:34.863Z"
   },
   {
    "duration": 10,
    "start_time": "2022-12-19T06:38:34.886Z"
   },
   {
    "duration": 33,
    "start_time": "2022-12-19T06:38:34.899Z"
   },
   {
    "duration": 44,
    "start_time": "2022-12-19T06:38:34.934Z"
   },
   {
    "duration": 3,
    "start_time": "2022-12-19T06:38:34.980Z"
   },
   {
    "duration": 282,
    "start_time": "2022-12-19T06:38:34.985Z"
   },
   {
    "duration": 11,
    "start_time": "2022-12-19T06:38:35.268Z"
   },
   {
    "duration": 0,
    "start_time": "2022-12-19T06:38:35.281Z"
   },
   {
    "duration": 0,
    "start_time": "2022-12-19T06:38:35.282Z"
   },
   {
    "duration": 0,
    "start_time": "2022-12-19T06:38:35.283Z"
   },
   {
    "duration": 6,
    "start_time": "2022-12-19T06:39:22.438Z"
   },
   {
    "duration": 10,
    "start_time": "2022-12-19T06:40:42.277Z"
   },
   {
    "duration": 12,
    "start_time": "2022-12-19T06:41:20.460Z"
   },
   {
    "duration": 8,
    "start_time": "2022-12-19T06:41:56.820Z"
   },
   {
    "duration": 5,
    "start_time": "2022-12-19T06:42:27.734Z"
   },
   {
    "duration": 9,
    "start_time": "2022-12-19T06:42:27.741Z"
   },
   {
    "duration": 699,
    "start_time": "2022-12-19T06:42:27.752Z"
   },
   {
    "duration": 31,
    "start_time": "2022-12-19T06:42:28.452Z"
   },
   {
    "duration": 7,
    "start_time": "2022-12-19T06:42:28.486Z"
   },
   {
    "duration": 11,
    "start_time": "2022-12-19T06:42:28.495Z"
   },
   {
    "duration": 237,
    "start_time": "2022-12-19T06:42:28.508Z"
   },
   {
    "duration": 19,
    "start_time": "2022-12-19T06:42:28.746Z"
   },
   {
    "duration": 13,
    "start_time": "2022-12-19T06:42:28.767Z"
   },
   {
    "duration": 46,
    "start_time": "2022-12-19T06:42:28.783Z"
   },
   {
    "duration": 47,
    "start_time": "2022-12-19T06:42:28.831Z"
   },
   {
    "duration": 4,
    "start_time": "2022-12-19T06:42:28.880Z"
   },
   {
    "duration": 458,
    "start_time": "2022-12-19T06:42:28.886Z"
   },
   {
    "duration": 7,
    "start_time": "2022-12-19T06:42:29.347Z"
   },
   {
    "duration": 3,
    "start_time": "2022-12-19T06:42:36.700Z"
   },
   {
    "duration": 3,
    "start_time": "2022-12-19T06:42:37.171Z"
   },
   {
    "duration": 104148,
    "start_time": "2022-12-19T06:42:37.787Z"
   },
   {
    "duration": 6,
    "start_time": "2022-12-19T06:51:46.580Z"
   },
   {
    "duration": 4,
    "start_time": "2022-12-19T06:51:51.100Z"
   },
   {
    "duration": 6,
    "start_time": "2022-12-19T06:52:16.644Z"
   },
   {
    "duration": 612,
    "start_time": "2022-12-19T06:52:35.364Z"
   },
   {
    "duration": 10,
    "start_time": "2022-12-19T06:52:55.507Z"
   },
   {
    "duration": 4,
    "start_time": "2022-12-19T06:53:05.020Z"
   },
   {
    "duration": 4130,
    "start_time": "2022-12-19T06:53:39.771Z"
   },
   {
    "duration": 101555,
    "start_time": "2022-12-19T06:54:02.275Z"
   },
   {
    "duration": 839400,
    "start_time": "2022-12-19T06:55:43.832Z"
   },
   {
    "duration": 51,
    "start_time": "2022-12-19T07:13:41.726Z"
   },
   {
    "duration": 1645,
    "start_time": "2022-12-19T07:14:27.051Z"
   },
   {
    "duration": 264,
    "start_time": "2022-12-19T07:14:28.698Z"
   },
   {
    "duration": 3505,
    "start_time": "2022-12-19T07:14:28.964Z"
   },
   {
    "duration": 31,
    "start_time": "2022-12-19T07:14:32.471Z"
   },
   {
    "duration": 16,
    "start_time": "2022-12-19T07:14:32.504Z"
   },
   {
    "duration": 10,
    "start_time": "2022-12-19T07:14:32.522Z"
   },
   {
    "duration": 223,
    "start_time": "2022-12-19T07:14:32.534Z"
   },
   {
    "duration": 22,
    "start_time": "2022-12-19T07:14:32.758Z"
   },
   {
    "duration": 3,
    "start_time": "2022-12-19T07:14:32.781Z"
   },
   {
    "duration": 45,
    "start_time": "2022-12-19T07:14:32.786Z"
   },
   {
    "duration": 27,
    "start_time": "2022-12-19T07:14:32.832Z"
   },
   {
    "duration": 2,
    "start_time": "2022-12-19T07:14:32.861Z"
   },
   {
    "duration": 447,
    "start_time": "2022-12-19T07:14:32.878Z"
   },
   {
    "duration": 7,
    "start_time": "2022-12-19T07:14:33.329Z"
   },
   {
    "duration": 441,
    "start_time": "2022-12-19T07:14:33.337Z"
   },
   {
    "duration": 3790,
    "start_time": "2022-12-19T07:14:33.779Z"
   },
   {
    "duration": 4,
    "start_time": "2022-12-19T07:14:37.577Z"
   },
   {
    "duration": 35,
    "start_time": "2022-12-19T07:14:37.583Z"
   },
   {
    "duration": 100859,
    "start_time": "2022-12-19T07:14:37.620Z"
   },
   {
    "duration": 5,
    "start_time": "2022-12-19T07:16:18.480Z"
   },
   {
    "duration": 191,
    "start_time": "2022-12-19T07:16:18.487Z"
   },
   {
    "duration": 1630,
    "start_time": "2022-12-19T07:28:35.357Z"
   },
   {
    "duration": 246,
    "start_time": "2022-12-19T07:28:36.989Z"
   },
   {
    "duration": 724,
    "start_time": "2022-12-19T07:28:37.237Z"
   },
   {
    "duration": 33,
    "start_time": "2022-12-19T07:28:37.964Z"
   },
   {
    "duration": 49,
    "start_time": "2022-12-19T07:28:37.999Z"
   },
   {
    "duration": 42,
    "start_time": "2022-12-19T07:28:38.049Z"
   },
   {
    "duration": 224,
    "start_time": "2022-12-19T07:28:38.092Z"
   },
   {
    "duration": 16,
    "start_time": "2022-12-19T07:28:38.317Z"
   },
   {
    "duration": 14,
    "start_time": "2022-12-19T07:28:38.335Z"
   },
   {
    "duration": 43,
    "start_time": "2022-12-19T07:28:38.352Z"
   },
   {
    "duration": 27,
    "start_time": "2022-12-19T07:28:38.397Z"
   },
   {
    "duration": 3,
    "start_time": "2022-12-19T07:28:38.425Z"
   },
   {
    "duration": 468,
    "start_time": "2022-12-19T07:28:38.430Z"
   },
   {
    "duration": 6,
    "start_time": "2022-12-19T07:28:38.900Z"
   },
   {
    "duration": 488,
    "start_time": "2022-12-19T07:28:38.907Z"
   },
   {
    "duration": 3981,
    "start_time": "2022-12-19T07:28:39.397Z"
   },
   {
    "duration": 7,
    "start_time": "2022-12-19T07:28:43.380Z"
   },
   {
    "duration": 7,
    "start_time": "2022-12-19T07:28:43.388Z"
   },
   {
    "duration": 102965,
    "start_time": "2022-12-19T07:28:43.397Z"
   },
   {
    "duration": 5,
    "start_time": "2022-12-19T07:30:26.364Z"
   },
   {
    "duration": 104804,
    "start_time": "2022-12-19T07:30:26.370Z"
   },
   {
    "duration": 179,
    "start_time": "2022-12-19T07:32:11.178Z"
   },
   {
    "duration": 186,
    "start_time": "2022-12-19T07:38:54.010Z"
   },
   {
    "duration": 122,
    "start_time": "2022-12-19T07:39:14.562Z"
   },
   {
    "duration": 4,
    "start_time": "2022-12-19T07:39:26.553Z"
   },
   {
    "duration": 22,
    "start_time": "2022-12-19T07:41:01.913Z"
   },
   {
    "duration": 525,
    "start_time": "2022-12-19T07:41:10.777Z"
   },
   {
    "duration": 462,
    "start_time": "2022-12-19T07:41:44.593Z"
   },
   {
    "duration": 894218,
    "start_time": "2022-12-19T07:43:04.031Z"
   },
   {
    "duration": 2639,
    "start_time": "2022-12-19T07:58:52.843Z"
   },
   {
    "duration": 46,
    "start_time": "2022-12-19T07:59:50.563Z"
   },
   {
    "duration": 1811,
    "start_time": "2022-12-19T08:00:03.467Z"
   },
   {
    "duration": 643,
    "start_time": "2022-12-19T08:00:14.634Z"
   },
   {
    "duration": 1697,
    "start_time": "2022-12-19T08:00:34.347Z"
   },
   {
    "duration": 696,
    "start_time": "2022-12-19T08:00:49.491Z"
   },
   {
    "duration": 13,
    "start_time": "2022-12-19T08:00:54.906Z"
   },
   {
    "duration": 7,
    "start_time": "2022-12-19T08:05:41.552Z"
   },
   {
    "duration": 10,
    "start_time": "2022-12-19T08:05:51.622Z"
   },
   {
    "duration": 1517,
    "start_time": "2022-12-19T08:06:09.326Z"
   },
   {
    "duration": 334,
    "start_time": "2022-12-19T08:07:56.805Z"
   },
   {
    "duration": 390,
    "start_time": "2022-12-19T08:07:58.925Z"
   },
   {
    "duration": 12,
    "start_time": "2022-12-19T08:08:10.317Z"
   },
   {
    "duration": 429,
    "start_time": "2022-12-19T08:09:48.067Z"
   },
   {
    "duration": 417,
    "start_time": "2022-12-19T08:09:49.836Z"
   },
   {
    "duration": 5,
    "start_time": "2022-12-19T08:10:26.982Z"
   },
   {
    "duration": 5,
    "start_time": "2022-12-19T08:10:34.105Z"
   },
   {
    "duration": 5,
    "start_time": "2022-12-19T08:11:20.028Z"
   },
   {
    "duration": 140,
    "start_time": "2022-12-19T08:12:22.051Z"
   },
   {
    "duration": 1713,
    "start_time": "2022-12-19T08:29:58.685Z"
   },
   {
    "duration": 2243,
    "start_time": "2022-12-19T08:30:11.093Z"
   },
   {
    "duration": 4,
    "start_time": "2022-12-19T08:30:21.213Z"
   },
   {
    "duration": 6882,
    "start_time": "2022-12-19T08:30:23.749Z"
   },
   {
    "duration": 3,
    "start_time": "2022-12-19T08:34:44.042Z"
   },
   {
    "duration": 117,
    "start_time": "2022-12-19T08:34:44.969Z"
   },
   {
    "duration": 7738,
    "start_time": "2022-12-19T08:34:56.362Z"
   },
   {
    "duration": 3471,
    "start_time": "2022-12-19T08:35:08.362Z"
   },
   {
    "duration": 5,
    "start_time": "2022-12-19T08:35:22.976Z"
   },
   {
    "duration": 25,
    "start_time": "2022-12-19T08:35:22.982Z"
   },
   {
    "duration": 700,
    "start_time": "2022-12-19T08:35:23.009Z"
   },
   {
    "duration": 30,
    "start_time": "2022-12-19T08:35:23.712Z"
   },
   {
    "duration": 9,
    "start_time": "2022-12-19T08:35:23.744Z"
   },
   {
    "duration": 27,
    "start_time": "2022-12-19T08:35:23.755Z"
   },
   {
    "duration": 219,
    "start_time": "2022-12-19T08:35:23.784Z"
   },
   {
    "duration": 18,
    "start_time": "2022-12-19T08:35:24.005Z"
   },
   {
    "duration": 3,
    "start_time": "2022-12-19T08:35:24.026Z"
   },
   {
    "duration": 52,
    "start_time": "2022-12-19T08:35:24.032Z"
   },
   {
    "duration": 31,
    "start_time": "2022-12-19T08:35:24.086Z"
   },
   {
    "duration": 29365,
    "start_time": "2022-12-19T08:35:42.841Z"
   },
   {
    "duration": 1658,
    "start_time": "2022-12-19T08:36:33.148Z"
   },
   {
    "duration": 242,
    "start_time": "2022-12-19T08:36:34.807Z"
   },
   {
    "duration": 805,
    "start_time": "2022-12-19T08:36:35.051Z"
   },
   {
    "duration": 33,
    "start_time": "2022-12-19T08:36:35.858Z"
   },
   {
    "duration": 14,
    "start_time": "2022-12-19T08:36:35.893Z"
   },
   {
    "duration": 12,
    "start_time": "2022-12-19T08:36:35.909Z"
   },
   {
    "duration": 255,
    "start_time": "2022-12-19T08:36:35.923Z"
   },
   {
    "duration": 15,
    "start_time": "2022-12-19T08:36:36.180Z"
   },
   {
    "duration": 3,
    "start_time": "2022-12-19T08:36:36.197Z"
   },
   {
    "duration": 37,
    "start_time": "2022-12-19T08:36:36.201Z"
   },
   {
    "duration": 45,
    "start_time": "2022-12-19T08:36:36.240Z"
   },
   {
    "duration": 364,
    "start_time": "2022-12-19T08:36:43.248Z"
   },
   {
    "duration": 392,
    "start_time": "2022-12-19T08:36:43.617Z"
   },
   {
    "duration": 2198,
    "start_time": "2022-12-19T08:36:44.012Z"
   },
   {
    "duration": 4,
    "start_time": "2022-12-19T08:36:46.212Z"
   },
   {
    "duration": 6901,
    "start_time": "2022-12-19T08:36:48.185Z"
   },
   {
    "duration": 4,
    "start_time": "2022-12-19T08:38:19.069Z"
   },
   {
    "duration": 195,
    "start_time": "2022-12-19T08:41:33.973Z"
   },
   {
    "duration": 4,
    "start_time": "2022-12-19T08:42:14.437Z"
   },
   {
    "duration": 5,
    "start_time": "2022-12-19T08:42:21.748Z"
   },
   {
    "duration": 17,
    "start_time": "2022-12-19T08:47:09.737Z"
   },
   {
    "duration": 48,
    "start_time": "2022-12-19T08:47:18.744Z"
   },
   {
    "duration": 2,
    "start_time": "2022-12-19T08:49:03.687Z"
   },
   {
    "duration": 42899,
    "start_time": "2022-12-19T08:49:04.280Z"
   },
   {
    "duration": 19,
    "start_time": "2022-12-19T09:04:34.102Z"
   },
   {
    "duration": 5,
    "start_time": "2022-12-19T09:05:43.509Z"
   },
   {
    "duration": 38,
    "start_time": "2022-12-19T09:06:08.357Z"
   },
   {
    "duration": 10,
    "start_time": "2022-12-19T09:28:23.679Z"
   },
   {
    "duration": 1705,
    "start_time": "2022-12-19T09:29:27.527Z"
   },
   {
    "duration": 12,
    "start_time": "2022-12-19T09:29:38.909Z"
   },
   {
    "duration": 12,
    "start_time": "2022-12-19T09:30:17.381Z"
   },
   {
    "duration": 5,
    "start_time": "2022-12-19T09:49:03.776Z"
   },
   {
    "duration": 2,
    "start_time": "2022-12-19T09:51:59.404Z"
   },
   {
    "duration": 2144,
    "start_time": "2022-12-19T09:52:19.454Z"
   },
   {
    "duration": 284,
    "start_time": "2022-12-19T09:52:54.854Z"
   },
   {
    "duration": 2122,
    "start_time": "2022-12-19T09:53:55.149Z"
   },
   {
    "duration": 5,
    "start_time": "2022-12-19T09:54:05.196Z"
   },
   {
    "duration": 6,
    "start_time": "2022-12-19T09:54:14.820Z"
   },
   {
    "duration": 2775,
    "start_time": "2022-12-19T09:54:15.220Z"
   },
   {
    "duration": 287,
    "start_time": "2022-12-19T09:54:17.999Z"
   },
   {
    "duration": 2075,
    "start_time": "2022-12-19T09:54:18.288Z"
   },
   {
    "duration": 4,
    "start_time": "2022-12-19T10:03:31.654Z"
   },
   {
    "duration": 1914,
    "start_time": "2022-12-19T10:04:01.104Z"
   },
   {
    "duration": 413,
    "start_time": "2022-12-19T10:04:13.399Z"
   },
   {
    "duration": 406,
    "start_time": "2022-12-19T10:04:13.814Z"
   },
   {
    "duration": 2502,
    "start_time": "2022-12-19T10:04:14.222Z"
   },
   {
    "duration": 4,
    "start_time": "2022-12-19T10:04:17.654Z"
   },
   {
    "duration": 7616,
    "start_time": "2022-12-19T10:04:18.310Z"
   },
   {
    "duration": 1812,
    "start_time": "2022-12-19T10:04:25.928Z"
   },
   {
    "duration": 3,
    "start_time": "2022-12-19T10:04:30.513Z"
   },
   {
    "duration": 214,
    "start_time": "2022-12-19T10:04:32.046Z"
   },
   {
    "duration": 1887,
    "start_time": "2022-12-19T10:04:53.205Z"
   },
   {
    "duration": 254,
    "start_time": "2022-12-19T10:04:55.094Z"
   },
   {
    "duration": 4412,
    "start_time": "2022-12-19T10:04:55.350Z"
   },
   {
    "duration": 42,
    "start_time": "2022-12-19T10:04:59.764Z"
   },
   {
    "duration": 12,
    "start_time": "2022-12-19T10:04:59.810Z"
   },
   {
    "duration": 15,
    "start_time": "2022-12-19T10:04:59.824Z"
   },
   {
    "duration": 269,
    "start_time": "2022-12-19T10:04:59.841Z"
   },
   {
    "duration": 17,
    "start_time": "2022-12-19T10:05:00.111Z"
   },
   {
    "duration": 2,
    "start_time": "2022-12-19T10:05:00.130Z"
   },
   {
    "duration": 56,
    "start_time": "2022-12-19T10:05:00.133Z"
   },
   {
    "duration": 40,
    "start_time": "2022-12-19T10:05:00.192Z"
   },
   {
    "duration": 394,
    "start_time": "2022-12-19T10:05:06.750Z"
   },
   {
    "duration": 376,
    "start_time": "2022-12-19T10:05:07.146Z"
   },
   {
    "duration": 2874,
    "start_time": "2022-12-19T10:05:07.524Z"
   },
   {
    "duration": 5,
    "start_time": "2022-12-19T10:05:10.403Z"
   },
   {
    "duration": 7394,
    "start_time": "2022-12-19T10:05:10.409Z"
   },
   {
    "duration": 1773,
    "start_time": "2022-12-19T10:05:17.806Z"
   },
   {
    "duration": 8,
    "start_time": "2022-12-19T10:05:19.581Z"
   },
   {
    "duration": 42900,
    "start_time": "2022-12-19T10:05:19.593Z"
   },
   {
    "duration": 91,
    "start_time": "2022-12-19T10:06:02.495Z"
   },
   {
    "duration": 42,
    "start_time": "2022-12-19T10:06:02.588Z"
   },
   {
    "duration": 50,
    "start_time": "2022-12-19T10:06:02.632Z"
   },
   {
    "duration": 14,
    "start_time": "2022-12-19T10:06:02.685Z"
   },
   {
    "duration": 3,
    "start_time": "2022-12-19T10:06:10.533Z"
   },
   {
    "duration": 2396,
    "start_time": "2022-12-19T10:06:17.540Z"
   },
   {
    "duration": 256,
    "start_time": "2022-12-19T10:06:20.903Z"
   },
   {
    "duration": 2143,
    "start_time": "2022-12-19T10:06:21.652Z"
   },
   {
    "duration": 6,
    "start_time": "2022-12-19T10:06:31.573Z"
   },
   {
    "duration": 48,
    "start_time": "2022-12-19T10:34:35.218Z"
   },
   {
    "duration": 1919,
    "start_time": "2022-12-19T10:34:56.288Z"
   },
   {
    "duration": 314,
    "start_time": "2022-12-19T10:34:58.209Z"
   },
   {
    "duration": 4144,
    "start_time": "2022-12-19T10:34:58.527Z"
   },
   {
    "duration": 40,
    "start_time": "2022-12-19T10:35:02.673Z"
   },
   {
    "duration": 21,
    "start_time": "2022-12-19T10:35:02.715Z"
   },
   {
    "duration": 21,
    "start_time": "2022-12-19T10:35:02.737Z"
   },
   {
    "duration": 283,
    "start_time": "2022-12-19T10:35:02.760Z"
   },
   {
    "duration": 19,
    "start_time": "2022-12-19T10:35:03.045Z"
   },
   {
    "duration": 45,
    "start_time": "2022-12-19T10:35:03.065Z"
   },
   {
    "duration": 98,
    "start_time": "2022-12-19T10:35:03.112Z"
   },
   {
    "duration": 86,
    "start_time": "2022-12-19T10:35:03.213Z"
   },
   {
    "duration": 416,
    "start_time": "2022-12-19T10:35:03.302Z"
   },
   {
    "duration": 418,
    "start_time": "2022-12-19T10:35:03.720Z"
   },
   {
    "duration": 2498,
    "start_time": "2022-12-19T10:35:04.142Z"
   },
   {
    "duration": 7,
    "start_time": "2022-12-19T10:35:12.273Z"
   },
   {
    "duration": 7449,
    "start_time": "2022-12-19T10:35:12.752Z"
   },
   {
    "duration": 1767,
    "start_time": "2022-12-19T10:35:20.203Z"
   },
   {
    "duration": 4,
    "start_time": "2022-12-19T10:35:28.640Z"
   },
   {
    "duration": 169,
    "start_time": "2022-12-19T10:44:06.794Z"
   },
   {
    "duration": 5,
    "start_time": "2022-12-19T10:44:11.052Z"
   },
   {
    "duration": 50,
    "start_time": "2022-12-19T10:58:28.405Z"
   },
   {
    "duration": 2057,
    "start_time": "2022-12-19T10:58:38.028Z"
   },
   {
    "duration": 453,
    "start_time": "2022-12-19T10:58:40.088Z"
   },
   {
    "duration": 3680,
    "start_time": "2022-12-19T10:58:40.543Z"
   },
   {
    "duration": 35,
    "start_time": "2022-12-19T10:58:44.225Z"
   },
   {
    "duration": 9,
    "start_time": "2022-12-19T10:58:44.263Z"
   },
   {
    "duration": 14,
    "start_time": "2022-12-19T10:58:44.274Z"
   },
   {
    "duration": 246,
    "start_time": "2022-12-19T10:58:44.290Z"
   },
   {
    "duration": 20,
    "start_time": "2022-12-19T10:58:44.538Z"
   },
   {
    "duration": 3,
    "start_time": "2022-12-19T10:58:44.560Z"
   },
   {
    "duration": 38,
    "start_time": "2022-12-19T10:58:44.564Z"
   },
   {
    "duration": 48,
    "start_time": "2022-12-19T10:58:44.603Z"
   },
   {
    "duration": 3,
    "start_time": "2022-12-19T10:58:44.653Z"
   },
   {
    "duration": 497,
    "start_time": "2022-12-19T10:58:44.657Z"
   },
   {
    "duration": 7,
    "start_time": "2022-12-19T10:58:45.158Z"
   },
   {
    "duration": 524,
    "start_time": "2022-12-19T10:58:45.166Z"
   },
   {
    "duration": 4477,
    "start_time": "2022-12-19T10:58:45.691Z"
   },
   {
    "duration": 5,
    "start_time": "2022-12-19T10:58:50.171Z"
   },
   {
    "duration": 9,
    "start_time": "2022-12-19T10:58:50.177Z"
   },
   {
    "duration": 8908,
    "start_time": "2022-12-19T10:58:50.188Z"
   },
   {
    "duration": 11,
    "start_time": "2022-12-19T10:58:59.098Z"
   },
   {
    "duration": 0,
    "start_time": "2022-12-19T10:58:59.111Z"
   },
   {
    "duration": 0,
    "start_time": "2022-12-19T10:58:59.112Z"
   },
   {
    "duration": 0,
    "start_time": "2022-12-19T10:58:59.113Z"
   },
   {
    "duration": 0,
    "start_time": "2022-12-19T10:58:59.115Z"
   },
   {
    "duration": 0,
    "start_time": "2022-12-19T10:58:59.116Z"
   },
   {
    "duration": 0,
    "start_time": "2022-12-19T10:58:59.124Z"
   },
   {
    "duration": 0,
    "start_time": "2022-12-19T10:58:59.126Z"
   },
   {
    "duration": 0,
    "start_time": "2022-12-19T10:58:59.127Z"
   },
   {
    "duration": 0,
    "start_time": "2022-12-19T10:58:59.128Z"
   },
   {
    "duration": 1765,
    "start_time": "2022-12-19T11:00:13.100Z"
   },
   {
    "duration": 204,
    "start_time": "2022-12-19T11:00:20.396Z"
   },
   {
    "duration": 812,
    "start_time": "2022-12-19T11:00:20.825Z"
   },
   {
    "duration": 32,
    "start_time": "2022-12-19T11:00:22.337Z"
   },
   {
    "duration": 10,
    "start_time": "2022-12-19T11:00:23.320Z"
   },
   {
    "duration": 12,
    "start_time": "2022-12-19T11:00:24.393Z"
   },
   {
    "duration": 233,
    "start_time": "2022-12-19T11:00:25.008Z"
   },
   {
    "duration": 17,
    "start_time": "2022-12-19T11:00:30.753Z"
   },
   {
    "duration": 2,
    "start_time": "2022-12-19T11:00:31.594Z"
   },
   {
    "duration": 29,
    "start_time": "2022-12-19T11:00:31.809Z"
   },
   {
    "duration": 28,
    "start_time": "2022-12-19T11:00:32.292Z"
   },
   {
    "duration": 760,
    "start_time": "2022-12-19T11:00:46.353Z"
   },
   {
    "duration": 385,
    "start_time": "2022-12-19T11:00:47.115Z"
   },
   {
    "duration": 2398,
    "start_time": "2022-12-19T11:00:47.502Z"
   },
   {
    "duration": 5,
    "start_time": "2022-12-19T11:00:51.597Z"
   },
   {
    "duration": 7665,
    "start_time": "2022-12-19T11:00:55.309Z"
   },
   {
    "duration": 1760,
    "start_time": "2022-12-19T11:01:05.104Z"
   },
   {
    "duration": 3,
    "start_time": "2022-12-19T11:01:14.497Z"
   },
   {
    "duration": 1665,
    "start_time": "2022-12-19T11:01:14.961Z"
   },
   {
    "duration": 9,
    "start_time": "2022-12-19T11:01:19.625Z"
   },
   {
    "duration": 39,
    "start_time": "2022-12-19T11:01:20.063Z"
   },
   {
    "duration": 11,
    "start_time": "2022-12-19T11:01:21.135Z"
   },
   {
    "duration": 11,
    "start_time": "2022-12-19T11:01:23.248Z"
   },
   {
    "duration": 3,
    "start_time": "2022-12-19T11:01:30.200Z"
   },
   {
    "duration": 5159,
    "start_time": "2022-12-19T11:01:32.016Z"
   },
   {
    "duration": 163,
    "start_time": "2022-12-19T11:01:40.599Z"
   },
   {
    "duration": 1046,
    "start_time": "2022-12-19T11:01:42.495Z"
   },
   {
    "duration": 2,
    "start_time": "2022-12-19T11:03:32.928Z"
   },
   {
    "duration": 25497,
    "start_time": "2022-12-19T11:03:33.718Z"
   },
   {
    "duration": 713,
    "start_time": "2022-12-19T11:04:52.934Z"
   },
   {
    "duration": 4713,
    "start_time": "2022-12-19T11:04:56.382Z"
   },
   {
    "duration": 2,
    "start_time": "2022-12-19T11:05:16.270Z"
   },
   {
    "duration": 10641,
    "start_time": "2022-12-19T11:05:16.710Z"
   },
   {
    "duration": 291,
    "start_time": "2022-12-19T11:05:29.070Z"
   },
   {
    "duration": 1863,
    "start_time": "2022-12-19T11:05:31.398Z"
   },
   {
    "duration": 3,
    "start_time": "2022-12-19T11:05:38.222Z"
   },
   {
    "duration": 5297,
    "start_time": "2022-12-19T11:05:38.510Z"
   },
   {
    "duration": 158,
    "start_time": "2022-12-19T11:05:43.809Z"
   },
   {
    "duration": 994,
    "start_time": "2022-12-19T11:05:43.968Z"
   },
   {
    "duration": 3,
    "start_time": "2022-12-19T11:05:52.534Z"
   },
   {
    "duration": 8569,
    "start_time": "2022-12-19T11:05:52.798Z"
   },
   {
    "duration": 182,
    "start_time": "2022-12-19T11:06:01.369Z"
   },
   {
    "duration": 1147,
    "start_time": "2022-12-19T11:06:01.553Z"
   },
   {
    "duration": 3,
    "start_time": "2022-12-19T11:06:10.098Z"
   },
   {
    "duration": 14383,
    "start_time": "2022-12-19T11:06:10.317Z"
   },
   {
    "duration": 200,
    "start_time": "2022-12-19T11:06:24.702Z"
   },
   {
    "duration": 1342,
    "start_time": "2022-12-19T11:06:24.905Z"
   },
   {
    "duration": 3,
    "start_time": "2022-12-19T11:06:33.821Z"
   },
   {
    "duration": 37647,
    "start_time": "2022-12-19T11:06:34.079Z"
   },
   {
    "duration": 331,
    "start_time": "2022-12-19T11:07:11.728Z"
   },
   {
    "duration": 2139,
    "start_time": "2022-12-19T11:07:12.061Z"
   },
   {
    "duration": 2072,
    "start_time": "2022-12-19T11:09:15.732Z"
   },
   {
    "duration": 3,
    "start_time": "2022-12-19T11:09:37.252Z"
   },
   {
    "duration": 55175,
    "start_time": "2022-12-19T11:09:37.603Z"
   },
   {
    "duration": 351,
    "start_time": "2022-12-19T11:10:32.780Z"
   },
   {
    "duration": 2436,
    "start_time": "2022-12-19T11:10:33.133Z"
   },
   {
    "duration": 4,
    "start_time": "2022-12-19T11:10:52.195Z"
   },
   {
    "duration": 92909,
    "start_time": "2022-12-19T11:10:52.467Z"
   },
   {
    "duration": 443,
    "start_time": "2022-12-19T11:12:25.378Z"
   },
   {
    "duration": 3167,
    "start_time": "2022-12-19T11:12:25.823Z"
   },
   {
    "duration": 4,
    "start_time": "2022-12-19T11:12:48.946Z"
   },
   {
    "duration": 688046,
    "start_time": "2022-12-19T11:12:49.242Z"
   },
   {
    "duration": 2467,
    "start_time": "2022-12-19T11:24:17.290Z"
   },
   {
    "duration": 18157,
    "start_time": "2022-12-19T11:24:19.759Z"
   },
   {
    "duration": 4,
    "start_time": "2022-12-19T11:29:43.400Z"
   },
   {
    "duration": 4,
    "start_time": "2022-12-19T11:29:50.649Z"
   },
   {
    "duration": 11,
    "start_time": "2022-12-19T11:33:53.374Z"
   },
   {
    "duration": 207,
    "start_time": "2022-12-19T11:33:53.387Z"
   },
   {
    "duration": 4334,
    "start_time": "2022-12-19T11:33:53.597Z"
   },
   {
    "duration": 33,
    "start_time": "2022-12-19T11:33:57.933Z"
   },
   {
    "duration": 9,
    "start_time": "2022-12-19T11:33:57.968Z"
   },
   {
    "duration": 15,
    "start_time": "2022-12-19T11:33:57.978Z"
   },
   {
    "duration": 249,
    "start_time": "2022-12-19T11:33:57.995Z"
   },
   {
    "duration": 20,
    "start_time": "2022-12-19T11:33:58.246Z"
   },
   {
    "duration": 4,
    "start_time": "2022-12-19T11:33:58.267Z"
   },
   {
    "duration": 37,
    "start_time": "2022-12-19T11:33:58.272Z"
   },
   {
    "duration": 47,
    "start_time": "2022-12-19T11:33:58.311Z"
   },
   {
    "duration": 458,
    "start_time": "2022-12-19T11:34:08.317Z"
   },
   {
    "duration": 472,
    "start_time": "2022-12-19T11:34:08.778Z"
   },
   {
    "duration": 2515,
    "start_time": "2022-12-19T11:34:09.252Z"
   },
   {
    "duration": 4,
    "start_time": "2022-12-19T11:34:11.769Z"
   },
   {
    "duration": 7766,
    "start_time": "2022-12-19T11:34:12.926Z"
   },
   {
    "duration": 1781,
    "start_time": "2022-12-19T11:34:20.696Z"
   },
   {
    "duration": 140,
    "start_time": "2022-12-19T11:34:30.669Z"
   },
   {
    "duration": 4,
    "start_time": "2022-12-19T11:34:37.325Z"
   },
   {
    "duration": 82,
    "start_time": "2022-12-19T11:34:56.390Z"
   },
   {
    "duration": 272404,
    "start_time": "2022-12-19T11:35:05.549Z"
   },
   {
    "duration": 11,
    "start_time": "2022-12-19T11:52:43.399Z"
   },
   {
    "duration": 2789,
    "start_time": "2022-12-19T11:53:41.782Z"
   },
   {
    "duration": 326,
    "start_time": "2022-12-19T11:54:12.838Z"
   },
   {
    "duration": 1945,
    "start_time": "2022-12-19T17:38:35.411Z"
   },
   {
    "duration": 679,
    "start_time": "2022-12-19T17:38:37.358Z"
   },
   {
    "duration": 3465,
    "start_time": "2022-12-19T17:38:38.039Z"
   },
   {
    "duration": 33,
    "start_time": "2022-12-19T17:38:41.506Z"
   },
   {
    "duration": 10,
    "start_time": "2022-12-19T17:38:41.544Z"
   },
   {
    "duration": 12,
    "start_time": "2022-12-19T17:38:41.557Z"
   },
   {
    "duration": 226,
    "start_time": "2022-12-19T17:38:41.571Z"
   },
   {
    "duration": 21,
    "start_time": "2022-12-19T17:38:41.799Z"
   },
   {
    "duration": 5,
    "start_time": "2022-12-19T17:38:41.822Z"
   },
   {
    "duration": 37,
    "start_time": "2022-12-19T17:38:41.831Z"
   },
   {
    "duration": 26,
    "start_time": "2022-12-19T17:38:41.870Z"
   },
   {
    "duration": 366,
    "start_time": "2022-12-19T17:40:35.209Z"
   },
   {
    "duration": 373,
    "start_time": "2022-12-19T17:40:35.940Z"
   },
   {
    "duration": 2365,
    "start_time": "2022-12-19T17:40:36.344Z"
   },
   {
    "duration": 5,
    "start_time": "2022-12-19T17:42:09.837Z"
   },
   {
    "duration": 6630,
    "start_time": "2022-12-19T17:42:12.513Z"
   },
   {
    "duration": 1576,
    "start_time": "2022-12-19T17:42:19.146Z"
   },
   {
    "duration": 6548,
    "start_time": "2022-12-19T17:42:42.499Z"
   },
   {
    "duration": 1586,
    "start_time": "2022-12-19T17:42:49.049Z"
   },
   {
    "duration": 3,
    "start_time": "2022-12-19T17:43:04.329Z"
   },
   {
    "duration": 1861,
    "start_time": "2022-12-19T17:43:05.604Z"
   },
   {
    "duration": 10,
    "start_time": "2022-12-19T17:43:10.154Z"
   },
   {
    "duration": 35,
    "start_time": "2022-12-19T17:43:10.575Z"
   },
   {
    "duration": 9,
    "start_time": "2022-12-19T17:43:13.350Z"
   },
   {
    "duration": 9,
    "start_time": "2022-12-19T17:43:14.543Z"
   },
   {
    "duration": 6587,
    "start_time": "2022-12-19T17:43:29.926Z"
   },
   {
    "duration": 1522,
    "start_time": "2022-12-19T17:43:36.515Z"
   },
   {
    "duration": 2,
    "start_time": "2022-12-19T17:43:44.951Z"
   },
   {
    "duration": 16992,
    "start_time": "2022-12-19T17:43:45.232Z"
   },
   {
    "duration": 11,
    "start_time": "2022-12-19T17:44:26.230Z"
   },
   {
    "duration": 38,
    "start_time": "2022-12-19T17:44:26.503Z"
   },
   {
    "duration": 10,
    "start_time": "2022-12-19T17:44:27.006Z"
   },
   {
    "duration": 10,
    "start_time": "2022-12-19T17:44:27.602Z"
   },
   {
    "duration": 3,
    "start_time": "2022-12-19T17:46:04.390Z"
   },
   {
    "duration": 3332,
    "start_time": "2022-12-19T19:27:17.549Z"
   },
   {
    "duration": 25203,
    "start_time": "2022-12-19T19:27:20.883Z"
   },
   {
    "duration": 114,
    "start_time": "2022-12-19T19:29:59.553Z"
   },
   {
    "duration": 2,
    "start_time": "2022-12-19T19:30:11.281Z"
   },
   {
    "duration": 10,
    "start_time": "2022-12-19T19:30:58.097Z"
   },
   {
    "duration": 4850,
    "start_time": "2022-12-19T19:31:06.309Z"
   },
   {
    "duration": 10,
    "start_time": "2022-12-19T19:32:08.591Z"
   },
   {
    "duration": 251,
    "start_time": "2022-12-19T19:32:24.916Z"
   },
   {
    "duration": 2857,
    "start_time": "2022-12-19T19:32:27.664Z"
   },
   {
    "duration": 714,
    "start_time": "2022-12-19T19:32:40.425Z"
   },
   {
    "duration": 302,
    "start_time": "2022-12-19T19:32:41.141Z"
   },
   {
    "duration": 3110,
    "start_time": "2022-12-19T19:32:41.444Z"
   },
   {
    "duration": 27,
    "start_time": "2022-12-19T19:32:44.555Z"
   },
   {
    "duration": 8,
    "start_time": "2022-12-19T19:32:44.583Z"
   },
   {
    "duration": 13,
    "start_time": "2022-12-19T19:32:44.592Z"
   },
   {
    "duration": 203,
    "start_time": "2022-12-19T19:32:44.607Z"
   },
   {
    "duration": 13,
    "start_time": "2022-12-19T19:32:44.813Z"
   },
   {
    "duration": 9,
    "start_time": "2022-12-19T19:32:44.828Z"
   },
   {
    "duration": 34,
    "start_time": "2022-12-19T19:32:44.839Z"
   },
   {
    "duration": 23,
    "start_time": "2022-12-19T19:32:44.875Z"
   },
   {
    "duration": 279,
    "start_time": "2022-12-19T19:32:51.544Z"
   },
   {
    "duration": 284,
    "start_time": "2022-12-19T19:32:51.825Z"
   },
   {
    "duration": 1967,
    "start_time": "2022-12-19T19:32:52.111Z"
   },
   {
    "duration": 5,
    "start_time": "2022-12-19T19:32:59.186Z"
   },
   {
    "duration": 6317,
    "start_time": "2022-12-19T19:33:02.795Z"
   },
   {
    "duration": 1519,
    "start_time": "2022-12-19T19:33:09.114Z"
   },
   {
    "duration": 3319,
    "start_time": "2022-12-19T19:33:37.735Z"
   },
   {
    "duration": 2,
    "start_time": "2022-12-19T19:34:03.234Z"
   },
   {
    "duration": 1622,
    "start_time": "2022-12-19T19:34:46.887Z"
   },
   {
    "duration": 342,
    "start_time": "2022-12-19T19:34:48.510Z"
   },
   {
    "duration": 3158,
    "start_time": "2022-12-19T19:34:48.853Z"
   },
   {
    "duration": 30,
    "start_time": "2022-12-19T19:34:52.013Z"
   },
   {
    "duration": 7,
    "start_time": "2022-12-19T19:34:52.045Z"
   },
   {
    "duration": 14,
    "start_time": "2022-12-19T19:34:52.053Z"
   },
   {
    "duration": 222,
    "start_time": "2022-12-19T19:34:52.068Z"
   },
   {
    "duration": 24,
    "start_time": "2022-12-19T19:34:52.292Z"
   },
   {
    "duration": 3,
    "start_time": "2022-12-19T19:34:52.317Z"
   },
   {
    "duration": 34,
    "start_time": "2022-12-19T19:34:52.322Z"
   },
   {
    "duration": 27,
    "start_time": "2022-12-19T19:34:52.358Z"
   },
   {
    "duration": 415,
    "start_time": "2022-12-19T19:35:03.024Z"
   },
   {
    "duration": 299,
    "start_time": "2022-12-19T19:35:03.441Z"
   },
   {
    "duration": 1987,
    "start_time": "2022-12-19T19:35:03.742Z"
   },
   {
    "duration": 4,
    "start_time": "2022-12-19T19:35:09.193Z"
   },
   {
    "duration": 6221,
    "start_time": "2022-12-19T19:35:10.836Z"
   },
   {
    "duration": 1472,
    "start_time": "2022-12-19T19:35:17.059Z"
   },
   {
    "duration": 3,
    "start_time": "2022-12-19T19:35:28.595Z"
   },
   {
    "duration": 43422,
    "start_time": "2022-12-19T19:35:33.716Z"
   },
   {
    "duration": 509,
    "start_time": "2022-12-19T19:40:18.667Z"
   },
   {
    "duration": 5,
    "start_time": "2022-12-19T19:40:52.322Z"
   },
   {
    "duration": 4,
    "start_time": "2022-12-19T19:42:05.085Z"
   },
   {
    "duration": 3,
    "start_time": "2022-12-19T19:42:36.193Z"
   },
   {
    "duration": 2,
    "start_time": "2022-12-19T19:42:40.740Z"
   },
   {
    "duration": 79,
    "start_time": "2022-12-19T19:42:44.921Z"
   },
   {
    "duration": 3,
    "start_time": "2022-12-19T19:43:07.236Z"
   },
   {
    "duration": 4,
    "start_time": "2022-12-19T19:43:08.239Z"
   },
   {
    "duration": 44206,
    "start_time": "2022-12-19T19:43:08.833Z"
   },
   {
    "duration": 367,
    "start_time": "2022-12-19T19:43:53.040Z"
   },
   {
    "duration": 3,
    "start_time": "2022-12-19T19:49:03.905Z"
   },
   {
    "duration": 4,
    "start_time": "2022-12-19T19:49:04.855Z"
   },
   {
    "duration": 66905,
    "start_time": "2022-12-19T19:49:05.785Z"
   },
   {
    "duration": 467,
    "start_time": "2022-12-19T19:50:12.696Z"
   },
   {
    "duration": 56,
    "start_time": "2022-12-19T20:03:13.747Z"
   },
   {
    "duration": 10,
    "start_time": "2022-12-19T20:03:43.900Z"
   },
   {
    "duration": 3,
    "start_time": "2022-12-19T20:03:50.610Z"
   },
   {
    "duration": 5,
    "start_time": "2022-12-19T20:04:11.276Z"
   },
   {
    "duration": 274,
    "start_time": "2022-12-19T20:04:19.676Z"
   },
   {
    "duration": 1585,
    "start_time": "2022-12-19T20:04:36.898Z"
   },
   {
    "duration": 530,
    "start_time": "2022-12-19T20:04:38.485Z"
   },
   {
    "duration": 1365,
    "start_time": "2022-12-19T20:04:39.016Z"
   },
   {
    "duration": 32,
    "start_time": "2022-12-19T20:04:40.383Z"
   },
   {
    "duration": 8,
    "start_time": "2022-12-19T20:04:40.418Z"
   },
   {
    "duration": 11,
    "start_time": "2022-12-19T20:04:40.427Z"
   },
   {
    "duration": 220,
    "start_time": "2022-12-19T20:04:40.439Z"
   },
   {
    "duration": 14,
    "start_time": "2022-12-19T20:04:40.660Z"
   },
   {
    "duration": 2,
    "start_time": "2022-12-19T20:04:40.676Z"
   },
   {
    "duration": 46,
    "start_time": "2022-12-19T20:04:40.679Z"
   },
   {
    "duration": 26,
    "start_time": "2022-12-19T20:04:40.726Z"
   },
   {
    "duration": 372,
    "start_time": "2022-12-19T20:04:47.346Z"
   },
   {
    "duration": 386,
    "start_time": "2022-12-19T20:04:47.736Z"
   },
   {
    "duration": 2157,
    "start_time": "2022-12-19T20:04:48.124Z"
   },
   {
    "duration": 4,
    "start_time": "2022-12-19T20:04:51.337Z"
   },
   {
    "duration": 6239,
    "start_time": "2022-12-19T20:04:51.945Z"
   },
   {
    "duration": 2026,
    "start_time": "2022-12-19T20:04:58.186Z"
   },
   {
    "duration": 3,
    "start_time": "2022-12-19T20:05:17.417Z"
   },
   {
    "duration": 295653,
    "start_time": "2022-12-19T20:05:18.265Z"
   },
   {
    "duration": 4143,
    "start_time": "2022-12-19T20:10:13.920Z"
   },
   {
    "duration": 557,
    "start_time": "2022-12-19T20:10:18.064Z"
   },
   {
    "duration": 177,
    "start_time": "2022-12-19T21:08:43.691Z"
   },
   {
    "duration": 1891,
    "start_time": "2022-12-20T10:20:18.827Z"
   },
   {
    "duration": 756,
    "start_time": "2022-12-20T10:20:22.761Z"
   },
   {
    "duration": 2590,
    "start_time": "2022-12-20T10:20:23.520Z"
   },
   {
    "duration": 35,
    "start_time": "2022-12-20T10:20:26.112Z"
   },
   {
    "duration": 9,
    "start_time": "2022-12-20T10:20:26.149Z"
   },
   {
    "duration": 16,
    "start_time": "2022-12-20T10:20:26.159Z"
   },
   {
    "duration": 251,
    "start_time": "2022-12-20T10:20:26.177Z"
   },
   {
    "duration": 16,
    "start_time": "2022-12-20T10:20:28.672Z"
   },
   {
    "duration": 144,
    "start_time": "2022-12-20T10:20:29.730Z"
   },
   {
    "duration": 25,
    "start_time": "2022-12-20T10:23:33.733Z"
   },
   {
    "duration": 131,
    "start_time": "2022-12-20T10:24:07.255Z"
   },
   {
    "duration": 1053,
    "start_time": "2022-12-20T10:24:28.323Z"
   },
   {
    "duration": 14,
    "start_time": "2022-12-20T10:25:27.334Z"
   },
   {
    "duration": 5,
    "start_time": "2022-12-20T10:25:50.957Z"
   },
   {
    "duration": 5,
    "start_time": "2022-12-20T10:26:02.582Z"
   },
   {
    "duration": 1633,
    "start_time": "2022-12-20T10:27:22.095Z"
   },
   {
    "duration": 226,
    "start_time": "2022-12-20T10:27:23.730Z"
   },
   {
    "duration": 796,
    "start_time": "2022-12-20T10:27:23.957Z"
   },
   {
    "duration": 25,
    "start_time": "2022-12-20T10:27:24.754Z"
   },
   {
    "duration": 8,
    "start_time": "2022-12-20T10:27:24.781Z"
   },
   {
    "duration": 26,
    "start_time": "2022-12-20T10:27:24.791Z"
   },
   {
    "duration": 233,
    "start_time": "2022-12-20T10:27:24.819Z"
   },
   {
    "duration": 15,
    "start_time": "2022-12-20T10:27:25.054Z"
   },
   {
    "duration": 1593,
    "start_time": "2022-12-20T10:43:09.246Z"
   },
   {
    "duration": 185,
    "start_time": "2022-12-20T10:43:10.841Z"
   },
   {
    "duration": 767,
    "start_time": "2022-12-20T10:43:11.030Z"
   },
   {
    "duration": 28,
    "start_time": "2022-12-20T10:43:11.800Z"
   },
   {
    "duration": 8,
    "start_time": "2022-12-20T10:43:11.830Z"
   },
   {
    "duration": 16,
    "start_time": "2022-12-20T10:43:11.840Z"
   },
   {
    "duration": 267,
    "start_time": "2022-12-20T10:43:11.857Z"
   },
   {
    "duration": 17,
    "start_time": "2022-12-20T10:43:12.125Z"
   },
   {
    "duration": 28,
    "start_time": "2022-12-20T10:43:33.315Z"
   },
   {
    "duration": 147,
    "start_time": "2022-12-20T10:43:56.443Z"
   },
   {
    "duration": 138,
    "start_time": "2022-12-20T10:44:45.667Z"
   },
   {
    "duration": 148,
    "start_time": "2022-12-20T10:45:24.859Z"
   },
   {
    "duration": 178,
    "start_time": "2022-12-20T10:45:54.442Z"
   },
   {
    "duration": 166,
    "start_time": "2022-12-20T10:46:06.932Z"
   },
   {
    "duration": 149,
    "start_time": "2022-12-20T10:46:34.066Z"
   },
   {
    "duration": 168,
    "start_time": "2022-12-20T11:08:00.734Z"
   },
   {
    "duration": 30,
    "start_time": "2022-12-20T11:08:50.251Z"
   },
   {
    "duration": 156,
    "start_time": "2022-12-20T11:09:28.739Z"
   },
   {
    "duration": 157,
    "start_time": "2022-12-20T11:09:35.636Z"
   },
   {
    "duration": 274,
    "start_time": "2022-12-20T11:09:47.619Z"
   },
   {
    "duration": 161,
    "start_time": "2022-12-20T11:09:51.787Z"
   },
   {
    "duration": 153,
    "start_time": "2022-12-20T11:10:03.354Z"
   },
   {
    "duration": 251,
    "start_time": "2022-12-20T11:10:07.987Z"
   },
   {
    "duration": 157,
    "start_time": "2022-12-20T11:10:32.284Z"
   },
   {
    "duration": 3,
    "start_time": "2022-12-20T11:47:42.938Z"
   },
   {
    "duration": 1559,
    "start_time": "2022-12-20T12:17:32.969Z"
   },
   {
    "duration": 1741,
    "start_time": "2022-12-20T12:17:34.530Z"
   },
   {
    "duration": 823,
    "start_time": "2022-12-20T12:17:36.273Z"
   },
   {
    "duration": 26,
    "start_time": "2022-12-20T12:17:37.098Z"
   },
   {
    "duration": 9,
    "start_time": "2022-12-20T12:17:37.126Z"
   },
   {
    "duration": 10,
    "start_time": "2022-12-20T12:17:37.137Z"
   },
   {
    "duration": 261,
    "start_time": "2022-12-20T12:17:37.149Z"
   },
   {
    "duration": 17,
    "start_time": "2022-12-20T12:17:37.412Z"
   },
   {
    "duration": 28,
    "start_time": "2022-12-20T12:17:37.431Z"
   },
   {
    "duration": 185,
    "start_time": "2022-12-20T12:17:37.460Z"
   },
   {
    "duration": 3,
    "start_time": "2022-12-20T12:17:37.646Z"
   },
   {
    "duration": 10,
    "start_time": "2022-12-20T12:17:37.650Z"
   },
   {
    "duration": 30,
    "start_time": "2022-12-20T12:17:37.662Z"
   },
   {
    "duration": 38,
    "start_time": "2022-12-20T12:17:37.694Z"
   },
   {
    "duration": 3,
    "start_time": "2022-12-20T12:17:37.734Z"
   },
   {
    "duration": 513,
    "start_time": "2022-12-20T12:17:37.739Z"
   },
   {
    "duration": 7,
    "start_time": "2022-12-20T12:17:38.254Z"
   },
   {
    "duration": 488,
    "start_time": "2022-12-20T12:17:38.263Z"
   },
   {
    "duration": 3922,
    "start_time": "2022-12-20T12:17:38.753Z"
   },
   {
    "duration": 4,
    "start_time": "2022-12-20T12:17:42.677Z"
   },
   {
    "duration": 6,
    "start_time": "2022-12-20T12:17:42.682Z"
   },
   {
    "duration": 104181,
    "start_time": "2022-12-20T12:17:42.689Z"
   },
   {
    "duration": 1883,
    "start_time": "2022-12-21T11:27:08.099Z"
   },
   {
    "duration": 593,
    "start_time": "2022-12-21T11:27:09.985Z"
   },
   {
    "duration": 2273,
    "start_time": "2022-12-21T11:27:10.580Z"
   },
   {
    "duration": 32,
    "start_time": "2022-12-21T11:27:12.855Z"
   },
   {
    "duration": 9,
    "start_time": "2022-12-21T11:27:12.889Z"
   },
   {
    "duration": 10,
    "start_time": "2022-12-21T11:27:12.899Z"
   },
   {
    "duration": 234,
    "start_time": "2022-12-21T11:27:12.911Z"
   },
   {
    "duration": 16,
    "start_time": "2022-12-21T11:27:13.146Z"
   },
   {
    "duration": 44,
    "start_time": "2022-12-21T11:27:13.164Z"
   },
   {
    "duration": 170,
    "start_time": "2022-12-21T11:27:13.211Z"
   },
   {
    "duration": 3,
    "start_time": "2022-12-21T11:27:13.383Z"
   },
   {
    "duration": 10,
    "start_time": "2022-12-21T11:27:13.387Z"
   },
   {
    "duration": 42,
    "start_time": "2022-12-21T11:27:13.399Z"
   },
   {
    "duration": 62,
    "start_time": "2022-12-21T11:27:19.553Z"
   },
   {
    "duration": 5,
    "start_time": "2022-12-21T11:28:02.944Z"
   },
   {
    "duration": 16,
    "start_time": "2022-12-21T11:28:02.951Z"
   },
   {
    "duration": 735,
    "start_time": "2022-12-21T11:28:02.969Z"
   },
   {
    "duration": 25,
    "start_time": "2022-12-21T11:28:03.706Z"
   },
   {
    "duration": 7,
    "start_time": "2022-12-21T11:28:03.734Z"
   },
   {
    "duration": 15,
    "start_time": "2022-12-21T11:28:03.743Z"
   },
   {
    "duration": 258,
    "start_time": "2022-12-21T11:28:03.760Z"
   },
   {
    "duration": 15,
    "start_time": "2022-12-21T11:28:04.020Z"
   },
   {
    "duration": 27,
    "start_time": "2022-12-21T11:28:04.036Z"
   },
   {
    "duration": 175,
    "start_time": "2022-12-21T11:28:04.065Z"
   },
   {
    "duration": 6,
    "start_time": "2022-12-21T11:28:04.242Z"
   },
   {
    "duration": 6,
    "start_time": "2022-12-21T11:28:04.249Z"
   },
   {
    "duration": 76,
    "start_time": "2022-12-21T11:28:04.256Z"
   },
   {
    "duration": 52,
    "start_time": "2022-12-21T11:28:04.335Z"
   },
   {
    "duration": 3,
    "start_time": "2022-12-21T11:28:04.396Z"
   },
   {
    "duration": 461,
    "start_time": "2022-12-21T11:28:04.401Z"
   },
   {
    "duration": 7,
    "start_time": "2022-12-21T11:28:04.864Z"
   },
   {
    "duration": 486,
    "start_time": "2022-12-21T11:28:04.872Z"
   },
   {
    "duration": 4309,
    "start_time": "2022-12-21T11:28:05.359Z"
   },
   {
    "duration": 5,
    "start_time": "2022-12-21T11:28:09.669Z"
   },
   {
    "duration": 7,
    "start_time": "2022-12-21T11:28:09.675Z"
   },
   {
    "duration": 113347,
    "start_time": "2022-12-21T11:28:09.683Z"
   },
   {
    "duration": 5,
    "start_time": "2022-12-21T11:30:03.032Z"
   },
   {
    "duration": 510,
    "start_time": "2022-12-21T11:31:24.768Z"
   },
   {
    "duration": 109062,
    "start_time": "2022-12-21T11:31:33.672Z"
   },
   {
    "duration": 403,
    "start_time": "2022-12-21T11:39:37.739Z"
   },
   {
    "duration": 908997,
    "start_time": "2022-12-21T11:39:39.499Z"
   },
   {
    "duration": 2749,
    "start_time": "2022-12-21T13:54:05.018Z"
   },
   {
    "duration": 410,
    "start_time": "2022-12-21T13:54:13.698Z"
   },
   {
    "duration": 386,
    "start_time": "2022-12-21T13:54:14.111Z"
   },
   {
    "duration": 2195,
    "start_time": "2022-12-21T13:55:48.082Z"
   },
   {
    "duration": 361,
    "start_time": "2022-12-21T13:55:50.279Z"
   },
   {
    "duration": 2428,
    "start_time": "2022-12-21T13:55:50.642Z"
   },
   {
    "duration": 42,
    "start_time": "2022-12-21T13:55:53.075Z"
   },
   {
    "duration": 11,
    "start_time": "2022-12-21T13:55:53.119Z"
   },
   {
    "duration": 21,
    "start_time": "2022-12-21T13:55:53.132Z"
   },
   {
    "duration": 300,
    "start_time": "2022-12-21T13:55:53.155Z"
   },
   {
    "duration": 16,
    "start_time": "2022-12-21T13:55:53.457Z"
   },
   {
    "duration": 41,
    "start_time": "2022-12-21T13:55:53.474Z"
   },
   {
    "duration": 201,
    "start_time": "2022-12-21T13:55:53.517Z"
   },
   {
    "duration": 376,
    "start_time": "2022-12-21T13:56:31.322Z"
   },
   {
    "duration": 353,
    "start_time": "2022-12-21T13:56:33.488Z"
   },
   {
    "duration": 2375,
    "start_time": "2022-12-21T13:56:35.012Z"
   },
   {
    "duration": 5,
    "start_time": "2022-12-21T13:56:43.217Z"
   },
   {
    "duration": 8097,
    "start_time": "2022-12-21T13:56:47.633Z"
   },
   {
    "duration": 1957,
    "start_time": "2022-12-21T13:56:57.184Z"
   },
   {
    "duration": 6,
    "start_time": "2022-12-21T13:57:11.680Z"
   },
   {
    "duration": 252,
    "start_time": "2022-12-21T13:57:12.073Z"
   },
   {
    "duration": 4,
    "start_time": "2022-12-21T13:57:23.313Z"
   },
   {
    "duration": 4,
    "start_time": "2022-12-21T13:57:24.057Z"
   },
   {
    "duration": 106,
    "start_time": "2022-12-21T13:57:24.418Z"
   },
   {
    "duration": 61,
    "start_time": "2022-12-21T13:57:25.225Z"
   },
   {
    "duration": 14788,
    "start_time": "2022-12-21T13:57:30.433Z"
   },
   {
    "duration": 10,
    "start_time": "2022-12-21T13:58:05.681Z"
   },
   {
    "duration": 37,
    "start_time": "2022-12-21T13:58:06.313Z"
   },
   {
    "duration": 13,
    "start_time": "2022-12-21T13:58:08.965Z"
   },
   {
    "duration": 13,
    "start_time": "2022-12-21T13:58:11.168Z"
   },
   {
    "duration": 2152,
    "start_time": "2022-12-21T13:59:05.137Z"
   },
   {
    "duration": 277,
    "start_time": "2022-12-21T13:59:07.292Z"
   },
   {
    "duration": 954,
    "start_time": "2022-12-21T13:59:07.571Z"
   },
   {
    "duration": 40,
    "start_time": "2022-12-21T13:59:08.527Z"
   },
   {
    "duration": 26,
    "start_time": "2022-12-21T13:59:08.572Z"
   },
   {
    "duration": 21,
    "start_time": "2022-12-21T13:59:08.600Z"
   },
   {
    "duration": 293,
    "start_time": "2022-12-21T13:59:08.624Z"
   },
   {
    "duration": 26,
    "start_time": "2022-12-21T13:59:08.922Z"
   },
   {
    "duration": 30,
    "start_time": "2022-12-21T13:59:08.950Z"
   },
   {
    "duration": 222,
    "start_time": "2022-12-21T13:59:08.981Z"
   },
   {
    "duration": 4,
    "start_time": "2022-12-21T13:59:09.205Z"
   },
   {
    "duration": 26,
    "start_time": "2022-12-21T13:59:09.211Z"
   },
   {
    "duration": 78,
    "start_time": "2022-12-21T13:59:09.239Z"
   },
   {
    "duration": 62,
    "start_time": "2022-12-21T13:59:09.323Z"
   },
   {
    "duration": 405,
    "start_time": "2022-12-21T14:00:04.351Z"
   },
   {
    "duration": 364,
    "start_time": "2022-12-21T14:00:04.759Z"
   },
   {
    "duration": 2358,
    "start_time": "2022-12-21T14:00:05.126Z"
   },
   {
    "duration": 5,
    "start_time": "2022-12-21T14:00:11.438Z"
   },
   {
    "duration": 7445,
    "start_time": "2022-12-21T14:00:12.734Z"
   },
   {
    "duration": 1760,
    "start_time": "2022-12-21T14:00:21.166Z"
   },
   {
    "duration": 3,
    "start_time": "2022-12-21T14:00:33.118Z"
   },
   {
    "duration": 591284,
    "start_time": "2022-12-21T14:00:35.669Z"
   },
   {
    "duration": 3930,
    "start_time": "2022-12-21T14:25:01.535Z"
   },
   {
    "duration": 29314,
    "start_time": "2022-12-21T14:25:14.169Z"
   },
   {
    "duration": 6441,
    "start_time": "2022-12-21T14:27:01.740Z"
   },
   {
    "duration": 2009,
    "start_time": "2022-12-21T14:27:31.865Z"
   },
   {
    "duration": 265,
    "start_time": "2022-12-21T14:27:33.876Z"
   },
   {
    "duration": 2981,
    "start_time": "2022-12-21T14:27:34.142Z"
   },
   {
    "duration": 83,
    "start_time": "2022-12-21T14:27:37.125Z"
   },
   {
    "duration": 9,
    "start_time": "2022-12-21T14:27:37.211Z"
   },
   {
    "duration": 19,
    "start_time": "2022-12-21T14:27:37.222Z"
   },
   {
    "duration": 492,
    "start_time": "2022-12-21T14:27:37.243Z"
   },
   {
    "duration": 71,
    "start_time": "2022-12-21T14:27:37.738Z"
   },
   {
    "duration": 30,
    "start_time": "2022-12-21T14:27:37.810Z"
   },
   {
    "duration": 276,
    "start_time": "2022-12-21T14:27:37.896Z"
   },
   {
    "duration": 3,
    "start_time": "2022-12-21T14:27:38.173Z"
   },
   {
    "duration": 19,
    "start_time": "2022-12-21T14:27:38.178Z"
   },
   {
    "duration": 71,
    "start_time": "2022-12-21T14:27:38.199Z"
   },
   {
    "duration": 67,
    "start_time": "2022-12-21T14:27:38.272Z"
   },
   {
    "duration": 3,
    "start_time": "2022-12-21T14:27:38.341Z"
   },
   {
    "duration": 543,
    "start_time": "2022-12-21T14:27:38.346Z"
   },
   {
    "duration": 11,
    "start_time": "2022-12-21T14:27:38.891Z"
   },
   {
    "duration": 604,
    "start_time": "2022-12-21T14:27:38.904Z"
   },
   {
    "duration": 4460,
    "start_time": "2022-12-21T14:27:39.510Z"
   },
   {
    "duration": 470,
    "start_time": "2022-12-21T14:27:43.974Z"
   },
   {
    "duration": 471,
    "start_time": "2022-12-21T14:27:44.446Z"
   },
   {
    "duration": 63,
    "start_time": "2022-12-21T14:27:49.520Z"
   },
   {
    "duration": 0,
    "start_time": "2022-12-21T14:27:49.585Z"
   },
   {
    "duration": 2061,
    "start_time": "2022-12-21T17:38:04.646Z"
   },
   {
    "duration": 515,
    "start_time": "2022-12-21T17:38:06.709Z"
   },
   {
    "duration": 3014,
    "start_time": "2022-12-21T17:38:07.225Z"
   },
   {
    "duration": 34,
    "start_time": "2022-12-21T17:38:10.247Z"
   },
   {
    "duration": 8,
    "start_time": "2022-12-21T17:38:10.284Z"
   },
   {
    "duration": 10,
    "start_time": "2022-12-21T17:38:10.294Z"
   },
   {
    "duration": 265,
    "start_time": "2022-12-21T17:38:10.305Z"
   },
   {
    "duration": 15,
    "start_time": "2022-12-21T17:38:10.572Z"
   },
   {
    "duration": 49,
    "start_time": "2022-12-21T17:38:10.588Z"
   },
   {
    "duration": 216,
    "start_time": "2022-12-21T17:38:10.640Z"
   },
   {
    "duration": 2,
    "start_time": "2022-12-21T17:38:10.858Z"
   },
   {
    "duration": 10,
    "start_time": "2022-12-21T17:38:10.862Z"
   },
   {
    "duration": 82,
    "start_time": "2022-12-21T17:38:10.873Z"
   },
   {
    "duration": 74,
    "start_time": "2022-12-21T17:38:10.958Z"
   },
   {
    "duration": 423,
    "start_time": "2022-12-21T17:38:21.601Z"
   },
   {
    "duration": 442,
    "start_time": "2022-12-21T17:38:22.095Z"
   },
   {
    "duration": 2672,
    "start_time": "2022-12-21T17:38:23.387Z"
   },
   {
    "duration": 4,
    "start_time": "2022-12-21T17:38:32.357Z"
   },
   {
    "duration": 8403,
    "start_time": "2022-12-21T17:38:36.694Z"
   },
   {
    "duration": 2090,
    "start_time": "2022-12-21T17:39:41.437Z"
   },
   {
    "duration": 8497,
    "start_time": "2022-12-21T17:39:51.082Z"
   },
   {
    "duration": 2098,
    "start_time": "2022-12-21T17:40:42.694Z"
   },
   {
    "duration": 471,
    "start_time": "2022-12-21T17:40:44.794Z"
   },
   {
    "duration": 3288,
    "start_time": "2022-12-21T17:40:45.266Z"
   },
   {
    "duration": 35,
    "start_time": "2022-12-21T17:40:48.555Z"
   },
   {
    "duration": 9,
    "start_time": "2022-12-21T17:40:48.592Z"
   },
   {
    "duration": 24,
    "start_time": "2022-12-21T17:40:48.602Z"
   },
   {
    "duration": 264,
    "start_time": "2022-12-21T17:40:48.629Z"
   },
   {
    "duration": 27,
    "start_time": "2022-12-21T17:40:48.895Z"
   },
   {
    "duration": 37,
    "start_time": "2022-12-21T17:40:48.923Z"
   },
   {
    "duration": 206,
    "start_time": "2022-12-21T17:40:48.962Z"
   },
   {
    "duration": 3,
    "start_time": "2022-12-21T17:40:49.170Z"
   },
   {
    "duration": 7,
    "start_time": "2022-12-21T17:40:49.175Z"
   },
   {
    "duration": 95,
    "start_time": "2022-12-21T17:40:49.184Z"
   },
   {
    "duration": 71,
    "start_time": "2022-12-21T17:40:49.281Z"
   },
   {
    "duration": 3356,
    "start_time": "2022-12-21T17:41:01.238Z"
   },
   {
    "duration": 518,
    "start_time": "2022-12-21T17:41:23.640Z"
   },
   {
    "duration": 5,
    "start_time": "2022-12-21T17:41:37.106Z"
   },
   {
    "duration": 191,
    "start_time": "2022-12-21T17:41:47.189Z"
   },
   {
    "duration": 15,
    "start_time": "2022-12-21T17:42:00.218Z"
   },
   {
    "duration": 41,
    "start_time": "2022-12-21T17:42:00.245Z"
   },
   {
    "duration": 968,
    "start_time": "2022-12-21T17:42:00.288Z"
   },
   {
    "duration": 29,
    "start_time": "2022-12-21T17:42:01.258Z"
   },
   {
    "duration": 19,
    "start_time": "2022-12-21T17:42:01.289Z"
   },
   {
    "duration": 54,
    "start_time": "2022-12-21T17:42:01.310Z"
   },
   {
    "duration": 289,
    "start_time": "2022-12-21T17:42:01.366Z"
   },
   {
    "duration": 15,
    "start_time": "2022-12-21T17:42:01.657Z"
   },
   {
    "duration": 50,
    "start_time": "2022-12-21T17:42:01.673Z"
   },
   {
    "duration": 206,
    "start_time": "2022-12-21T17:42:01.725Z"
   },
   {
    "duration": 8,
    "start_time": "2022-12-21T17:42:01.939Z"
   },
   {
    "duration": 12,
    "start_time": "2022-12-21T17:42:01.951Z"
   },
   {
    "duration": 106,
    "start_time": "2022-12-21T17:42:01.964Z"
   },
   {
    "duration": 75,
    "start_time": "2022-12-21T17:42:02.074Z"
   },
   {
    "duration": 3,
    "start_time": "2022-12-21T17:42:04.996Z"
   },
   {
    "duration": 615,
    "start_time": "2022-12-21T17:42:05.975Z"
   },
   {
    "duration": 6,
    "start_time": "2022-12-21T17:42:10.704Z"
   },
   {
    "duration": 5,
    "start_time": "2022-12-21T17:42:20.870Z"
   },
   {
    "duration": 4,
    "start_time": "2022-12-21T17:42:21.728Z"
   },
   {
    "duration": 60440,
    "start_time": "2022-12-21T17:42:25.556Z"
   },
   {
    "duration": 1748,
    "start_time": "2022-12-21T17:43:38.531Z"
   },
   {
    "duration": 266,
    "start_time": "2022-12-21T17:43:40.281Z"
   },
   {
    "duration": 919,
    "start_time": "2022-12-21T17:43:40.549Z"
   },
   {
    "duration": 34,
    "start_time": "2022-12-21T17:43:41.471Z"
   },
   {
    "duration": 22,
    "start_time": "2022-12-21T17:43:41.506Z"
   },
   {
    "duration": 28,
    "start_time": "2022-12-21T17:43:41.534Z"
   },
   {
    "duration": 246,
    "start_time": "2022-12-21T17:43:41.564Z"
   },
   {
    "duration": 39,
    "start_time": "2022-12-21T17:43:41.812Z"
   },
   {
    "duration": 31,
    "start_time": "2022-12-21T17:43:41.852Z"
   },
   {
    "duration": 179,
    "start_time": "2022-12-21T17:43:41.885Z"
   },
   {
    "duration": 3,
    "start_time": "2022-12-21T17:43:42.066Z"
   },
   {
    "duration": 15,
    "start_time": "2022-12-21T17:43:42.071Z"
   },
   {
    "duration": 110,
    "start_time": "2022-12-21T17:43:42.088Z"
   },
   {
    "duration": 78,
    "start_time": "2022-12-21T17:43:42.200Z"
   },
   {
    "duration": 422,
    "start_time": "2022-12-21T17:43:59.241Z"
   },
   {
    "duration": 4,
    "start_time": "2022-12-21T17:44:03.297Z"
   },
   {
    "duration": 211,
    "start_time": "2022-12-21T17:44:14.043Z"
   },
   {
    "duration": 1874,
    "start_time": "2022-12-21T17:44:32.060Z"
   },
   {
    "duration": 169,
    "start_time": "2022-12-21T17:44:33.937Z"
   },
   {
    "duration": 944,
    "start_time": "2022-12-21T17:44:34.107Z"
   },
   {
    "duration": 31,
    "start_time": "2022-12-21T17:44:35.053Z"
   },
   {
    "duration": 8,
    "start_time": "2022-12-21T17:44:35.086Z"
   },
   {
    "duration": 31,
    "start_time": "2022-12-21T17:44:35.095Z"
   },
   {
    "duration": 303,
    "start_time": "2022-12-21T17:44:35.131Z"
   },
   {
    "duration": 16,
    "start_time": "2022-12-21T17:44:35.442Z"
   },
   {
    "duration": 28,
    "start_time": "2022-12-21T17:44:35.460Z"
   },
   {
    "duration": 202,
    "start_time": "2022-12-21T17:44:35.490Z"
   },
   {
    "duration": 2,
    "start_time": "2022-12-21T17:44:35.694Z"
   },
   {
    "duration": 7,
    "start_time": "2022-12-21T17:44:35.698Z"
   },
   {
    "duration": 94,
    "start_time": "2022-12-21T17:44:35.706Z"
   },
   {
    "duration": 72,
    "start_time": "2022-12-21T17:44:35.802Z"
   },
   {
    "duration": 3024,
    "start_time": "2022-12-21T17:44:44.477Z"
   },
   {
    "duration": 359,
    "start_time": "2022-12-21T17:44:54.403Z"
   },
   {
    "duration": 2755,
    "start_time": "2022-12-21T17:44:56.938Z"
   },
   {
    "duration": 5,
    "start_time": "2022-12-21T17:45:04.544Z"
   },
   {
    "duration": 8210,
    "start_time": "2022-12-21T17:45:08.756Z"
   },
   {
    "duration": 1016,
    "start_time": "2022-12-21T17:50:38.715Z"
   },
   {
    "duration": 3949,
    "start_time": "2022-12-21T17:50:47.551Z"
   },
   {
    "duration": 1206,
    "start_time": "2022-12-21T17:52:07.893Z"
   },
   {
    "duration": 1807,
    "start_time": "2022-12-21T17:52:28.743Z"
   },
   {
    "duration": 286,
    "start_time": "2022-12-21T17:52:30.552Z"
   },
   {
    "duration": 932,
    "start_time": "2022-12-21T17:52:30.841Z"
   },
   {
    "duration": 27,
    "start_time": "2022-12-21T17:52:31.775Z"
   },
   {
    "duration": 27,
    "start_time": "2022-12-21T17:52:31.804Z"
   },
   {
    "duration": 28,
    "start_time": "2022-12-21T17:52:31.833Z"
   },
   {
    "duration": 244,
    "start_time": "2022-12-21T17:52:31.863Z"
   },
   {
    "duration": 36,
    "start_time": "2022-12-21T17:52:32.109Z"
   },
   {
    "duration": 38,
    "start_time": "2022-12-21T17:52:32.149Z"
   },
   {
    "duration": 184,
    "start_time": "2022-12-21T17:52:32.190Z"
   },
   {
    "duration": 3,
    "start_time": "2022-12-21T17:52:32.376Z"
   },
   {
    "duration": 11,
    "start_time": "2022-12-21T17:52:32.380Z"
   },
   {
    "duration": 90,
    "start_time": "2022-12-21T17:52:32.392Z"
   },
   {
    "duration": 82,
    "start_time": "2022-12-21T17:52:32.484Z"
   },
   {
    "duration": 440,
    "start_time": "2022-12-21T17:52:48.668Z"
   },
   {
    "duration": 465,
    "start_time": "2022-12-21T17:52:49.716Z"
   },
   {
    "duration": 2685,
    "start_time": "2022-12-21T17:52:50.704Z"
   },
   {
    "duration": 5,
    "start_time": "2022-12-21T17:52:56.708Z"
   },
   {
    "duration": 8583,
    "start_time": "2022-12-21T17:52:59.776Z"
   },
   {
    "duration": 2004,
    "start_time": "2022-12-21T17:53:12.837Z"
   },
   {
    "duration": 3,
    "start_time": "2022-12-21T17:53:31.471Z"
   },
   {
    "duration": 8,
    "start_time": "2022-12-21T17:53:32.645Z"
   },
   {
    "duration": 76594,
    "start_time": "2022-12-21T17:53:34.864Z"
   },
   {
    "duration": 486,
    "start_time": "2022-12-21T17:55:42.550Z"
   },
   {
    "duration": 85,
    "start_time": "2022-12-21T17:55:47.317Z"
   },
   {
    "duration": 250,
    "start_time": "2022-12-21T17:55:53.454Z"
   },
   {
    "duration": 2,
    "start_time": "2022-12-21T17:57:09.051Z"
   },
   {
    "duration": 1852686,
    "start_time": "2022-12-21T17:57:10.345Z"
   },
   {
    "duration": 4154,
    "start_time": "2022-12-21T18:28:34.280Z"
   },
   {
    "duration": 478,
    "start_time": "2022-12-21T18:28:43.768Z"
   },
   {
    "duration": 226,
    "start_time": "2022-12-21T18:28:47.479Z"
   },
   {
    "duration": 130,
    "start_time": "2022-12-21T19:17:13.245Z"
   },
   {
    "duration": 5,
    "start_time": "2022-12-21T19:17:24.387Z"
   },
   {
    "duration": 260,
    "start_time": "2022-12-21T19:17:24.393Z"
   },
   {
    "duration": 1790,
    "start_time": "2022-12-21T19:17:32.805Z"
   },
   {
    "duration": 354,
    "start_time": "2022-12-21T19:17:34.597Z"
   },
   {
    "duration": 2450,
    "start_time": "2022-12-21T19:17:34.952Z"
   },
   {
    "duration": 34,
    "start_time": "2022-12-21T19:17:37.404Z"
   },
   {
    "duration": 11,
    "start_time": "2022-12-21T19:17:37.440Z"
   },
   {
    "duration": 18,
    "start_time": "2022-12-21T19:17:37.453Z"
   },
   {
    "duration": 227,
    "start_time": "2022-12-21T19:17:37.472Z"
   },
   {
    "duration": 30,
    "start_time": "2022-12-21T19:17:37.701Z"
   },
   {
    "duration": 28,
    "start_time": "2022-12-21T19:17:37.733Z"
   },
   {
    "duration": 178,
    "start_time": "2022-12-21T19:17:37.762Z"
   },
   {
    "duration": 3,
    "start_time": "2022-12-21T19:17:37.941Z"
   },
   {
    "duration": 7,
    "start_time": "2022-12-21T19:17:37.945Z"
   },
   {
    "duration": 74,
    "start_time": "2022-12-21T19:17:37.954Z"
   },
   {
    "duration": 60,
    "start_time": "2022-12-21T19:17:41.698Z"
   },
   {
    "duration": 1628,
    "start_time": "2022-12-21T19:25:31.603Z"
   },
   {
    "duration": 154,
    "start_time": "2022-12-21T19:25:33.233Z"
   },
   {
    "duration": 781,
    "start_time": "2022-12-21T19:25:33.389Z"
   },
   {
    "duration": 30,
    "start_time": "2022-12-21T19:25:34.171Z"
   },
   {
    "duration": 18,
    "start_time": "2022-12-21T19:25:34.203Z"
   },
   {
    "duration": 13,
    "start_time": "2022-12-21T19:25:34.223Z"
   },
   {
    "duration": 223,
    "start_time": "2022-12-21T19:25:34.238Z"
   },
   {
    "duration": 15,
    "start_time": "2022-12-21T19:25:34.462Z"
   },
   {
    "duration": 45,
    "start_time": "2022-12-21T19:25:34.479Z"
   },
   {
    "duration": 157,
    "start_time": "2022-12-21T19:25:34.526Z"
   },
   {
    "duration": 3,
    "start_time": "2022-12-21T19:25:34.685Z"
   },
   {
    "duration": 7,
    "start_time": "2022-12-21T19:25:34.689Z"
   },
   {
    "duration": 68,
    "start_time": "2022-12-21T19:25:34.697Z"
   },
   {
    "duration": 62,
    "start_time": "2022-12-21T19:25:34.767Z"
   },
   {
    "duration": 2,
    "start_time": "2022-12-21T19:25:34.831Z"
   },
   {
    "duration": 454,
    "start_time": "2022-12-21T19:25:34.835Z"
   },
   {
    "duration": 6,
    "start_time": "2022-12-21T19:25:35.291Z"
   },
   {
    "duration": 480,
    "start_time": "2022-12-21T19:25:35.299Z"
   },
   {
    "duration": 3924,
    "start_time": "2022-12-21T19:25:35.780Z"
   },
   {
    "duration": 447,
    "start_time": "2022-12-21T19:25:39.706Z"
   },
   {
    "duration": 5,
    "start_time": "2022-12-21T19:25:40.154Z"
   },
   {
    "duration": 401,
    "start_time": "2022-12-21T19:25:40.160Z"
   },
   {
    "duration": 1652,
    "start_time": "2022-12-21T19:27:05.255Z"
   },
   {
    "duration": 299,
    "start_time": "2022-12-21T19:27:06.909Z"
   },
   {
    "duration": 2253,
    "start_time": "2022-12-21T19:27:07.210Z"
   },
   {
    "duration": 26,
    "start_time": "2022-12-21T19:27:09.464Z"
   },
   {
    "duration": 8,
    "start_time": "2022-12-21T19:27:09.492Z"
   },
   {
    "duration": 10,
    "start_time": "2022-12-21T19:27:09.501Z"
   },
   {
    "duration": 221,
    "start_time": "2022-12-21T19:27:09.513Z"
   },
   {
    "duration": 14,
    "start_time": "2022-12-21T19:27:09.736Z"
   },
   {
    "duration": 27,
    "start_time": "2022-12-21T19:27:09.751Z"
   },
   {
    "duration": 171,
    "start_time": "2022-12-21T19:27:09.780Z"
   },
   {
    "duration": 2,
    "start_time": "2022-12-21T19:27:09.953Z"
   },
   {
    "duration": 6,
    "start_time": "2022-12-21T19:27:09.956Z"
   },
   {
    "duration": 71,
    "start_time": "2022-12-21T19:27:09.964Z"
   },
   {
    "duration": 58,
    "start_time": "2022-12-21T19:27:10.037Z"
   },
   {
    "duration": 328,
    "start_time": "2022-12-21T19:27:37.271Z"
   },
   {
    "duration": 5,
    "start_time": "2022-12-21T19:27:40.966Z"
   },
   {
    "duration": 351,
    "start_time": "2022-12-21T19:27:45.212Z"
   },
   {
    "duration": 2312,
    "start_time": "2022-12-21T19:27:48.245Z"
   },
   {
    "duration": 4,
    "start_time": "2022-12-21T19:28:03.130Z"
   },
   {
    "duration": 6944,
    "start_time": "2022-12-21T19:28:12.519Z"
   },
   {
    "duration": 1703,
    "start_time": "2022-12-21T19:28:27.404Z"
   },
   {
    "duration": 127,
    "start_time": "2022-12-21T19:28:42.292Z"
   },
   {
    "duration": 85,
    "start_time": "2022-12-21T19:28:55.242Z"
   },
   {
    "duration": 9,
    "start_time": "2022-12-21T19:29:26.831Z"
   },
   {
    "duration": 362,
    "start_time": "2022-12-21T19:29:42.164Z"
   },
   {
    "duration": 4,
    "start_time": "2022-12-21T19:34:14.499Z"
   },
   {
    "duration": 3,
    "start_time": "2022-12-21T19:37:07.865Z"
   },
   {
    "duration": 5,
    "start_time": "2022-12-21T19:37:10.195Z"
   },
   {
    "duration": 2,
    "start_time": "2022-12-21T19:39:31.235Z"
   },
   {
    "duration": 5,
    "start_time": "2022-12-21T19:39:46.147Z"
   },
   {
    "duration": 3,
    "start_time": "2022-12-21T19:41:28.768Z"
   },
   {
    "duration": 5,
    "start_time": "2022-12-21T19:41:32.292Z"
   },
   {
    "duration": 3,
    "start_time": "2022-12-21T19:43:35.434Z"
   },
   {
    "duration": 6,
    "start_time": "2022-12-21T19:43:36.899Z"
   },
   {
    "duration": 7,
    "start_time": "2022-12-21T19:43:49.111Z"
   },
   {
    "duration": 82,
    "start_time": "2022-12-21T19:46:29.031Z"
   },
   {
    "duration": 1587,
    "start_time": "2022-12-21T19:46:40.315Z"
   },
   {
    "duration": 229,
    "start_time": "2022-12-21T19:46:41.903Z"
   },
   {
    "duration": 807,
    "start_time": "2022-12-21T19:46:42.134Z"
   },
   {
    "duration": 27,
    "start_time": "2022-12-21T19:46:42.943Z"
   },
   {
    "duration": 8,
    "start_time": "2022-12-21T19:46:42.973Z"
   },
   {
    "duration": 11,
    "start_time": "2022-12-21T19:46:42.982Z"
   },
   {
    "duration": 238,
    "start_time": "2022-12-21T19:46:42.994Z"
   },
   {
    "duration": 15,
    "start_time": "2022-12-21T19:46:43.233Z"
   },
   {
    "duration": 29,
    "start_time": "2022-12-21T19:46:43.249Z"
   },
   {
    "duration": 186,
    "start_time": "2022-12-21T19:46:43.279Z"
   },
   {
    "duration": 3,
    "start_time": "2022-12-21T19:46:43.466Z"
   },
   {
    "duration": 7,
    "start_time": "2022-12-21T19:46:43.470Z"
   },
   {
    "duration": 71,
    "start_time": "2022-12-21T19:46:43.478Z"
   },
   {
    "duration": 54,
    "start_time": "2022-12-21T19:46:43.552Z"
   },
   {
    "duration": 9,
    "start_time": "2022-12-21T19:46:43.607Z"
   },
   {
    "duration": 461,
    "start_time": "2022-12-21T19:46:43.617Z"
   },
   {
    "duration": 7,
    "start_time": "2022-12-21T19:46:44.080Z"
   },
   {
    "duration": 464,
    "start_time": "2022-12-21T19:46:44.088Z"
   },
   {
    "duration": 3906,
    "start_time": "2022-12-21T19:46:44.554Z"
   },
   {
    "duration": 468,
    "start_time": "2022-12-21T19:46:48.462Z"
   },
   {
    "duration": 5,
    "start_time": "2022-12-21T19:46:48.931Z"
   },
   {
    "duration": 364,
    "start_time": "2022-12-21T19:46:48.937Z"
   },
   {
    "duration": 1694,
    "start_time": "2022-12-21T19:48:32.092Z"
   },
   {
    "duration": 269,
    "start_time": "2022-12-21T19:48:33.788Z"
   },
   {
    "duration": 2292,
    "start_time": "2022-12-21T19:48:34.058Z"
   },
   {
    "duration": 37,
    "start_time": "2022-12-21T19:48:36.353Z"
   },
   {
    "duration": 11,
    "start_time": "2022-12-21T19:48:36.392Z"
   },
   {
    "duration": 14,
    "start_time": "2022-12-21T19:48:36.407Z"
   },
   {
    "duration": 218,
    "start_time": "2022-12-21T19:48:36.422Z"
   },
   {
    "duration": 14,
    "start_time": "2022-12-21T19:48:36.642Z"
   },
   {
    "duration": 27,
    "start_time": "2022-12-21T19:48:36.658Z"
   },
   {
    "duration": 173,
    "start_time": "2022-12-21T19:48:36.687Z"
   },
   {
    "duration": 3,
    "start_time": "2022-12-21T19:48:36.862Z"
   },
   {
    "duration": 6,
    "start_time": "2022-12-21T19:48:36.866Z"
   },
   {
    "duration": 72,
    "start_time": "2022-12-21T19:48:36.874Z"
   },
   {
    "duration": 53,
    "start_time": "2022-12-21T19:48:36.947Z"
   },
   {
    "duration": 3,
    "start_time": "2022-12-21T19:48:37.002Z"
   },
   {
    "duration": 447,
    "start_time": "2022-12-21T19:48:37.015Z"
   },
   {
    "duration": 6,
    "start_time": "2022-12-21T19:48:37.463Z"
   },
   {
    "duration": 381,
    "start_time": "2022-12-21T19:48:37.470Z"
   },
   {
    "duration": 5,
    "start_time": "2022-12-21T19:48:37.852Z"
   },
   {
    "duration": 388,
    "start_time": "2022-12-21T19:48:37.859Z"
   },
   {
    "duration": 2256,
    "start_time": "2022-12-21T19:48:38.248Z"
   },
   {
    "duration": 4,
    "start_time": "2022-12-21T19:48:40.505Z"
   },
   {
    "duration": 7036,
    "start_time": "2022-12-21T19:48:40.515Z"
   },
   {
    "duration": 1703,
    "start_time": "2022-12-21T19:48:47.553Z"
   },
   {
    "duration": 3,
    "start_time": "2022-12-21T19:48:49.257Z"
   },
   {
    "duration": 22662,
    "start_time": "2022-12-21T19:48:49.261Z"
   },
   {
    "duration": 99,
    "start_time": "2022-12-21T19:49:11.925Z"
   },
   {
    "duration": 138,
    "start_time": "2022-12-21T19:49:12.029Z"
   },
   {
    "duration": 10,
    "start_time": "2022-12-21T19:49:12.169Z"
   },
   {
    "duration": 5,
    "start_time": "2022-12-21T19:49:12.180Z"
   },
   {
    "duration": 14,
    "start_time": "2022-12-21T19:49:12.186Z"
   },
   {
    "duration": 1610,
    "start_time": "2022-12-21T19:54:34.005Z"
   },
   {
    "duration": 345,
    "start_time": "2022-12-21T19:54:35.617Z"
   },
   {
    "duration": 2262,
    "start_time": "2022-12-21T19:54:35.964Z"
   },
   {
    "duration": 27,
    "start_time": "2022-12-21T19:54:38.228Z"
   },
   {
    "duration": 9,
    "start_time": "2022-12-21T19:54:38.256Z"
   },
   {
    "duration": 10,
    "start_time": "2022-12-21T19:54:38.266Z"
   },
   {
    "duration": 221,
    "start_time": "2022-12-21T19:54:38.278Z"
   },
   {
    "duration": 23,
    "start_time": "2022-12-21T19:54:38.500Z"
   },
   {
    "duration": 27,
    "start_time": "2022-12-21T19:54:38.524Z"
   },
   {
    "duration": 169,
    "start_time": "2022-12-21T19:54:38.553Z"
   },
   {
    "duration": 3,
    "start_time": "2022-12-21T19:54:38.723Z"
   },
   {
    "duration": 6,
    "start_time": "2022-12-21T19:54:38.727Z"
   },
   {
    "duration": 65,
    "start_time": "2022-12-21T19:54:38.735Z"
   },
   {
    "duration": 59,
    "start_time": "2022-12-21T19:54:38.815Z"
   },
   {
    "duration": 3,
    "start_time": "2022-12-21T19:54:38.876Z"
   },
   {
    "duration": 484,
    "start_time": "2022-12-21T19:54:38.881Z"
   },
   {
    "duration": 6,
    "start_time": "2022-12-21T19:54:39.368Z"
   },
   {
    "duration": 373,
    "start_time": "2022-12-21T19:54:39.375Z"
   },
   {
    "duration": 5,
    "start_time": "2022-12-21T19:54:39.750Z"
   },
   {
    "duration": 358,
    "start_time": "2022-12-21T19:54:39.756Z"
   },
   {
    "duration": 2259,
    "start_time": "2022-12-21T19:54:40.116Z"
   },
   {
    "duration": 4,
    "start_time": "2022-12-21T19:54:42.376Z"
   },
   {
    "duration": 6894,
    "start_time": "2022-12-21T19:54:42.381Z"
   },
   {
    "duration": 1659,
    "start_time": "2022-12-21T19:54:49.276Z"
   },
   {
    "duration": 3,
    "start_time": "2022-12-21T19:54:50.936Z"
   },
   {
    "duration": 20578,
    "start_time": "2022-12-21T19:54:50.940Z"
   },
   {
    "duration": 98,
    "start_time": "2022-12-21T19:55:11.520Z"
   },
   {
    "duration": 45,
    "start_time": "2022-12-21T19:55:11.622Z"
   },
   {
    "duration": 11,
    "start_time": "2022-12-21T19:55:11.668Z"
   },
   {
    "duration": 14,
    "start_time": "2022-12-21T19:55:11.680Z"
   },
   {
    "duration": 5,
    "start_time": "2022-12-21T19:55:11.695Z"
   },
   {
    "duration": 1695,
    "start_time": "2022-12-21T19:57:49.881Z"
   },
   {
    "duration": 358,
    "start_time": "2022-12-21T19:57:51.578Z"
   },
   {
    "duration": 2361,
    "start_time": "2022-12-21T19:57:51.939Z"
   },
   {
    "duration": 31,
    "start_time": "2022-12-21T19:57:54.302Z"
   },
   {
    "duration": 9,
    "start_time": "2022-12-21T19:57:54.335Z"
   },
   {
    "duration": 11,
    "start_time": "2022-12-21T19:57:54.345Z"
   },
   {
    "duration": 232,
    "start_time": "2022-12-21T19:57:54.357Z"
   },
   {
    "duration": 15,
    "start_time": "2022-12-21T19:57:54.590Z"
   },
   {
    "duration": 33,
    "start_time": "2022-12-21T19:57:54.606Z"
   },
   {
    "duration": 177,
    "start_time": "2022-12-21T19:57:54.641Z"
   },
   {
    "duration": 3,
    "start_time": "2022-12-21T19:57:54.819Z"
   },
   {
    "duration": 5,
    "start_time": "2022-12-21T19:57:54.824Z"
   },
   {
    "duration": 66,
    "start_time": "2022-12-21T19:57:54.831Z"
   },
   {
    "duration": 63,
    "start_time": "2022-12-21T19:57:54.900Z"
   },
   {
    "duration": 2,
    "start_time": "2022-12-21T19:57:54.965Z"
   },
   {
    "duration": 470,
    "start_time": "2022-12-21T19:57:54.969Z"
   },
   {
    "duration": 6,
    "start_time": "2022-12-21T19:57:55.441Z"
   },
   {
    "duration": 339,
    "start_time": "2022-12-21T19:57:55.449Z"
   },
   {
    "duration": 5,
    "start_time": "2022-12-21T19:57:55.790Z"
   },
   {
    "duration": 354,
    "start_time": "2022-12-21T19:57:55.796Z"
   },
   {
    "duration": 2318,
    "start_time": "2022-12-21T19:57:56.151Z"
   },
   {
    "duration": 5,
    "start_time": "2022-12-21T19:57:58.471Z"
   },
   {
    "duration": 6837,
    "start_time": "2022-12-21T19:57:58.477Z"
   },
   {
    "duration": 1676,
    "start_time": "2022-12-21T19:58:05.316Z"
   },
   {
    "duration": 3,
    "start_time": "2022-12-21T19:58:06.994Z"
   },
   {
    "duration": 20827,
    "start_time": "2022-12-21T19:58:06.998Z"
   },
   {
    "duration": 188,
    "start_time": "2022-12-21T19:58:27.828Z"
   },
   {
    "duration": 39,
    "start_time": "2022-12-21T19:58:28.018Z"
   },
   {
    "duration": 12,
    "start_time": "2022-12-21T19:58:28.059Z"
   },
   {
    "duration": 6,
    "start_time": "2022-12-21T19:58:28.073Z"
   },
   {
    "duration": 44,
    "start_time": "2022-12-21T19:58:28.080Z"
   },
   {
    "duration": 0,
    "start_time": "2022-12-21T19:58:28.125Z"
   },
   {
    "duration": 15,
    "start_time": "2022-12-21T19:58:47.368Z"
   },
   {
    "duration": 134,
    "start_time": "2022-12-21T19:58:53.960Z"
   },
   {
    "duration": 1646,
    "start_time": "2022-12-21T20:01:27.092Z"
   },
   {
    "duration": 270,
    "start_time": "2022-12-21T20:01:28.740Z"
   },
   {
    "duration": 2289,
    "start_time": "2022-12-21T20:01:29.011Z"
   },
   {
    "duration": 30,
    "start_time": "2022-12-21T20:01:31.302Z"
   },
   {
    "duration": 8,
    "start_time": "2022-12-21T20:01:31.335Z"
   },
   {
    "duration": 22,
    "start_time": "2022-12-21T20:01:31.345Z"
   },
   {
    "duration": 236,
    "start_time": "2022-12-21T20:01:31.368Z"
   },
   {
    "duration": 19,
    "start_time": "2022-12-21T20:01:31.605Z"
   },
   {
    "duration": 27,
    "start_time": "2022-12-21T20:01:31.626Z"
   },
   {
    "duration": 184,
    "start_time": "2022-12-21T20:01:31.655Z"
   },
   {
    "duration": 2,
    "start_time": "2022-12-21T20:01:31.841Z"
   },
   {
    "duration": 5,
    "start_time": "2022-12-21T20:01:31.845Z"
   },
   {
    "duration": 87,
    "start_time": "2022-12-21T20:01:31.851Z"
   },
   {
    "duration": 53,
    "start_time": "2022-12-21T20:01:31.940Z"
   },
   {
    "duration": 4,
    "start_time": "2022-12-21T20:01:31.994Z"
   },
   {
    "duration": 472,
    "start_time": "2022-12-21T20:01:32.016Z"
   },
   {
    "duration": 8,
    "start_time": "2022-12-21T20:01:32.490Z"
   },
   {
    "duration": 354,
    "start_time": "2022-12-21T20:01:32.499Z"
   },
   {
    "duration": 5,
    "start_time": "2022-12-21T20:01:32.855Z"
   },
   {
    "duration": 381,
    "start_time": "2022-12-21T20:01:32.862Z"
   },
   {
    "duration": 2196,
    "start_time": "2022-12-21T20:01:33.245Z"
   },
   {
    "duration": 4,
    "start_time": "2022-12-21T20:01:35.442Z"
   },
   {
    "duration": 6787,
    "start_time": "2022-12-21T20:01:35.447Z"
   },
   {
    "duration": 1736,
    "start_time": "2022-12-21T20:01:42.236Z"
   },
   {
    "duration": 3,
    "start_time": "2022-12-21T20:01:43.974Z"
   },
   {
    "duration": 21650,
    "start_time": "2022-12-21T20:01:43.979Z"
   },
   {
    "duration": 187,
    "start_time": "2022-12-21T20:02:05.631Z"
   },
   {
    "duration": 50,
    "start_time": "2022-12-21T20:02:05.822Z"
   },
   {
    "duration": 10,
    "start_time": "2022-12-21T20:02:05.873Z"
   },
   {
    "duration": 5,
    "start_time": "2022-12-21T20:02:05.884Z"
   },
   {
    "duration": 45,
    "start_time": "2022-12-21T20:02:05.891Z"
   },
   {
    "duration": 136,
    "start_time": "2022-12-21T20:02:17.734Z"
   },
   {
    "duration": 12,
    "start_time": "2022-12-21T20:02:27.750Z"
   },
   {
    "duration": 10,
    "start_time": "2022-12-21T20:02:44.542Z"
   },
   {
    "duration": 1602,
    "start_time": "2022-12-21T20:03:30.624Z"
   },
   {
    "duration": 176,
    "start_time": "2022-12-21T20:03:32.228Z"
   },
   {
    "duration": 805,
    "start_time": "2022-12-21T20:03:32.405Z"
   },
   {
    "duration": 25,
    "start_time": "2022-12-21T20:03:33.212Z"
   },
   {
    "duration": 8,
    "start_time": "2022-12-21T20:03:33.239Z"
   },
   {
    "duration": 13,
    "start_time": "2022-12-21T20:03:33.249Z"
   },
   {
    "duration": 232,
    "start_time": "2022-12-21T20:03:33.264Z"
   },
   {
    "duration": 23,
    "start_time": "2022-12-21T20:03:33.498Z"
   },
   {
    "duration": 28,
    "start_time": "2022-12-21T20:03:33.522Z"
   },
   {
    "duration": 165,
    "start_time": "2022-12-21T20:03:33.551Z"
   },
   {
    "duration": 2,
    "start_time": "2022-12-21T20:03:33.718Z"
   },
   {
    "duration": 11,
    "start_time": "2022-12-21T20:03:33.722Z"
   },
   {
    "duration": 59,
    "start_time": "2022-12-21T20:03:33.734Z"
   },
   {
    "duration": 62,
    "start_time": "2022-12-21T20:03:33.796Z"
   },
   {
    "duration": 317,
    "start_time": "2022-12-21T20:03:44.550Z"
   },
   {
    "duration": 6,
    "start_time": "2022-12-21T20:03:46.344Z"
   },
   {
    "duration": 345,
    "start_time": "2022-12-21T20:03:47.732Z"
   },
   {
    "duration": 2268,
    "start_time": "2022-12-21T20:03:48.132Z"
   },
   {
    "duration": 4,
    "start_time": "2022-12-21T20:03:54.611Z"
   },
   {
    "duration": 6889,
    "start_time": "2022-12-21T20:03:56.503Z"
   },
   {
    "duration": 1639,
    "start_time": "2022-12-21T20:04:04.703Z"
   },
   {
    "duration": 1585,
    "start_time": "2022-12-21T20:04:59.972Z"
   },
   {
    "duration": 328,
    "start_time": "2022-12-21T20:05:01.559Z"
   },
   {
    "duration": 2346,
    "start_time": "2022-12-21T20:05:01.888Z"
   },
   {
    "duration": 28,
    "start_time": "2022-12-21T20:05:04.235Z"
   },
   {
    "duration": 9,
    "start_time": "2022-12-21T20:05:04.265Z"
   },
   {
    "duration": 14,
    "start_time": "2022-12-21T20:05:04.275Z"
   },
   {
    "duration": 218,
    "start_time": "2022-12-21T20:05:04.291Z"
   },
   {
    "duration": 17,
    "start_time": "2022-12-21T20:05:04.511Z"
   },
   {
    "duration": 27,
    "start_time": "2022-12-21T20:05:04.530Z"
   },
   {
    "duration": 171,
    "start_time": "2022-12-21T20:05:04.558Z"
   },
   {
    "duration": 3,
    "start_time": "2022-12-21T20:05:04.731Z"
   },
   {
    "duration": 11,
    "start_time": "2022-12-21T20:05:04.735Z"
   },
   {
    "duration": 63,
    "start_time": "2022-12-21T20:05:04.747Z"
   },
   {
    "duration": 54,
    "start_time": "2022-12-21T20:05:04.817Z"
   },
   {
    "duration": 334,
    "start_time": "2022-12-21T20:05:23.632Z"
   },
   {
    "duration": 4,
    "start_time": "2022-12-21T20:05:25.772Z"
   },
   {
    "duration": 2315,
    "start_time": "2022-12-21T20:05:30.904Z"
   },
   {
    "duration": 318,
    "start_time": "2022-12-21T20:05:36.131Z"
   },
   {
    "duration": 4,
    "start_time": "2022-12-21T20:05:39.720Z"
   },
   {
    "duration": 6941,
    "start_time": "2022-12-21T20:05:43.024Z"
   },
   {
    "duration": 1868,
    "start_time": "2022-12-21T20:05:51.795Z"
   },
   {
    "duration": 1650,
    "start_time": "2022-12-21T20:06:09.805Z"
   },
   {
    "duration": 366,
    "start_time": "2022-12-21T20:06:11.457Z"
   },
   {
    "duration": 2343,
    "start_time": "2022-12-21T20:06:11.824Z"
   },
   {
    "duration": 31,
    "start_time": "2022-12-21T20:06:14.169Z"
   },
   {
    "duration": 10,
    "start_time": "2022-12-21T20:06:14.203Z"
   },
   {
    "duration": 13,
    "start_time": "2022-12-21T20:06:14.215Z"
   },
   {
    "duration": 250,
    "start_time": "2022-12-21T20:06:14.230Z"
   },
   {
    "duration": 15,
    "start_time": "2022-12-21T20:06:14.482Z"
   },
   {
    "duration": 37,
    "start_time": "2022-12-21T20:06:14.498Z"
   },
   {
    "duration": 163,
    "start_time": "2022-12-21T20:06:14.537Z"
   },
   {
    "duration": 3,
    "start_time": "2022-12-21T20:06:14.702Z"
   },
   {
    "duration": 3,
    "start_time": "2022-12-21T20:06:14.715Z"
   },
   {
    "duration": 62,
    "start_time": "2022-12-21T20:06:14.719Z"
   },
   {
    "duration": 67,
    "start_time": "2022-12-21T20:06:14.784Z"
   },
   {
    "duration": 2477,
    "start_time": "2022-12-21T20:06:21.538Z"
   },
   {
    "duration": 3,
    "start_time": "2022-12-21T20:06:35.695Z"
   },
   {
    "duration": 452,
    "start_time": "2022-12-21T20:06:36.885Z"
   },
   {
    "duration": 6,
    "start_time": "2022-12-21T20:06:40.984Z"
   },
   {
    "duration": 330,
    "start_time": "2022-12-21T20:06:52.635Z"
   },
   {
    "duration": 4,
    "start_time": "2022-12-21T20:06:54.803Z"
   },
   {
    "duration": 318,
    "start_time": "2022-12-21T20:06:55.961Z"
   },
   {
    "duration": 1628,
    "start_time": "2022-12-21T20:07:31.712Z"
   },
   {
    "duration": 353,
    "start_time": "2022-12-21T20:07:33.342Z"
   },
   {
    "duration": 2258,
    "start_time": "2022-12-21T20:07:33.696Z"
   },
   {
    "duration": 32,
    "start_time": "2022-12-21T20:07:35.956Z"
   },
   {
    "duration": 12,
    "start_time": "2022-12-21T20:07:35.990Z"
   },
   {
    "duration": 22,
    "start_time": "2022-12-21T20:07:36.004Z"
   },
   {
    "duration": 222,
    "start_time": "2022-12-21T20:07:36.028Z"
   },
   {
    "duration": 15,
    "start_time": "2022-12-21T20:07:36.251Z"
   },
   {
    "duration": 28,
    "start_time": "2022-12-21T20:07:36.267Z"
   },
   {
    "duration": 180,
    "start_time": "2022-12-21T20:07:36.297Z"
   },
   {
    "duration": 3,
    "start_time": "2022-12-21T20:07:36.478Z"
   },
   {
    "duration": 5,
    "start_time": "2022-12-21T20:07:36.483Z"
   },
   {
    "duration": 90,
    "start_time": "2022-12-21T20:07:36.489Z"
   },
   {
    "duration": 76,
    "start_time": "2022-12-21T20:07:36.581Z"
   },
   {
    "duration": 2459,
    "start_time": "2022-12-21T20:07:45.856Z"
   },
   {
    "duration": 333,
    "start_time": "2022-12-21T20:07:56.615Z"
   },
   {
    "duration": 2313,
    "start_time": "2022-12-21T20:08:00.625Z"
   },
   {
    "duration": 4,
    "start_time": "2022-12-21T20:08:07.363Z"
   },
   {
    "duration": 7008,
    "start_time": "2022-12-21T20:08:11.868Z"
   },
   {
    "duration": 864,
    "start_time": "2022-12-21T20:08:22.225Z"
   },
   {
    "duration": 26670,
    "start_time": "2022-12-21T20:08:32.996Z"
   },
   {
    "duration": 3429,
    "start_time": "2022-12-21T20:09:05.493Z"
   },
   {
    "duration": 129,
    "start_time": "2022-12-21T20:09:20.074Z"
   },
   {
    "duration": 1615,
    "start_time": "2022-12-21T20:10:24.742Z"
   },
   {
    "duration": 298,
    "start_time": "2022-12-21T20:10:26.359Z"
   },
   {
    "duration": 2704,
    "start_time": "2022-12-21T20:10:26.659Z"
   },
   {
    "duration": 76,
    "start_time": "2022-12-21T20:10:29.365Z"
   },
   {
    "duration": 9,
    "start_time": "2022-12-21T20:10:29.443Z"
   },
   {
    "duration": 63,
    "start_time": "2022-12-21T20:10:29.454Z"
   },
   {
    "duration": 354,
    "start_time": "2022-12-21T20:10:29.519Z"
   },
   {
    "duration": 14,
    "start_time": "2022-12-21T20:10:29.875Z"
   },
   {
    "duration": 40,
    "start_time": "2022-12-21T20:10:29.890Z"
   },
   {
    "duration": 157,
    "start_time": "2022-12-21T20:10:29.932Z"
   },
   {
    "duration": 3,
    "start_time": "2022-12-21T20:10:30.090Z"
   },
   {
    "duration": 10,
    "start_time": "2022-12-21T20:10:30.094Z"
   },
   {
    "duration": 72,
    "start_time": "2022-12-21T20:10:30.105Z"
   },
   {
    "duration": 53,
    "start_time": "2022-12-21T20:10:30.179Z"
   },
   {
    "duration": 3,
    "start_time": "2022-12-21T20:10:37.005Z"
   },
   {
    "duration": 327,
    "start_time": "2022-12-21T20:10:45.083Z"
   },
   {
    "duration": 2256,
    "start_time": "2022-12-21T20:10:49.507Z"
   },
   {
    "duration": 4,
    "start_time": "2022-12-21T20:10:54.371Z"
   },
   {
    "duration": 6799,
    "start_time": "2022-12-21T20:10:56.513Z"
   },
   {
    "duration": 832,
    "start_time": "2022-12-21T20:11:03.315Z"
   },
   {
    "duration": 62113,
    "start_time": "2022-12-21T20:11:14.315Z"
   },
   {
    "duration": 436,
    "start_time": "2022-12-21T20:12:16.430Z"
   },
   {
    "duration": 70,
    "start_time": "2022-12-21T20:12:16.868Z"
   },
   {
    "duration": 124,
    "start_time": "2022-12-21T20:17:20.622Z"
   },
   {
    "duration": 9,
    "start_time": "2022-12-21T20:17:37.853Z"
   },
   {
    "duration": 90,
    "start_time": "2022-12-21T20:17:45.155Z"
   },
   {
    "duration": 3105,
    "start_time": "2022-12-21T20:17:47.824Z"
   },
   {
    "duration": 336,
    "start_time": "2022-12-21T20:17:52.794Z"
   },
   {
    "duration": 39,
    "start_time": "2022-12-21T20:19:48.529Z"
   },
   {
    "duration": 8,
    "start_time": "2022-12-21T20:19:49.463Z"
   },
   {
    "duration": 9,
    "start_time": "2022-12-21T20:20:15.223Z"
   },
   {
    "duration": 9,
    "start_time": "2022-12-21T20:20:27.929Z"
   },
   {
    "duration": 11,
    "start_time": "2022-12-21T20:20:34.215Z"
   },
   {
    "duration": 22,
    "start_time": "2022-12-21T20:20:39.042Z"
   },
   {
    "duration": 9,
    "start_time": "2022-12-21T20:20:39.643Z"
   },
   {
    "duration": 94,
    "start_time": "2022-12-21T20:20:54.053Z"
   },
   {
    "duration": 9,
    "start_time": "2022-12-21T20:20:55.163Z"
   },
   {
    "duration": 413,
    "start_time": "2022-12-21T20:21:21.150Z"
   },
   {
    "duration": 4,
    "start_time": "2022-12-21T20:21:26.504Z"
   },
   {
    "duration": 6921,
    "start_time": "2022-12-21T20:21:29.823Z"
   },
   {
    "duration": 818,
    "start_time": "2022-12-21T20:21:39.336Z"
   },
   {
    "duration": 412,
    "start_time": "2022-12-21T20:21:47.814Z"
   },
   {
    "duration": 350,
    "start_time": "2022-12-21T20:22:24.573Z"
   },
   {
    "duration": 2,
    "start_time": "2022-12-21T20:23:47.467Z"
   },
   {
    "duration": 8975,
    "start_time": "2022-12-21T20:23:50.253Z"
   },
   {
    "duration": 11,
    "start_time": "2022-12-21T20:24:14.151Z"
   },
   {
    "duration": 35,
    "start_time": "2022-12-21T20:24:15.199Z"
   },
   {
    "duration": 10,
    "start_time": "2022-12-21T20:24:24.405Z"
   },
   {
    "duration": 2071,
    "start_time": "2022-12-22T06:42:42.621Z"
   },
   {
    "duration": 77,
    "start_time": "2022-12-22T06:43:04.178Z"
   },
   {
    "duration": 12,
    "start_time": "2022-12-22T06:43:09.993Z"
   },
   {
    "duration": 1781,
    "start_time": "2022-12-23T06:33:37.854Z"
   },
   {
    "duration": 698,
    "start_time": "2022-12-23T06:33:39.637Z"
   },
   {
    "duration": 3315,
    "start_time": "2022-12-23T06:33:40.336Z"
   },
   {
    "duration": 31,
    "start_time": "2022-12-23T06:33:43.653Z"
   },
   {
    "duration": 8,
    "start_time": "2022-12-23T06:33:43.685Z"
   },
   {
    "duration": 11,
    "start_time": "2022-12-23T06:33:43.695Z"
   },
   {
    "duration": 226,
    "start_time": "2022-12-23T06:33:43.707Z"
   },
   {
    "duration": 16,
    "start_time": "2022-12-23T06:33:43.935Z"
   },
   {
    "duration": 27,
    "start_time": "2022-12-23T06:33:43.953Z"
   },
   {
    "duration": 206,
    "start_time": "2022-12-23T06:33:43.983Z"
   },
   {
    "duration": 3,
    "start_time": "2022-12-23T06:33:44.191Z"
   },
   {
    "duration": 11,
    "start_time": "2022-12-23T06:33:44.196Z"
   },
   {
    "duration": 65,
    "start_time": "2022-12-23T06:33:44.209Z"
   },
   {
    "duration": 61,
    "start_time": "2022-12-23T06:33:44.276Z"
   },
   {
    "duration": 3,
    "start_time": "2022-12-23T06:33:44.339Z"
   },
   {
    "duration": 426,
    "start_time": "2022-12-23T06:33:44.344Z"
   },
   {
    "duration": 7,
    "start_time": "2022-12-23T06:33:44.772Z"
   },
   {
    "duration": 280,
    "start_time": "2022-12-23T06:34:00.537Z"
   },
   {
    "duration": 5,
    "start_time": "2022-12-23T06:34:21.456Z"
   },
   {
    "duration": 3,
    "start_time": "2022-12-23T06:34:30.625Z"
   },
   {
    "duration": 304,
    "start_time": "2022-12-23T06:34:55.689Z"
   },
   {
    "duration": 824,
    "start_time": "2022-12-23T06:34:56.264Z"
   },
   {
    "duration": 4,
    "start_time": "2022-12-23T06:34:59.640Z"
   },
   {
    "duration": 407,
    "start_time": "2022-12-23T06:35:10.947Z"
   },
   {
    "duration": 4,
    "start_time": "2022-12-23T06:36:12.799Z"
   },
   {
    "duration": 6,
    "start_time": "2022-12-23T06:36:23.895Z"
   },
   {
    "duration": 9,
    "start_time": "2022-12-23T06:36:40.031Z"
   },
   {
    "duration": 20,
    "start_time": "2022-12-23T06:36:48.863Z"
   },
   {
    "duration": 5,
    "start_time": "2022-12-23T06:39:18.206Z"
   },
   {
    "duration": 2,
    "start_time": "2022-12-23T06:40:39.116Z"
   },
   {
    "duration": 5,
    "start_time": "2022-12-23T06:40:43.083Z"
   },
   {
    "duration": 7,
    "start_time": "2022-12-23T06:41:44.291Z"
   },
   {
    "duration": 5,
    "start_time": "2022-12-23T06:44:23.650Z"
   },
   {
    "duration": 1573,
    "start_time": "2022-12-23T06:46:28.440Z"
   },
   {
    "duration": 254,
    "start_time": "2022-12-23T06:46:30.015Z"
   },
   {
    "duration": 754,
    "start_time": "2022-12-23T06:46:30.271Z"
   },
   {
    "duration": 34,
    "start_time": "2022-12-23T06:46:31.027Z"
   },
   {
    "duration": 9,
    "start_time": "2022-12-23T06:46:31.064Z"
   },
   {
    "duration": 23,
    "start_time": "2022-12-23T06:46:31.075Z"
   },
   {
    "duration": 234,
    "start_time": "2022-12-23T06:46:31.099Z"
   },
   {
    "duration": 17,
    "start_time": "2022-12-23T06:46:31.335Z"
   },
   {
    "duration": 28,
    "start_time": "2022-12-23T06:46:31.354Z"
   },
   {
    "duration": 179,
    "start_time": "2022-12-23T06:46:31.384Z"
   },
   {
    "duration": 3,
    "start_time": "2022-12-23T06:46:31.564Z"
   },
   {
    "duration": 7,
    "start_time": "2022-12-23T06:46:31.568Z"
   },
   {
    "duration": 82,
    "start_time": "2022-12-23T06:46:31.576Z"
   },
   {
    "duration": 64,
    "start_time": "2022-12-23T06:46:31.662Z"
   },
   {
    "duration": 4,
    "start_time": "2022-12-23T06:46:31.727Z"
   },
   {
    "duration": 456,
    "start_time": "2022-12-23T06:46:31.733Z"
   },
   {
    "duration": 7,
    "start_time": "2022-12-23T06:46:32.191Z"
   },
   {
    "duration": 266,
    "start_time": "2022-12-23T06:46:32.199Z"
   },
   {
    "duration": 6,
    "start_time": "2022-12-23T06:46:32.466Z"
   },
   {
    "duration": 28,
    "start_time": "2022-12-23T06:46:32.474Z"
   },
   {
    "duration": 20,
    "start_time": "2022-12-23T06:46:32.504Z"
   },
   {
    "duration": 18,
    "start_time": "2022-12-23T06:46:32.526Z"
   },
   {
    "duration": 178,
    "start_time": "2022-12-23T06:46:32.546Z"
   },
   {
    "duration": 6,
    "start_time": "2022-12-23T06:46:32.725Z"
   },
   {
    "duration": 13,
    "start_time": "2022-12-23T06:46:32.733Z"
   },
   {
    "duration": 16,
    "start_time": "2022-12-23T06:46:32.747Z"
   },
   {
    "duration": 757,
    "start_time": "2022-12-23T06:46:32.765Z"
   },
   {
    "duration": 17,
    "start_time": "2022-12-23T06:46:33.523Z"
   },
   {
    "duration": 44,
    "start_time": "2022-12-23T06:46:33.541Z"
   },
   {
    "duration": 20,
    "start_time": "2022-12-23T06:46:33.587Z"
   },
   {
    "duration": 16,
    "start_time": "2022-12-23T06:46:33.609Z"
   },
   {
    "duration": 5125,
    "start_time": "2022-12-23T06:46:33.626Z"
   },
   {
    "duration": 595,
    "start_time": "2022-12-23T06:47:16.383Z"
   },
   {
    "duration": 596,
    "start_time": "2022-12-23T06:47:17.630Z"
   },
   {
    "duration": 3,
    "start_time": "2022-12-23T06:47:29.735Z"
   },
   {
    "duration": 216,
    "start_time": "2022-12-23T06:47:31.286Z"
   },
   {
    "duration": 1563,
    "start_time": "2022-12-23T06:51:44.676Z"
   },
   {
    "duration": 245,
    "start_time": "2022-12-23T06:51:46.241Z"
   },
   {
    "duration": 700,
    "start_time": "2022-12-23T06:51:46.487Z"
   },
   {
    "duration": 27,
    "start_time": "2022-12-23T06:51:47.188Z"
   },
   {
    "duration": 8,
    "start_time": "2022-12-23T06:51:47.222Z"
   },
   {
    "duration": 24,
    "start_time": "2022-12-23T06:51:47.231Z"
   },
   {
    "duration": 227,
    "start_time": "2022-12-23T06:51:47.256Z"
   },
   {
    "duration": 14,
    "start_time": "2022-12-23T06:51:47.484Z"
   },
   {
    "duration": 42,
    "start_time": "2022-12-23T06:51:47.500Z"
   },
   {
    "duration": 156,
    "start_time": "2022-12-23T06:51:47.544Z"
   },
   {
    "duration": 3,
    "start_time": "2022-12-23T06:51:47.702Z"
   },
   {
    "duration": 18,
    "start_time": "2022-12-23T06:51:47.706Z"
   },
   {
    "duration": 69,
    "start_time": "2022-12-23T06:51:47.725Z"
   },
   {
    "duration": 58,
    "start_time": "2022-12-23T06:51:47.796Z"
   },
   {
    "duration": 3,
    "start_time": "2022-12-23T06:51:47.856Z"
   },
   {
    "duration": 441,
    "start_time": "2022-12-23T06:51:47.861Z"
   },
   {
    "duration": 8,
    "start_time": "2022-12-23T06:51:48.304Z"
   },
   {
    "duration": 161,
    "start_time": "2022-12-23T06:51:48.314Z"
   },
   {
    "duration": 5,
    "start_time": "2022-12-23T06:51:48.476Z"
   },
   {
    "duration": 25,
    "start_time": "2022-12-23T06:51:48.482Z"
   },
   {
    "duration": 24,
    "start_time": "2022-12-23T06:51:48.508Z"
   },
   {
    "duration": 18,
    "start_time": "2022-12-23T06:51:48.533Z"
   },
   {
    "duration": 201,
    "start_time": "2022-12-23T06:51:48.552Z"
   },
   {
    "duration": 5,
    "start_time": "2022-12-23T06:51:48.755Z"
   },
   {
    "duration": 8,
    "start_time": "2022-12-23T06:51:50.934Z"
   },
   {
    "duration": 124,
    "start_time": "2022-12-23T06:52:13.535Z"
   },
   {
    "duration": 7,
    "start_time": "2022-12-23T06:52:50.341Z"
   },
   {
    "duration": 5,
    "start_time": "2022-12-23T06:52:59.955Z"
   },
   {
    "duration": 5,
    "start_time": "2022-12-23T06:53:07.646Z"
   },
   {
    "duration": 4,
    "start_time": "2022-12-23T07:09:16.615Z"
   },
   {
    "duration": 1179,
    "start_time": "2022-12-23T07:09:23.903Z"
   },
   {
    "duration": 4,
    "start_time": "2022-12-23T07:09:32.343Z"
   },
   {
    "duration": 10,
    "start_time": "2022-12-23T07:10:41.646Z"
   },
   {
    "duration": 6,
    "start_time": "2022-12-23T07:10:54.006Z"
   },
   {
    "duration": 6,
    "start_time": "2022-12-23T07:11:54.646Z"
   },
   {
    "duration": 6,
    "start_time": "2022-12-23T07:12:00.493Z"
   },
   {
    "duration": 7,
    "start_time": "2022-12-23T07:13:13.270Z"
   },
   {
    "duration": 1223,
    "start_time": "2022-12-23T07:13:23.635Z"
   },
   {
    "duration": 3,
    "start_time": "2022-12-23T07:13:28.636Z"
   },
   {
    "duration": 8,
    "start_time": "2022-12-23T07:14:06.357Z"
   },
   {
    "duration": 1720,
    "start_time": "2022-12-23T07:17:46.099Z"
   },
   {
    "duration": 254,
    "start_time": "2022-12-23T07:17:47.821Z"
   },
   {
    "duration": 741,
    "start_time": "2022-12-23T07:17:48.076Z"
   },
   {
    "duration": 33,
    "start_time": "2022-12-23T07:17:48.821Z"
   },
   {
    "duration": 9,
    "start_time": "2022-12-23T07:17:48.855Z"
   },
   {
    "duration": 13,
    "start_time": "2022-12-23T07:17:48.866Z"
   },
   {
    "duration": 256,
    "start_time": "2022-12-23T07:17:48.881Z"
   },
   {
    "duration": 18,
    "start_time": "2022-12-23T07:17:49.139Z"
   },
   {
    "duration": 29,
    "start_time": "2022-12-23T07:17:49.159Z"
   },
   {
    "duration": 189,
    "start_time": "2022-12-23T07:17:49.191Z"
   },
   {
    "duration": 3,
    "start_time": "2022-12-23T07:17:49.382Z"
   },
   {
    "duration": 8,
    "start_time": "2022-12-23T07:17:49.386Z"
   },
   {
    "duration": 75,
    "start_time": "2022-12-23T07:17:49.396Z"
   },
   {
    "duration": 64,
    "start_time": "2022-12-23T07:17:49.473Z"
   },
   {
    "duration": 3,
    "start_time": "2022-12-23T07:17:49.538Z"
   },
   {
    "duration": 470,
    "start_time": "2022-12-23T07:17:49.542Z"
   },
   {
    "duration": 12,
    "start_time": "2022-12-23T07:17:50.014Z"
   },
   {
    "duration": 411,
    "start_time": "2022-12-23T07:17:50.027Z"
   },
   {
    "duration": 5,
    "start_time": "2022-12-23T07:17:50.440Z"
   },
   {
    "duration": 16,
    "start_time": "2022-12-23T07:17:50.446Z"
   },
   {
    "duration": 13,
    "start_time": "2022-12-23T07:17:50.464Z"
   },
   {
    "duration": 6,
    "start_time": "2022-12-23T07:17:50.479Z"
   },
   {
    "duration": 12,
    "start_time": "2022-12-23T07:17:50.487Z"
   },
   {
    "duration": 254,
    "start_time": "2022-12-23T07:17:50.501Z"
   },
   {
    "duration": 6,
    "start_time": "2022-12-23T07:17:50.756Z"
   },
   {
    "duration": 18,
    "start_time": "2022-12-23T07:17:50.764Z"
   },
   {
    "duration": 9,
    "start_time": "2022-12-23T07:17:50.783Z"
   },
   {
    "duration": 8,
    "start_time": "2022-12-23T07:17:50.795Z"
   },
   {
    "duration": 817,
    "start_time": "2022-12-23T07:17:50.805Z"
   },
   {
    "duration": 22,
    "start_time": "2022-12-23T07:17:51.623Z"
   },
   {
    "duration": 35,
    "start_time": "2022-12-23T07:17:51.646Z"
   },
   {
    "duration": 22,
    "start_time": "2022-12-23T07:17:51.683Z"
   },
   {
    "duration": 3,
    "start_time": "2022-12-23T07:17:51.707Z"
   },
   {
    "duration": 4,
    "start_time": "2022-12-23T07:17:51.722Z"
   },
   {
    "duration": 5217,
    "start_time": "2022-12-23T07:17:51.727Z"
   },
   {
    "duration": 646,
    "start_time": "2022-12-23T07:17:56.945Z"
   },
   {
    "duration": 618,
    "start_time": "2022-12-23T07:17:57.593Z"
   },
   {
    "duration": 9,
    "start_time": "2022-12-23T07:17:58.213Z"
   },
   {
    "duration": 221,
    "start_time": "2022-12-23T07:17:58.224Z"
   },
   {
    "duration": 4,
    "start_time": "2022-12-23T07:18:58.808Z"
   },
   {
    "duration": 4,
    "start_time": "2022-12-23T07:19:07.415Z"
   },
   {
    "duration": 32,
    "start_time": "2022-12-23T07:19:39.760Z"
   },
   {
    "duration": 1711,
    "start_time": "2022-12-23T07:20:03.853Z"
   },
   {
    "duration": 243,
    "start_time": "2022-12-23T07:20:05.566Z"
   },
   {
    "duration": 741,
    "start_time": "2022-12-23T07:20:05.811Z"
   },
   {
    "duration": 32,
    "start_time": "2022-12-23T07:20:06.554Z"
   },
   {
    "duration": 8,
    "start_time": "2022-12-23T07:20:06.588Z"
   },
   {
    "duration": 29,
    "start_time": "2022-12-23T07:20:06.598Z"
   },
   {
    "duration": 217,
    "start_time": "2022-12-23T07:20:06.628Z"
   },
   {
    "duration": 15,
    "start_time": "2022-12-23T07:20:06.847Z"
   },
   {
    "duration": 27,
    "start_time": "2022-12-23T07:20:06.863Z"
   },
   {
    "duration": 174,
    "start_time": "2022-12-23T07:20:06.892Z"
   },
   {
    "duration": 3,
    "start_time": "2022-12-23T07:20:07.068Z"
   },
   {
    "duration": 7,
    "start_time": "2022-12-23T07:20:07.072Z"
   },
   {
    "duration": 69,
    "start_time": "2022-12-23T07:20:07.080Z"
   },
   {
    "duration": 52,
    "start_time": "2022-12-23T07:20:07.152Z"
   },
   {
    "duration": 3,
    "start_time": "2022-12-23T07:20:07.206Z"
   },
   {
    "duration": 476,
    "start_time": "2022-12-23T07:20:07.221Z"
   },
   {
    "duration": 6,
    "start_time": "2022-12-23T07:20:07.699Z"
   },
   {
    "duration": 137,
    "start_time": "2022-12-23T07:20:07.706Z"
   },
   {
    "duration": 7,
    "start_time": "2022-12-23T07:20:07.845Z"
   },
   {
    "duration": 10,
    "start_time": "2022-12-23T07:20:07.854Z"
   },
   {
    "duration": 7,
    "start_time": "2022-12-23T07:20:07.865Z"
   },
   {
    "duration": 17,
    "start_time": "2022-12-23T07:20:07.874Z"
   },
   {
    "duration": 7,
    "start_time": "2022-12-23T07:20:07.893Z"
   },
   {
    "duration": 178,
    "start_time": "2022-12-23T07:20:07.902Z"
   },
   {
    "duration": 5,
    "start_time": "2022-12-23T07:20:08.082Z"
   },
   {
    "duration": 29,
    "start_time": "2022-12-23T07:20:08.089Z"
   },
   {
    "duration": 37,
    "start_time": "2022-12-23T07:20:08.120Z"
   },
   {
    "duration": 37,
    "start_time": "2022-12-23T07:20:08.159Z"
   },
   {
    "duration": 689,
    "start_time": "2022-12-23T07:20:08.197Z"
   },
   {
    "duration": 16,
    "start_time": "2022-12-23T07:20:08.887Z"
   },
   {
    "duration": 34,
    "start_time": "2022-12-23T07:20:08.905Z"
   },
   {
    "duration": 4,
    "start_time": "2022-12-23T07:20:08.941Z"
   },
   {
    "duration": 25,
    "start_time": "2022-12-23T07:20:08.946Z"
   },
   {
    "duration": 4,
    "start_time": "2022-12-23T07:20:08.973Z"
   },
   {
    "duration": 3,
    "start_time": "2022-12-23T07:20:08.979Z"
   },
   {
    "duration": 7,
    "start_time": "2022-12-23T07:20:08.984Z"
   },
   {
    "duration": 4882,
    "start_time": "2022-12-23T07:20:08.993Z"
   },
   {
    "duration": 658,
    "start_time": "2022-12-23T07:20:13.876Z"
   },
   {
    "duration": 593,
    "start_time": "2022-12-23T07:20:14.535Z"
   },
   {
    "duration": 2,
    "start_time": "2022-12-23T07:20:15.130Z"
   },
   {
    "duration": 15493,
    "start_time": "2022-12-23T07:20:15.135Z"
   },
   {
    "duration": 10,
    "start_time": "2022-12-23T07:21:19.909Z"
   },
   {
    "duration": 36,
    "start_time": "2022-12-23T07:21:20.470Z"
   },
   {
    "duration": 10,
    "start_time": "2022-12-23T07:21:22.535Z"
   },
   {
    "duration": 6,
    "start_time": "2022-12-23T07:21:40.743Z"
   },
   {
    "duration": 3,
    "start_time": "2022-12-23T07:22:08.382Z"
   },
   {
    "duration": 531714,
    "start_time": "2022-12-23T07:22:09.885Z"
   },
   {
    "duration": 26878,
    "start_time": "2022-12-23T07:34:11.678Z"
   },
   {
    "duration": 5185,
    "start_time": "2022-12-23T07:34:48.740Z"
   },
   {
    "duration": 3596,
    "start_time": "2022-12-23T07:34:56.971Z"
   },
   {
    "duration": 5,
    "start_time": "2022-12-23T07:35:06.332Z"
   },
   {
    "duration": 3,
    "start_time": "2022-12-23T07:35:25.428Z"
   },
   {
    "duration": 62790,
    "start_time": "2022-12-23T07:35:27.243Z"
   },
   {
    "duration": 355,
    "start_time": "2022-12-23T07:37:22.446Z"
   },
   {
    "duration": 53,
    "start_time": "2022-12-23T07:37:24.801Z"
   },
   {
    "duration": 5,
    "start_time": "2022-12-23T07:37:31.295Z"
   },
   {
    "duration": 360,
    "start_time": "2022-12-23T07:37:32.671Z"
   },
   {
    "duration": 95,
    "start_time": "2022-12-23T07:37:55.783Z"
   },
   {
    "duration": 3,
    "start_time": "2022-12-23T07:38:36.680Z"
   },
   {
    "duration": 316459,
    "start_time": "2022-12-23T07:38:37.480Z"
   },
   {
    "duration": 4705,
    "start_time": "2022-12-23T07:47:56.562Z"
   },
   {
    "duration": 533,
    "start_time": "2022-12-23T07:48:03.210Z"
   },
   {
    "duration": 6,
    "start_time": "2022-12-23T07:48:09.320Z"
   },
   {
    "duration": 137,
    "start_time": "2022-12-23T07:48:18.296Z"
   },
   {
    "duration": 55,
    "start_time": "2022-12-23T07:48:29.563Z"
   },
   {
    "duration": 7,
    "start_time": "2022-12-23T07:48:30.663Z"
   },
   {
    "duration": 6,
    "start_time": "2022-12-23T07:48:49.537Z"
   },
   {
    "duration": 59,
    "start_time": "2022-12-23T07:48:50.401Z"
   },
   {
    "duration": 37,
    "start_time": "2022-12-23T07:48:51.769Z"
   },
   {
    "duration": 9,
    "start_time": "2022-12-23T07:48:52.417Z"
   },
   {
    "duration": 5,
    "start_time": "2022-12-23T07:49:28.865Z"
   },
   {
    "duration": 5,
    "start_time": "2022-12-23T07:49:32.679Z"
   },
   {
    "duration": 4,
    "start_time": "2022-12-23T07:49:36.096Z"
   },
   {
    "duration": 5,
    "start_time": "2022-12-23T07:49:39.677Z"
   },
   {
    "duration": 48,
    "start_time": "2022-12-23T07:49:40.914Z"
   },
   {
    "duration": 43,
    "start_time": "2022-12-23T07:49:45.588Z"
   },
   {
    "duration": 8,
    "start_time": "2022-12-23T07:49:46.267Z"
   },
   {
    "duration": 8,
    "start_time": "2022-12-23T07:50:40.591Z"
   },
   {
    "duration": 4994,
    "start_time": "2022-12-23T07:51:14.582Z"
   },
   {
    "duration": 249,
    "start_time": "2022-12-23T07:52:01.170Z"
   },
   {
    "duration": 58,
    "start_time": "2022-12-23T07:52:12.399Z"
   },
   {
    "duration": 380,
    "start_time": "2022-12-23T07:52:13.671Z"
   },
   {
    "duration": 1725,
    "start_time": "2022-12-23T07:52:43.622Z"
   },
   {
    "duration": 236,
    "start_time": "2022-12-23T07:52:45.349Z"
   },
   {
    "duration": 748,
    "start_time": "2022-12-23T07:52:45.587Z"
   },
   {
    "duration": 31,
    "start_time": "2022-12-23T07:52:46.337Z"
   },
   {
    "duration": 9,
    "start_time": "2022-12-23T07:52:46.369Z"
   },
   {
    "duration": 10,
    "start_time": "2022-12-23T07:52:46.379Z"
   },
   {
    "duration": 240,
    "start_time": "2022-12-23T07:52:46.391Z"
   },
   {
    "duration": 15,
    "start_time": "2022-12-23T07:52:46.632Z"
   },
   {
    "duration": 27,
    "start_time": "2022-12-23T07:52:46.649Z"
   },
   {
    "duration": 185,
    "start_time": "2022-12-23T07:52:46.678Z"
   },
   {
    "duration": 3,
    "start_time": "2022-12-23T07:52:46.864Z"
   },
   {
    "duration": 6,
    "start_time": "2022-12-23T07:52:46.868Z"
   },
   {
    "duration": 73,
    "start_time": "2022-12-23T07:52:46.875Z"
   },
   {
    "duration": 53,
    "start_time": "2022-12-23T07:52:46.949Z"
   },
   {
    "duration": 3,
    "start_time": "2022-12-23T07:52:47.003Z"
   },
   {
    "duration": 439,
    "start_time": "2022-12-23T07:52:47.007Z"
   },
   {
    "duration": 6,
    "start_time": "2022-12-23T07:52:47.448Z"
   },
   {
    "duration": 385,
    "start_time": "2022-12-23T07:52:47.455Z"
   },
   {
    "duration": 5,
    "start_time": "2022-12-23T07:52:47.842Z"
   },
   {
    "duration": 32,
    "start_time": "2022-12-23T07:52:47.848Z"
   },
   {
    "duration": 26,
    "start_time": "2022-12-23T07:52:47.882Z"
   },
   {
    "duration": 25,
    "start_time": "2022-12-23T07:52:47.909Z"
   },
   {
    "duration": 29,
    "start_time": "2022-12-23T07:52:47.936Z"
   },
   {
    "duration": 236,
    "start_time": "2022-12-23T07:52:47.967Z"
   },
   {
    "duration": 5,
    "start_time": "2022-12-23T07:52:48.205Z"
   },
   {
    "duration": 23,
    "start_time": "2022-12-23T07:52:48.212Z"
   },
   {
    "duration": 27,
    "start_time": "2022-12-23T07:52:48.237Z"
   },
   {
    "duration": 17,
    "start_time": "2022-12-23T07:52:48.282Z"
   },
   {
    "duration": 822,
    "start_time": "2022-12-23T07:52:48.301Z"
   },
   {
    "duration": 19,
    "start_time": "2022-12-23T07:52:49.124Z"
   },
   {
    "duration": 39,
    "start_time": "2022-12-23T07:52:49.145Z"
   },
   {
    "duration": 30,
    "start_time": "2022-12-23T07:52:49.186Z"
   },
   {
    "duration": 53,
    "start_time": "2022-12-23T07:52:49.218Z"
   },
   {
    "duration": 25,
    "start_time": "2022-12-23T07:52:49.273Z"
   },
   {
    "duration": 37,
    "start_time": "2022-12-23T07:52:49.299Z"
   },
   {
    "duration": 19,
    "start_time": "2022-12-23T07:52:49.338Z"
   },
   {
    "duration": 5355,
    "start_time": "2022-12-23T07:52:49.358Z"
   },
   {
    "duration": 608,
    "start_time": "2022-12-23T07:52:54.714Z"
   },
   {
    "duration": 635,
    "start_time": "2022-12-23T07:52:55.323Z"
   },
   {
    "duration": 2,
    "start_time": "2022-12-23T07:52:55.960Z"
   },
   {
    "duration": 15460,
    "start_time": "2022-12-23T07:52:55.964Z"
   },
   {
    "duration": 100,
    "start_time": "2022-12-23T07:53:11.426Z"
   },
   {
    "duration": 35,
    "start_time": "2022-12-23T07:53:11.528Z"
   },
   {
    "duration": 9,
    "start_time": "2022-12-23T07:53:11.565Z"
   },
   {
    "duration": 6,
    "start_time": "2022-12-23T07:53:11.576Z"
   },
   {
    "duration": 15,
    "start_time": "2022-12-23T07:53:11.584Z"
   },
   {
    "duration": 537245,
    "start_time": "2022-12-23T07:53:11.601Z"
   },
   {
    "duration": 5476,
    "start_time": "2022-12-23T08:02:08.848Z"
   },
   {
    "duration": 7567,
    "start_time": "2022-12-23T08:02:14.327Z"
   },
   {
    "duration": 27219,
    "start_time": "2022-12-23T08:02:21.897Z"
   },
   {
    "duration": 3607,
    "start_time": "2022-12-23T08:02:49.122Z"
   },
   {
    "duration": 6,
    "start_time": "2022-12-23T08:02:52.731Z"
   },
   {
    "duration": 12,
    "start_time": "2022-12-23T08:02:52.739Z"
   },
   {
    "duration": 63787,
    "start_time": "2022-12-23T08:02:52.752Z"
   },
   {
    "duration": 395,
    "start_time": "2022-12-23T08:03:56.541Z"
   },
   {
    "duration": 86,
    "start_time": "2022-12-23T08:03:56.939Z"
   },
   {
    "duration": 6,
    "start_time": "2022-12-23T08:03:57.027Z"
   },
   {
    "duration": 381,
    "start_time": "2022-12-23T08:03:57.035Z"
   },
   {
    "duration": 3,
    "start_time": "2022-12-23T08:03:57.417Z"
   },
   {
    "duration": 233,
    "start_time": "2022-12-23T08:12:40.566Z"
   },
   {
    "duration": 46,
    "start_time": "2022-12-23T08:12:40.801Z"
   },
   {
    "duration": 3686,
    "start_time": "2022-12-23T08:12:40.849Z"
   },
   {
    "duration": 494,
    "start_time": "2022-12-23T08:12:44.536Z"
   },
   {
    "duration": 5,
    "start_time": "2022-12-23T08:12:45.032Z"
   },
   {
    "duration": 101,
    "start_time": "2022-12-23T08:12:45.038Z"
   },
   {
    "duration": 31,
    "start_time": "2022-12-23T08:12:45.141Z"
   },
   {
    "duration": 8,
    "start_time": "2022-12-23T08:12:45.174Z"
   },
   {
    "duration": 45,
    "start_time": "2022-12-23T08:12:45.184Z"
   },
   {
    "duration": 495,
    "start_time": "2022-12-23T08:12:45.231Z"
   },
   {
    "duration": 9,
    "start_time": "2022-12-23T08:12:45.728Z"
   },
   {
    "duration": 104,
    "start_time": "2022-12-23T08:43:05.435Z"
   },
   {
    "duration": 3184,
    "start_time": "2022-12-23T08:43:09.568Z"
   },
   {
    "duration": 327,
    "start_time": "2022-12-23T08:43:15.112Z"
   },
   {
    "duration": 6,
    "start_time": "2022-12-23T08:43:16.464Z"
   },
   {
    "duration": 96,
    "start_time": "2022-12-23T08:43:17.304Z"
   },
   {
    "duration": 41,
    "start_time": "2022-12-23T08:43:22.064Z"
   },
   {
    "duration": 8,
    "start_time": "2022-12-23T08:43:22.637Z"
   },
   {
    "duration": 5,
    "start_time": "2022-12-23T08:44:31.871Z"
   },
   {
    "duration": 5,
    "start_time": "2022-12-23T08:44:37.478Z"
   },
   {
    "duration": 5,
    "start_time": "2022-12-23T08:44:39.999Z"
   },
   {
    "duration": 6,
    "start_time": "2022-12-23T08:44:49.096Z"
   },
   {
    "duration": 60,
    "start_time": "2022-12-23T08:44:50.639Z"
   },
   {
    "duration": 55,
    "start_time": "2022-12-23T08:44:54.511Z"
   },
   {
    "duration": 8,
    "start_time": "2022-12-23T08:44:55.432Z"
   },
   {
    "duration": 84,
    "start_time": "2022-12-23T08:45:11.775Z"
   },
   {
    "duration": 450,
    "start_time": "2022-12-23T08:45:12.687Z"
   },
   {
    "duration": 8,
    "start_time": "2022-12-23T08:45:16.431Z"
   }
  ],
  "kernelspec": {
   "display_name": "Python 3 (ipykernel)",
   "language": "python",
   "name": "python3"
  },
  "language_info": {
   "codemirror_mode": {
    "name": "ipython",
    "version": 3
   },
   "file_extension": ".py",
   "mimetype": "text/x-python",
   "name": "python",
   "nbconvert_exporter": "python",
   "pygments_lexer": "ipython3",
   "version": "3.9.7"
  },
  "toc": {
   "base_numbering": 1,
   "nav_menu": {},
   "number_sections": true,
   "sideBar": true,
   "skip_h1_title": true,
   "title_cell": "Содержание",
   "title_sidebar": "Contents",
   "toc_cell": true,
   "toc_position": {
    "height": "calc(100% - 180px)",
    "left": "10px",
    "top": "150px",
    "width": "165px"
   },
   "toc_section_display": true,
   "toc_window_display": false
  }
 },
 "nbformat": 4,
 "nbformat_minor": 2
}
